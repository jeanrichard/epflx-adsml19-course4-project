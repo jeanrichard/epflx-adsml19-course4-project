{
 "cells": [
  {
   "cell_type": "markdown",
   "metadata": {},
   "source": [
    "# Course 4 - Project - Part 8: Convolutional neural network"
   ]
  },
  {
   "cell_type": "markdown",
   "metadata": {},
   "source": [
    "<a name=\"top-8\"></a>\n",
    "This notebook is concerned with *Part 8: Convolutional neural network*.\n",
    "\n",
    "**Contents:**\n",
    "* [Step 0: Loading data](#step-8.0)\n",
    "* [Step 1: Convolutional neural network](#step-8.1)"
   ]
  },
  {
   "cell_type": "markdown",
   "metadata": {},
   "source": [
    "## Step 0: Loading data<a name=\"step-7.0\"></a> ([top](#top-7))\n",
    "---"
   ]
  },
  {
   "cell_type": "markdown",
   "metadata": {},
   "source": [
    "We load the training set with the extracted high-level features."
   ]
  },
  {
   "cell_type": "code",
   "execution_count": 1,
   "metadata": {},
   "outputs": [],
   "source": [
    "# Standard library.\n",
    "import os\n",
    "import pathlib\n",
    "import typing as T\n",
    "\n",
    "# 3rd party.\n",
    "import numpy as np\n",
    "\n",
    "# Project.\n",
    "import utils"
   ]
  },
  {
   "cell_type": "code",
   "execution_count": 2,
   "metadata": {},
   "outputs": [
    {
     "name": "stdout",
     "output_type": "stream",
     "text": [
      "--------------------------------------------------------------------------------\n",
      "Dataset: train\n",
      "data: shape=(280, 224, 224, 3), dtype=float32\n",
      "label_idxs: shape=(280,), dtype=int64\n",
      "label_strs: shape=(6,), dtype=<U10\n",
      "names: shape=(280,), dtype=<U19\n",
      "features: shape=(280, 1280), dtype=float32\n",
      "--------------------------------------------------------------------------------\n",
      "Dataset: valid\n",
      "data: shape=(139, 224, 224, 3), dtype=float32\n",
      "label_idxs: shape=(139,), dtype=int64\n",
      "label_strs: shape=(6,), dtype=<U10\n",
      "names: shape=(139,), dtype=<U19\n",
      "features: shape=(139, 1280), dtype=float32\n",
      "--------------------------------------------------------------------------------\n",
      "Dataset: test\n",
      "data: shape=(50, 224, 224, 3), dtype=float32\n",
      "label_idxs: shape=(50,), dtype=int64\n",
      "label_strs: shape=(6,), dtype=<U10\n",
      "names: shape=(50,), dtype=<U19\n",
      "features: shape=(50, 1280), dtype=float32\n"
     ]
    }
   ],
   "source": [
    "separator = ''.center(80, '-')\n",
    "\n",
    "path_train = pathlib.Path.cwd() / 'data' / 'swissroads-features-train.npz'\n",
    "data_train = utils.load(path_train)\n",
    "print(separator)\n",
    "print(f'Dataset: train\\n{utils.info(data_train)}')\n",
    "\n",
    "path_valid = pathlib.Path.cwd() / 'data' / 'swissroads-features-valid.npz'\n",
    "data_valid = utils.load(path_valid)\n",
    "print(separator)\n",
    "print(f'Dataset: valid\\n{utils.info(data_valid)}')\n",
    "\n",
    "path_test = pathlib.Path.cwd() / 'data' / 'swissroads-features-test.npz'\n",
    "data_test = utils.load(path_test)\n",
    "print(separator)\n",
    "print(f'Dataset: test\\n{utils.info(data_test)}')"
   ]
  },
  {
   "cell_type": "code",
   "execution_count": 3,
   "metadata": {},
   "outputs": [],
   "source": [
    "label_strs = data_train['label_strs']  # Same for all data sets.\n",
    "assert (\n",
    "    np.all(data_train['label_strs'] == data_valid['label_strs']) and\n",
    "    np.all(data_train['label_strs'] == data_test['label_strs'])\n",
    ")\n",
    "\n",
    "X_train = data_train['data']\n",
    "y_train = data_train['label_idxs']\n",
    "F_train = data_train['features']\n",
    "N_train = data_train['names']\n",
    "\n",
    "X_valid = data_valid['data']\n",
    "y_valid = data_valid['label_idxs']\n",
    "F_valid = data_valid['features']\n",
    "N_valid = data_train['names']\n",
    "\n",
    "X_test = data_test['data']\n",
    "y_test = data_test['label_idxs']\n",
    "F_test = data_test['features']\n",
    "N_test = data_test['names']"
   ]
  },
  {
   "cell_type": "markdown",
   "metadata": {},
   "source": [
    "We fix the seed for the PRNG in order to make computations deterministic."
   ]
  },
  {
   "cell_type": "code",
   "execution_count": 4,
   "metadata": {},
   "outputs": [],
   "source": [
    "RANDOM_SEED = 0"
   ]
  },
  {
   "cell_type": "markdown",
   "metadata": {},
   "source": [
    "## Step 1: Convolutional neural network<a name=\"step-8.1\"></a> ([top](#top-8))\n",
    "---"
   ]
  },
  {
   "cell_type": "code",
   "execution_count": 5,
   "metadata": {},
   "outputs": [],
   "source": [
    "import pandas as pd\n",
    "import tensorflow as tf\n",
    "import tensorflow.keras as keras\n",
    "from sklearn.model_selection import ParameterGrid\n",
    "from sklearn.utils.class_weight import compute_class_weight\n",
    "from tensorflow.keras import activations\n",
    "from tensorflow.keras import initializers\n",
    "from tensorflow.keras import layers\n",
    "from tensorflow.keras import losses\n",
    "from tensorflow.keras import metrics\n",
    "from tensorflow.keras import optimizers"
   ]
  },
  {
   "cell_type": "markdown",
   "metadata": {},
   "source": [
    "We build the model from Subject 08 - Unit 06."
   ]
  },
  {
   "cell_type": "code",
   "execution_count": 73,
   "metadata": {},
   "outputs": [],
   "source": [
    "def build_model(dropout_rate: float = 0.5,\n",
    "                l2_alpha: float=0.01):\n",
    "    \"\"\"\\\n",
    "    Builds, compiles and returns a Keras model.\n",
    "\n",
    "    .. seealso:: https://keras.io/scikit-learn-api/\n",
    "    \"\"\"    \n",
    "    # Create model.\n",
    "    model = keras.Sequential()\n",
    "\n",
    "    # Input layer with 256 x 256 RGB images.\n",
    "    model.add(layers.InputLayer(input_shape=(256, 256, 3)))\n",
    "    \n",
    "    #\n",
    "    # 2 Convolutional/max-pooling layers.\n",
    "    #\n",
    "              \n",
    "    # Convolutional layer - 64 filters, kernel: 5 x 5, stride: 2 x 2, padding: \"same\", activation: ReLU.\n",
    "    model.add(layers.Conv2D(filters=64, kernel_size=10, strides=5, padding='same', activation='relu'))\n",
    "\n",
    "    # Maxpool layer - pool-size: 2 x 2, strides: 2 x 2, padding: \"same\".\n",
    "    model.add(layers.MaxPooling2D(pool_size=2, strides=2, padding='same'))\n",
    "              \n",
    "    # Convolutional layer - 64 filters, kernel: 3 x 3, stride: 1 x 1, padding: \"same\", activation: ReLU.\n",
    "    model.add(layers.Conv2D(filters=64, kernel_size=5, strides=1, padding='same', activation='relu'))\n",
    "    \n",
    "    # Maxpool layer - pool-size: 2 x 2, stride: 2 x 2, padding: \"same\".\n",
    "    model.add(layers.MaxPooling2D(pool_size=2, strides=2, padding='same'))\n",
    "\n",
    "    #\n",
    "    # Dropout, 2 fully connected layers.\n",
    "    #\n",
    "    \n",
    "    model.add(layers.Flatten())     \n",
    "    model.add(layers.Dropout(dropout_rate, seed=RANDOM_SEED))\n",
    "\n",
    "    model.add(layers.Dense(\n",
    "        units=512, activation='relu',\n",
    "        kernel_initializer=initializers.VarianceScaling(scale=2.0, seed=RANDOM_SEED),\n",
    "        kernel_regularizer=keras.regularizers.l2(l=l2_alpha)))\n",
    "\n",
    "    # Output layer.\n",
    "    model.add(layers.Dense(\n",
    "        units=6, activation='softmax',\n",
    "        kernel_initializer=initializers.VarianceScaling(scale=1.0, seed=RANDOM_SEED),\n",
    "        kernel_regularizer=keras.regularizers.l2(l=l2_alpha)))\n",
    "\n",
    "    # Compile the model.\n",
    "    model.compile(\n",
    "        optimizer=optimizers.Adam(),  # use defaults\n",
    "        loss=losses.categorical_crossentropy,\n",
    "        metrics=['acc']\n",
    "    )\n",
    "\n",
    "    return model"
   ]
  },
  {
   "cell_type": "code",
   "execution_count": 74,
   "metadata": {},
   "outputs": [],
   "source": [
    "model = build_model()"
   ]
  },
  {
   "cell_type": "code",
   "execution_count": 75,
   "metadata": {},
   "outputs": [
    {
     "name": "stdout",
     "output_type": "stream",
     "text": [
      "_________________________________________________________________\n",
      "Layer (type)                 Output Shape              Param #   \n",
      "=================================================================\n",
      "conv2d_16 (Conv2D)           (None, 52, 52, 128)       38528     \n",
      "_________________________________________________________________\n",
      "max_pooling2d_16 (MaxPooling (None, 26, 26, 128)       0         \n",
      "_________________________________________________________________\n",
      "conv2d_17 (Conv2D)           (None, 26, 26, 128)       409728    \n",
      "_________________________________________________________________\n",
      "max_pooling2d_17 (MaxPooling (None, 13, 13, 128)       0         \n",
      "_________________________________________________________________\n",
      "flatten_8 (Flatten)          (None, 21632)             0         \n",
      "_________________________________________________________________\n",
      "dropout_8 (Dropout)          (None, 21632)             0         \n",
      "_________________________________________________________________\n",
      "dense_16 (Dense)             (None, 512)               11076096  \n",
      "_________________________________________________________________\n",
      "dense_17 (Dense)             (None, 6)                 3078      \n",
      "=================================================================\n",
      "Total params: 11,527,430\n",
      "Trainable params: 11,527,430\n",
      "Non-trainable params: 0\n",
      "_________________________________________________________________\n"
     ]
    }
   ],
   "source": [
    "model.summary()"
   ]
  },
  {
   "cell_type": "code",
   "execution_count": 76,
   "metadata": {},
   "outputs": [],
   "source": [
    "# Standard library.\n",
    "import pathlib\n",
    "\n",
    "# 3rd party.\n",
    "from tensorflow.keras.preprocessing.image import ImageDataGenerator"
   ]
  },
  {
   "cell_type": "markdown",
   "metadata": {},
   "source": [
    "We apply the following data augmentation."
   ]
  },
  {
   "cell_type": "code",
   "execution_count": 77,
   "metadata": {},
   "outputs": [
    {
     "name": "stdout",
     "output_type": "stream",
     "text": [
      "Found 280 images belonging to 6 classes.\n",
      "Found 139 images belonging to 6 classes.\n",
      "Found 50 images belonging to 6 classes.\n"
     ]
    }
   ],
   "source": [
    "# Create image generator\n",
    "train_generator = ImageDataGenerator(\n",
    "    rescale=1/255, \n",
    "    # Augmentations:\n",
    "    rotation_range=10,  # ±10 degrees\n",
    "    width_shift_range=0.1,  # ±10%\n",
    "    height_shift_range=0.1,  # ±10%\n",
    "    brightness_range=(0.8, 1.2),  # 80% (darker) to 120% (brighter)\n",
    "    zoom_range=(0.8, 1.2),  # 80% (zoom in) to 120% (zoom out)\n",
    "    fill_mode='nearest',\n",
    "    horizontal_flip=True,\n",
    "    validation_split=0.0\n",
    ")\n",
    "\n",
    "# Training, validation and test sets.\n",
    "base_path = pathlib.Path.cwd() / 'data' / 'swissroads'\n",
    "assert base_path.is_dir()\n",
    "\n",
    "train_set = train_generator.flow_from_directory(\n",
    "    base_path / 'train', batch_size=32, target_size=(256, 256), shuffle=True, seed=RANDOM_SEED)\n",
    "valid_set = train_generator.flow_from_directory(\n",
    "    base_path / 'valid', batch_size=32, target_size=(256, 256), shuffle=False)\n",
    "test_set = test_generator.flow_from_directory(\n",
    "    base_path / 'test', batch_size=32, target_size=(256, 256), shuffle=False)"
   ]
  },
  {
   "cell_type": "code",
   "execution_count": 78,
   "metadata": {},
   "outputs": [
    {
     "data": {
      "text/plain": [
       "6"
      ]
     },
     "execution_count": 78,
     "metadata": {},
     "output_type": "execute_result"
    }
   ],
   "source": [
    "train_set.num_classes"
   ]
  },
  {
   "cell_type": "code",
   "execution_count": 79,
   "metadata": {},
   "outputs": [
    {
     "data": {
      "text/plain": [
       "{'bike': 0, 'car': 1, 'motorcycle': 2, 'other': 3, 'truck': 4, 'van': 5}"
      ]
     },
     "execution_count": 79,
     "metadata": {},
     "output_type": "execute_result"
    }
   ],
   "source": [
    "train_set.class_indices"
   ]
  },
  {
   "cell_type": "code",
   "execution_count": 80,
   "metadata": {},
   "outputs": [
    {
     "name": "stdout",
     "output_type": "stream",
     "text": [
      "Epoch 1/100\n",
      "9/9 [==============================] - 11s 1s/step - loss: 8.6759 - acc: 0.2061 - val_loss: 5.1802 - val_acc: 0.2302\n",
      "Epoch 2/100\n",
      "9/9 [==============================] - 8s 907ms/step - loss: 3.9014 - acc: 0.2382 - val_loss: 2.9301 - val_acc: 0.2230\n",
      "Epoch 3/100\n",
      "9/9 [==============================] - 8s 904ms/step - loss: 2.6236 - acc: 0.2469 - val_loss: 2.3433 - val_acc: 0.2374\n",
      "Epoch 4/100\n",
      "9/9 [==============================] - 8s 896ms/step - loss: 2.2247 - acc: 0.2479 - val_loss: 2.0794 - val_acc: 0.3309\n",
      "Epoch 5/100\n",
      "9/9 [==============================] - 8s 894ms/step - loss: 2.0016 - acc: 0.3465 - val_loss: 1.8782 - val_acc: 0.3165\n",
      "Epoch 6/100\n",
      "9/9 [==============================] - 8s 902ms/step - loss: 1.8374 - acc: 0.3719 - val_loss: 1.7499 - val_acc: 0.4029\n",
      "Epoch 7/100\n",
      "9/9 [==============================] - 8s 908ms/step - loss: 1.7538 - acc: 0.3750 - val_loss: 1.7764 - val_acc: 0.3165\n",
      "Epoch 8/100\n",
      "9/9 [==============================] - 8s 921ms/step - loss: 1.7292 - acc: 0.4004 - val_loss: 1.7821 - val_acc: 0.3309\n",
      "Epoch 9/100\n",
      "9/9 [==============================] - 8s 909ms/step - loss: 1.6574 - acc: 0.4300 - val_loss: 1.7127 - val_acc: 0.4101\n",
      "Epoch 10/100\n",
      "9/9 [==============================] - 8s 920ms/step - loss: 1.6265 - acc: 0.4732 - val_loss: 1.6888 - val_acc: 0.4676\n",
      "Epoch 11/100\n",
      "9/9 [==============================] - 8s 915ms/step - loss: 1.6473 - acc: 0.4568 - val_loss: 1.6945 - val_acc: 0.4676\n",
      "Epoch 12/100\n",
      "9/9 [==============================] - 8s 916ms/step - loss: 1.5924 - acc: 0.4892 - val_loss: 1.7020 - val_acc: 0.4029\n",
      "Epoch 13/100\n",
      "9/9 [==============================] - 8s 904ms/step - loss: 1.5843 - acc: 0.4767 - val_loss: 1.5964 - val_acc: 0.5108\n",
      "Epoch 14/100\n",
      "9/9 [==============================] - 8s 910ms/step - loss: 1.6227 - acc: 0.4687 - val_loss: 1.6698 - val_acc: 0.4173\n",
      "Epoch 15/100\n",
      "9/9 [==============================] - 8s 918ms/step - loss: 1.5371 - acc: 0.4882 - val_loss: 1.5720 - val_acc: 0.4892\n",
      "Epoch 16/100\n",
      "9/9 [==============================] - 8s 905ms/step - loss: 1.5419 - acc: 0.4899 - val_loss: 1.6045 - val_acc: 0.5396\n",
      "Epoch 17/100\n",
      "9/9 [==============================] - 8s 907ms/step - loss: 1.5468 - acc: 0.5191 - val_loss: 1.5477 - val_acc: 0.5540\n",
      "Epoch 18/100\n",
      "9/9 [==============================] - 8s 911ms/step - loss: 1.5528 - acc: 0.4944 - val_loss: 1.6516 - val_acc: 0.4748\n",
      "Epoch 19/100\n",
      "9/9 [==============================] - 8s 903ms/step - loss: 1.5408 - acc: 0.5508 - val_loss: 1.6439 - val_acc: 0.4604\n",
      "Epoch 20/100\n",
      "9/9 [==============================] - 8s 903ms/step - loss: 1.5524 - acc: 0.5324 - val_loss: 1.6497 - val_acc: 0.5036\n",
      "Epoch 21/100\n",
      "9/9 [==============================] - 8s 910ms/step - loss: 1.4554 - acc: 0.5637 - val_loss: 1.6317 - val_acc: 0.4748\n",
      "Epoch 22/100\n",
      "9/9 [==============================] - 8s 901ms/step - loss: 1.5004 - acc: 0.5637 - val_loss: 1.5416 - val_acc: 0.5540\n",
      "Epoch 23/100\n",
      "9/9 [==============================] - 8s 897ms/step - loss: 1.5360 - acc: 0.5390 - val_loss: 1.4850 - val_acc: 0.5755\n",
      "Epoch 24/100\n",
      "9/9 [==============================] - 8s 910ms/step - loss: 1.4525 - acc: 0.6003 - val_loss: 1.6756 - val_acc: 0.4604\n",
      "Epoch 25/100\n",
      "9/9 [==============================] - 8s 903ms/step - loss: 1.4656 - acc: 0.5627 - val_loss: 1.5640 - val_acc: 0.5324\n",
      "Epoch 26/100\n",
      "9/9 [==============================] - 8s 914ms/step - loss: 1.4463 - acc: 0.6083 - val_loss: 1.6193 - val_acc: 0.5252\n",
      "Epoch 27/100\n",
      "9/9 [==============================] - 8s 892ms/step - loss: 1.4909 - acc: 0.5937 - val_loss: 1.6295 - val_acc: 0.5036\n",
      "Epoch 28/100\n",
      "9/9 [==============================] - 8s 897ms/step - loss: 1.3344 - acc: 0.6219 - val_loss: 1.6456 - val_acc: 0.5683\n",
      "Epoch 29/100\n",
      "9/9 [==============================] - 8s 899ms/step - loss: 1.4167 - acc: 0.6316 - val_loss: 1.6532 - val_acc: 0.5252\n",
      "Epoch 30/100\n",
      "9/9 [==============================] - 8s 904ms/step - loss: 1.4394 - acc: 0.6400 - val_loss: 1.6525 - val_acc: 0.4964\n",
      "Epoch 31/100\n",
      "9/9 [==============================] - 8s 902ms/step - loss: 1.4276 - acc: 0.6006 - val_loss: 1.5849 - val_acc: 0.5396\n",
      "Epoch 32/100\n",
      "9/9 [==============================] - 8s 901ms/step - loss: 1.3914 - acc: 0.6438 - val_loss: 1.6541 - val_acc: 0.5396\n",
      "Epoch 33/100\n",
      "9/9 [==============================] - 8s 898ms/step - loss: 1.3558 - acc: 0.6215 - val_loss: 1.5137 - val_acc: 0.5683\n"
     ]
    }
   ],
   "source": [
    "# Trick: end training when accuracy stops improving (optional)\n",
    "early_stopping = keras.callbacks.EarlyStopping(monitor='val_loss', patience=10)\n",
    "\n",
    "# Train model\n",
    "history = model.fit_generator(\n",
    "    generator=train_set, validation_data=valid_set, epochs=100, callbacks=[early_stopping])"
   ]
  },
  {
   "cell_type": "code",
   "execution_count": 82,
   "metadata": {},
   "outputs": [
    {
     "data": {
      "image/png": "[encoded data removed]",
      "text/plain": [
       "<Figure size 864x288 with 2 Axes>"
      ]
     },
     "metadata": {
      "needs_background": "light"
     },
     "output_type": "display_data"
    }
   ],
   "source": [
    "%matplotlib inline\n",
    "import matplotlib.pyplot as plt\n",
    "\n",
    "fig, (ax1, ax2) = plt.subplots(nrows=1, ncols=2, figsize=(12, 4))\n",
    "\n",
    "# Plot loss values\n",
    "ax1.set_title('loss: {:.4f}'.format(history.history['val_loss'][-1]))\n",
    "ax1.plot(history.history['val_loss'], label='validation')\n",
    "ax1.plot(history.history['loss'], label='training')\n",
    "ax1.legend()\n",
    "\n",
    "# plot accuracy values\n",
    "ax2.set_title('accuracy: {:.2f}%'.format(history.history['val_acc'][-1]*100))\n",
    "ax2.plot(history.history['val_acc'], label='validation')\n",
    "ax2.plot(history.history['acc'], label='training')\n",
    "ax2.legend()\n",
    "\n",
    "plt.show()"
   ]
  },
  {
   "cell_type": "code",
   "execution_count": null,
   "metadata": {},
   "outputs": [],
   "source": []
  }
 ],
 "metadata": {
  "kernelspec": {
   "display_name": "Python 3",
   "language": "python",
   "name": "python3"
  },
  "language_info": {
   "codemirror_mode": {
    "name": "ipython",
    "version": 3
   },
   "file_extension": ".py",
   "mimetype": "text/x-python",
   "name": "python",
   "nbconvert_exporter": "python",
   "pygments_lexer": "ipython3",
   "version": "3.6.9"
  }
 },
 "nbformat": 4,
 "nbformat_minor": 2
}
