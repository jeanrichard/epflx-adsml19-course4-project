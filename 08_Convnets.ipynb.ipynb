{
 "cells": [
  {
   "cell_type": "markdown",
   "metadata": {},
   "source": [
    "# Course 4 - Project - Part 8: Convolutional neural network"
   ]
  },
  {
   "cell_type": "markdown",
   "metadata": {},
   "source": [
    "<a name=\"top-8\"></a>\n",
    "This notebook is concerned with *Part 8: Convolutional neural network*.\n",
    "\n",
    "**Contents:**\n",
    "* [Step 0: Loading data](#step-8.0)\n",
    "* [Step 1: Convolutional neural network](#step-8.1)"
   ]
  },
  {
   "cell_type": "markdown",
   "metadata": {},
   "source": [
    "## Step 0: Loading data<a name=\"step-7.0\"></a> ([top](#top-7))\n",
    "---"
   ]
  },
  {
   "cell_type": "markdown",
   "metadata": {},
   "source": [
    "We begin with some imports."
   ]
  },
  {
   "cell_type": "code",
   "execution_count": 28,
   "metadata": {},
   "outputs": [],
   "source": [
    "# Standard library.\n",
    "import pathlib\n",
    "import typing as T\n",
    "\n",
    "# 3rd party.\n",
    "%matplotlib inline\n",
    "import numpy as np\n",
    "import pandas as pd\n",
    "import matplotlib.pyplot as plt\n",
    "\n",
    "# Project.\n",
    "import utils"
   ]
  },
  {
   "cell_type": "markdown",
   "metadata": {},
   "source": [
    "We will fix the seed for the PRNG in order to make computations deterministic."
   ]
  },
  {
   "cell_type": "code",
   "execution_count": 29,
   "metadata": {},
   "outputs": [],
   "source": [
    "RANDOM_SEED = 0"
   ]
  },
  {
   "cell_type": "markdown",
   "metadata": {},
   "source": [
    "## Step 1: Convolutional neural network<a name=\"step-8.1\"></a> ([top](#top-8))\n",
    "---"
   ]
  },
  {
   "cell_type": "markdown",
   "metadata": {},
   "source": [
    "We begin with some imports."
   ]
  },
  {
   "cell_type": "code",
   "execution_count": 30,
   "metadata": {},
   "outputs": [],
   "source": [
    "import tensorflow as tf\n",
    "import tensorflow.keras as keras\n",
    "from sklearn.model_selection import ParameterGrid\n",
    "from sklearn.utils.class_weight import compute_class_weight\n",
    "from tensorflow.keras import activations\n",
    "from tensorflow.keras import initializers\n",
    "from tensorflow.keras import layers\n",
    "from tensorflow.keras import losses\n",
    "from tensorflow.keras import metrics\n",
    "from tensorflow.keras import optimizers"
   ]
  },
  {
   "cell_type": "markdown",
   "metadata": {},
   "source": [
    "**Note:** After some trying and tweaking, we decide to use the design of the model from _Subject 08 - Unit 06_. The only change is that we increase the number of hidden neurons from 256 to 1024."
   ]
  },
  {
   "cell_type": "code",
   "execution_count": 31,
   "metadata": {},
   "outputs": [],
   "source": [
    "def build_model(input_shape: T.Tuple[int, int, int],\n",
    "                dropout_rate: float = 0.5,\n",
    "                l2_alpha: float=0.01):\n",
    "    \"\"\"\\\n",
    "    Builds, compiles and returns a Keras model.\n",
    "\n",
    "    .. seealso:: https://keras.io/scikit-learn-api/\n",
    "    \"\"\"    \n",
    "    # Create model.\n",
    "    model = keras.Sequential()\n",
    "\n",
    "    # Input layer with ? x ? x 3 RGB images.\n",
    "    model.add(layers.InputLayer(input_shape=input_shape))\n",
    "    \n",
    "    #\n",
    "    # 2 Convolutional/max-pooling layers.\n",
    "    #\n",
    "              \n",
    "    # Convolutional layer - 64 filters, kernel: 5 x 5, stride: 2 x 2, padding: \"same\", activation: ReLU.\n",
    "    model.add(layers.Conv2D(filters=64, kernel_size=5, strides=2, padding='same', activation='relu'))\n",
    "\n",
    "    # Maxpool layer - pool-size: 2 x 2, strides: 2 x 2, padding: \"same\".\n",
    "    model.add(layers.MaxPooling2D(pool_size=2, strides=2, padding='same'))\n",
    "              \n",
    "    # Convolutional layer - 64 filters, kernel: 3 x 3, stride: 1 x 1, padding: \"same\", activation: ReLU.\n",
    "    model.add(layers.Conv2D(filters=64, kernel_size=3, strides=1, padding='same', activation='relu'))\n",
    "    \n",
    "    # Maxpool layer - pool-size: 2 x 2, stride: 2 x 2, padding: \"same\".\n",
    "    model.add(layers.MaxPooling2D(pool_size=2, strides=2, padding='same'))\n",
    "\n",
    "    #\n",
    "    # Dropout, 2 fully connected layers.\n",
    "    #\n",
    "    \n",
    "    model.add(layers.Flatten())     \n",
    "    model.add(layers.Dropout(dropout_rate, seed=RANDOM_SEED))\n",
    "\n",
    "    model.add(layers.Dense(\n",
    "        units=1024, activation='relu',\n",
    "        kernel_initializer=initializers.VarianceScaling(scale=2.0, seed=RANDOM_SEED),\n",
    "        kernel_regularizer=keras.regularizers.l2(l=l2_alpha)))\n",
    "\n",
    "    # Output layer.\n",
    "    model.add(layers.Dense(\n",
    "        units=6, activation='softmax',\n",
    "        kernel_initializer=initializers.VarianceScaling(scale=1.0, seed=RANDOM_SEED),\n",
    "        kernel_regularizer=keras.regularizers.l2(l=l2_alpha)))\n",
    "\n",
    "    # Compile the model.\n",
    "    model.compile(\n",
    "        optimizer=optimizers.Adam(),  # use defaults\n",
    "        loss=losses.categorical_crossentropy,\n",
    "        metrics=['acc']\n",
    "    )\n",
    "\n",
    "    return model"
   ]
  },
  {
   "cell_type": "markdown",
   "metadata": {},
   "source": [
    "**Note:**  In order to reduce the number of parameters in the classifier part of the model, we decide to resize images from 256 x 256 pixels down to 128 x 128 pixels. Since image are resized but kernel sizes stay the same, this must also impact the NN part of the model somewhow."
   ]
  },
  {
   "cell_type": "code",
   "execution_count": 32,
   "metadata": {},
   "outputs": [],
   "source": [
    "input_shape_2d = (128, 128)\n",
    "input_shape = tuple([*input_shape_2d, 3])"
   ]
  },
  {
   "cell_type": "markdown",
   "metadata": {},
   "source": [
    "We will apply the following data augmentations."
   ]
  },
  {
   "cell_type": "code",
   "execution_count": 33,
   "metadata": {},
   "outputs": [],
   "source": [
    "AUGMENTATIONS = dict(\n",
    "    rotation_range=15,  # ±15 degrees\n",
    "    width_shift_range=0.15,  # ±15%\n",
    "    height_shift_range=0.15,  # ±15%\n",
    "    brightness_range=(0.75, 1.25),  # 75% (darker) to 125% (brighter)\n",
    "    zoom_range=(0.75, 1.25),  # 75% (zoom in) to 125% (zoom out)\n",
    "    fill_mode='nearest',\n",
    "    horizontal_flip=True\n",
    ")"
   ]
  },
  {
   "cell_type": "code",
   "execution_count": 34,
   "metadata": {},
   "outputs": [],
   "source": [
    "# We train from the pixels.\n",
    "base_path = pathlib.Path.cwd() / 'data' / 'swissroads'\n",
    "assert base_path.is_dir()"
   ]
  },
  {
   "cell_type": "markdown",
   "metadata": {},
   "source": [
    "### Training on _train_ only"
   ]
  },
  {
   "cell_type": "markdown",
   "metadata": {},
   "source": [
    "We begin with some imports."
   ]
  },
  {
   "cell_type": "code",
   "execution_count": 35,
   "metadata": {},
   "outputs": [],
   "source": [
    "# 3rd party.\n",
    "from tensorflow.keras.callbacks import History\n",
    "from tensorflow.keras.preprocessing.image import ImageDataGenerator"
   ]
  },
  {
   "cell_type": "markdown",
   "metadata": {},
   "source": [
    "**Note:** For the the validation set, we decide to use the generator that does _not_ apply augmentations."
   ]
  },
  {
   "cell_type": "code",
   "execution_count": 36,
   "metadata": {},
   "outputs": [],
   "source": [
    "def plot_learning_curves(history):\n",
    "    \"\"\"\\\n",
    "    Plosts the learning curves.\n",
    "    \"\"\"\n",
    "    fig, (ax1, ax2) = plt.subplots(nrows=1, ncols=2, figsize=(12, 4))\n",
    "\n",
    "    # Plot loss values.\n",
    "    ax1.set_title('loss: {:.4f}'.format(history.history['val_loss'][-1]))\n",
    "    ax1.plot(history.history['val_loss'], label='validation')\n",
    "    ax1.plot(history.history['loss'], label='training')\n",
    "    ax1.legend()\n",
    "\n",
    "    # Plot accuracy values.\n",
    "    ax2.set_title('accuracy: {:.2f}%'.format(history.history['val_acc'][-1]*100))\n",
    "    ax2.plot(history.history['val_acc'], label='validation')\n",
    "    ax2.plot(history.history['acc'], label='training')\n",
    "    ax2.legend()\n",
    "\n",
    "    plt.show()"
   ]
  },
  {
   "cell_type": "code",
   "execution_count": 37,
   "metadata": {},
   "outputs": [],
   "source": [
    "def train_and_evaluate(model: keras.Model) -> T.Tuple[History, T.Mapping[str, float]]:\n",
    "\n",
    "    # Image generator with augmentations for training.\n",
    "    train_generator = ImageDataGenerator(rescale=1/255, **AUGMENTATIONS)\n",
    "    # Image generator without augmentations for validation and test.\n",
    "    test_generator = ImageDataGenerator(rescale=1/255)\n",
    "\n",
    "    train_set = train_generator.flow_from_directory(\n",
    "        base_path / 'train', batch_size=32, target_size=input_shape_2d, shuffle=True, seed=RANDOM_SEED, interpolation='bicubic')\n",
    "    valid_set = test_generator.flow_from_directory(\n",
    "        base_path / 'valid', batch_size=32, target_size=input_shape_2d, shuffle=False, interpolation='bicubic')\n",
    "    test_set = test_generator.flow_from_directory(\n",
    "        base_path / 'test', batch_size=32, target_size=input_shape_2d, shuffle=False, interpolation='bicubic')\n",
    "    \n",
    "    # Trick: end training when accuracy stops improving (optional).\n",
    "    early_stopping = keras.callbacks.EarlyStopping(monitor='val_loss', patience=10)\n",
    "\n",
    "    # Train the model.\n",
    "    history = model.fit_generator(\n",
    "        generator=train_set, validation_data=valid_set, epochs=100, callbacks=[early_stopping])\n",
    "    \n",
    "    # Evaluate the model.\n",
    "    results = dict(zip(model.metrics_names, model.evaluate_generator(test_set)))\n",
    "    \n",
    "    return history, results"
   ]
  },
  {
   "cell_type": "code",
   "execution_count": 38,
   "metadata": {},
   "outputs": [],
   "source": [
    "dropout_rate = 0.5\n",
    "l2_alpha = 0.001"
   ]
  },
  {
   "cell_type": "code",
   "execution_count": 39,
   "metadata": {},
   "outputs": [
    {
     "name": "stdout",
     "output_type": "stream",
     "text": [
      "_________________________________________________________________\n",
      "Layer (type)                 Output Shape              Param #   \n",
      "=================================================================\n",
      "conv2d_6 (Conv2D)            (None, 64, 64, 64)        4864      \n",
      "_________________________________________________________________\n",
      "max_pooling2d_6 (MaxPooling2 (None, 32, 32, 64)        0         \n",
      "_________________________________________________________________\n",
      "conv2d_7 (Conv2D)            (None, 32, 32, 64)        36928     \n",
      "_________________________________________________________________\n",
      "max_pooling2d_7 (MaxPooling2 (None, 16, 16, 64)        0         \n",
      "_________________________________________________________________\n",
      "flatten_3 (Flatten)          (None, 16384)             0         \n",
      "_________________________________________________________________\n",
      "dropout_3 (Dropout)          (None, 16384)             0         \n",
      "_________________________________________________________________\n",
      "dense_6 (Dense)              (None, 1024)              16778240  \n",
      "_________________________________________________________________\n",
      "dense_7 (Dense)              (None, 6)                 6150      \n",
      "=================================================================\n",
      "Total params: 16,826,182\n",
      "Trainable params: 16,826,182\n",
      "Non-trainable params: 0\n",
      "_________________________________________________________________\n",
      "Found 280 images belonging to 6 classes.\n",
      "Found 139 images belonging to 6 classes.\n",
      "Found 50 images belonging to 6 classes.\n",
      "Epoch 1/100\n",
      "9/9 [==============================] - 5s 583ms/step - loss: 3.6411 - acc: 0.2301 - val_loss: 3.1404 - val_acc: 0.2302\n",
      "Epoch 2/100\n",
      "9/9 [==============================] - 3s 319ms/step - loss: 2.9405 - acc: 0.2152 - val_loss: 2.6705 - val_acc: 0.2518\n",
      "Epoch 3/100\n",
      "9/9 [==============================] - 3s 339ms/step - loss: 2.5196 - acc: 0.2852 - val_loss: 2.3382 - val_acc: 0.3237\n",
      "Epoch 4/100\n",
      "9/9 [==============================] - 3s 339ms/step - loss: 2.2817 - acc: 0.3231 - val_loss: 2.2041 - val_acc: 0.2446\n",
      "Epoch 5/100\n",
      "9/9 [==============================] - 3s 361ms/step - loss: 2.0839 - acc: 0.3830 - val_loss: 1.9807 - val_acc: 0.3669\n",
      "Epoch 6/100\n",
      "9/9 [==============================] - 3s 349ms/step - loss: 1.8759 - acc: 0.4241 - val_loss: 1.8229 - val_acc: 0.3885\n",
      "Epoch 7/100\n",
      "9/9 [==============================] - 3s 352ms/step - loss: 1.8344 - acc: 0.3983 - val_loss: 1.6662 - val_acc: 0.4676\n",
      "Epoch 8/100\n",
      "9/9 [==============================] - 3s 355ms/step - loss: 1.7655 - acc: 0.4157 - val_loss: 1.7034 - val_acc: 0.4748\n",
      "Epoch 9/100\n",
      "9/9 [==============================] - 3s 355ms/step - loss: 1.7389 - acc: 0.4377 - val_loss: 1.5814 - val_acc: 0.4892\n",
      "Epoch 10/100\n",
      "9/9 [==============================] - 3s 347ms/step - loss: 1.6610 - acc: 0.4450 - val_loss: 1.5282 - val_acc: 0.5108\n",
      "Epoch 11/100\n",
      "9/9 [==============================] - 3s 361ms/step - loss: 1.6258 - acc: 0.4756 - val_loss: 1.5569 - val_acc: 0.5468\n",
      "Epoch 12/100\n",
      "9/9 [==============================] - 3s 346ms/step - loss: 1.5702 - acc: 0.4735 - val_loss: 1.4545 - val_acc: 0.5683\n",
      "Epoch 13/100\n",
      "9/9 [==============================] - 3s 343ms/step - loss: 1.5461 - acc: 0.4944 - val_loss: 1.5021 - val_acc: 0.5540\n",
      "Epoch 14/100\n",
      "9/9 [==============================] - 3s 357ms/step - loss: 1.5111 - acc: 0.4662 - val_loss: 1.4552 - val_acc: 0.5396\n",
      "Epoch 15/100\n",
      "9/9 [==============================] - 3s 354ms/step - loss: 1.4960 - acc: 0.4812 - val_loss: 1.4968 - val_acc: 0.5180\n",
      "Epoch 16/100\n",
      "9/9 [==============================] - 3s 348ms/step - loss: 1.5195 - acc: 0.4861 - val_loss: 1.4233 - val_acc: 0.5540\n",
      "Epoch 17/100\n",
      "9/9 [==============================] - 3s 343ms/step - loss: 1.4340 - acc: 0.5101 - val_loss: 1.3807 - val_acc: 0.5827\n",
      "Epoch 18/100\n",
      "9/9 [==============================] - 3s 355ms/step - loss: 1.4029 - acc: 0.5501 - val_loss: 1.4358 - val_acc: 0.5612\n",
      "Epoch 19/100\n",
      "9/9 [==============================] - 3s 356ms/step - loss: 1.3792 - acc: 0.5453 - val_loss: 1.3467 - val_acc: 0.5683\n",
      "Epoch 20/100\n",
      "9/9 [==============================] - 3s 359ms/step - loss: 1.3069 - acc: 0.5801 - val_loss: 1.3481 - val_acc: 0.5612\n",
      "Epoch 21/100\n",
      "9/9 [==============================] - 3s 351ms/step - loss: 1.4304 - acc: 0.5178 - val_loss: 1.4126 - val_acc: 0.5540\n",
      "Epoch 22/100\n",
      "9/9 [==============================] - 3s 355ms/step - loss: 1.3886 - acc: 0.5265 - val_loss: 1.2949 - val_acc: 0.5827\n",
      "Epoch 23/100\n",
      "9/9 [==============================] - 3s 354ms/step - loss: 1.3219 - acc: 0.5599 - val_loss: 1.2349 - val_acc: 0.6403\n",
      "Epoch 24/100\n",
      "9/9 [==============================] - 3s 359ms/step - loss: 1.2616 - acc: 0.6125 - val_loss: 1.2410 - val_acc: 0.5971\n",
      "Epoch 25/100\n",
      "9/9 [==============================] - 3s 362ms/step - loss: 1.3526 - acc: 0.5710 - val_loss: 1.2352 - val_acc: 0.6259\n",
      "Epoch 26/100\n",
      "9/9 [==============================] - 3s 353ms/step - loss: 1.2545 - acc: 0.6337 - val_loss: 1.2962 - val_acc: 0.6115\n",
      "Epoch 27/100\n",
      "9/9 [==============================] - 3s 356ms/step - loss: 1.3275 - acc: 0.5568 - val_loss: 1.2462 - val_acc: 0.6331\n",
      "Epoch 28/100\n",
      "9/9 [==============================] - 3s 363ms/step - loss: 1.3405 - acc: 0.5498 - val_loss: 1.3069 - val_acc: 0.6187\n",
      "Epoch 29/100\n",
      "9/9 [==============================] - 3s 357ms/step - loss: 1.2665 - acc: 0.6323 - val_loss: 1.2363 - val_acc: 0.6403\n",
      "Epoch 30/100\n",
      "9/9 [==============================] - 3s 364ms/step - loss: 1.2513 - acc: 0.6260 - val_loss: 1.2864 - val_acc: 0.6115\n",
      "Epoch 31/100\n",
      "9/9 [==============================] - 3s 353ms/step - loss: 1.3744 - acc: 0.6201 - val_loss: 1.3127 - val_acc: 0.5971\n",
      "Epoch 32/100\n",
      "9/9 [==============================] - 3s 354ms/step - loss: 1.3129 - acc: 0.6045 - val_loss: 1.3014 - val_acc: 0.6331\n",
      "Epoch 33/100\n",
      "9/9 [==============================] - 3s 367ms/step - loss: 1.2534 - acc: 0.6306 - val_loss: 1.2804 - val_acc: 0.6115\n"
     ]
    },
    {
     "data": {
      "image/png": "[encoded data removed]",
      "text/plain": [
       "<Figure size 864x288 with 2 Axes>"
      ]
     },
     "metadata": {
      "needs_background": "light"
     },
     "output_type": "display_data"
    },
    {
     "name": "stdout",
     "output_type": "stream",
     "text": [
      "{'loss': 1.3504091024398803, 'acc': 0.64}\n"
     ]
    }
   ],
   "source": [
    "# Try to make computations deterministic.\n",
    "utils.reset_seeds()\n",
    "\n",
    "# Build and train the model.\n",
    "model = build_model(input_shape, dropout_rate=dropout_rate, l2_alpha=l2_alpha)\n",
    "model.summary()\n",
    "\n",
    "# Train and evaluate the model.\n",
    "history, results = train_and_evaluate(model)\n",
    "\n",
    "# Plot the learning curves and print the accuracy on the test set.\n",
    "plot_learning_curves(history)\n",
    "print(results)"
   ]
  },
  {
   "cell_type": "code",
   "execution_count": 40,
   "metadata": {},
   "outputs": [],
   "source": [
    "# Persist the result.\n",
    "accuracy_test = results['acc']\n",
    "params = dict(input_shape=input_shape, dropout_rate=dropout_rate, l2_alpha=l2_alpha)\n",
    "desc = ', '.join([f'{key}={params[key]}' for key in ['input_shape', 'dropout_rate', 'l2_alpha']])\n",
    "utils.persist_result('cnn', 'part-08-a', desc, accuracy_test)"
   ]
  },
  {
   "cell_type": "markdown",
   "metadata": {},
   "source": [
    "**Comment:** Unlike in _Part 07_, we did not find an easy way to do a grid search using an `ImageDataGenerator`. So we slightly changed the paramameters and re-ran the above a couple fo times. In the end we settled on a `dropout_rate=0.5` and `l2_alpha=0.001`."
   ]
  },
  {
   "cell_type": "markdown",
   "metadata": {},
   "source": [
    "### Large train set"
   ]
  },
  {
   "cell_type": "markdown",
   "metadata": {},
   "source": [
    "We begin with some imports."
   ]
  },
  {
   "cell_type": "code",
   "execution_count": 41,
   "metadata": {},
   "outputs": [],
   "source": [
    "# Standard library.\n",
    "import os\n",
    "import shutil"
   ]
  },
  {
   "cell_type": "markdown",
   "metadata": {},
   "source": [
    "Having found a suitable design and set of hyperparameters, we want to figure out if we can slightly increase the accuracy by training the model on a larger training set obtained by grouping the current training and validation sets. This would typically be done for us by `GridSearchCV` with `refit=True`."
   ]
  },
  {
   "cell_type": "code",
   "execution_count": 42,
   "metadata": {},
   "outputs": [],
   "source": [
    "def merge_datasets(src_paths: T.Sequence[os.PathLike], dst_path: os.PathLike) -> None:\n",
    "    n_copied = 0\n",
    "    for src_path in src_paths:\n",
    "        src_label_paths = [entry for entry in src_path.iterdir() if entry.is_dir()]\n",
    "        for src_label_path in sorted(src_label_paths):\n",
    "            label = src_label_path.name\n",
    "            dst_label_path = dst_path / label\n",
    "            dst_label_path.mkdir(exist_ok=True)\n",
    "            src_image_paths = src_label_path.glob('*.png')\n",
    "            for src_image_path in src_image_paths:\n",
    "                name = src_image_path.name\n",
    "                dst_image_path = dst_label_path / name\n",
    "                shutil.copy2(src_image_path, dst_image_path)  # will overwrite\n",
    "                n_copied += 1\n",
    "    print(n_copied)"
   ]
  },
  {
   "cell_type": "code",
   "execution_count": 43,
   "metadata": {},
   "outputs": [
    {
     "name": "stdout",
     "output_type": "stream",
     "text": [
      "set() 280 139\n"
     ]
    }
   ],
   "source": [
    "train_set = set(p.name for p in (base_path / 'train').glob('**/*.png'))\n",
    "valid_set = set(p.name for p in (base_path / 'valid').glob('**/*.png'))\n",
    "print(\n",
    "    train_set.intersection(valid_set),\n",
    "    len(train_set),\n",
    "    len(valid_set)\n",
    ")"
   ]
  },
  {
   "cell_type": "code",
   "execution_count": 44,
   "metadata": {},
   "outputs": [
    {
     "name": "stdout",
     "output_type": "stream",
     "text": [
      "419\n",
      "419 images\n"
     ]
    }
   ],
   "source": [
    "dst_path = base_path / 'train_large'\n",
    "dst_path.mkdir(exist_ok=True)\n",
    "\n",
    "merge_datasets([base_path / 'train', base_path / 'valid'], dst_path)\n",
    "\n",
    "# Quick check.\n",
    "path = base_path / 'train_large'\n",
    "num = sum(1 for _ in path.glob('**/*.png'))\n",
    "print(f'{num} images')"
   ]
  },
  {
   "cell_type": "code",
   "execution_count": 45,
   "metadata": {},
   "outputs": [],
   "source": [
    "def train_and_evaluate_large(model: keras.Model, epochs: int = 100) -> T.Tuple[History, T.Mapping[str, float]]:\n",
    "\n",
    "    # Image generator with augmentations for training.\n",
    "    train_generator = ImageDataGenerator(rescale=1/255, **AUGMENTATIONS)\n",
    "    # Image generator without augmentations for validation and test.\n",
    "    test_generator = ImageDataGenerator(rescale=1/255)\n",
    "\n",
    "    train_set = train_generator.flow_from_directory(\n",
    "        base_path / 'train_large', batch_size=32, target_size=input_shape_2d, shuffle=True, seed=RANDOM_SEED, interpolation='bicubic')\n",
    "    test_set = test_generator.flow_from_directory(\n",
    "        base_path / 'test', batch_size=32, target_size=input_shape_2d, shuffle=False, interpolation='bicubic')\n",
    "    \n",
    "    # Train the model.\n",
    "    history = model.fit_generator(generator=train_set, epochs=epochs)\n",
    "    \n",
    "    # Evaluate the model.\n",
    "    results = dict(zip(model.metrics_names, model.evaluate_generator(test_set)))\n",
    "    \n",
    "    return history, results"
   ]
  },
  {
   "cell_type": "code",
   "execution_count": 46,
   "metadata": {},
   "outputs": [
    {
     "name": "stdout",
     "output_type": "stream",
     "text": [
      "_________________________________________________________________\n",
      "Layer (type)                 Output Shape              Param #   \n",
      "=================================================================\n",
      "conv2d_8 (Conv2D)            (None, 64, 64, 64)        4864      \n",
      "_________________________________________________________________\n",
      "max_pooling2d_8 (MaxPooling2 (None, 32, 32, 64)        0         \n",
      "_________________________________________________________________\n",
      "conv2d_9 (Conv2D)            (None, 32, 32, 64)        36928     \n",
      "_________________________________________________________________\n",
      "max_pooling2d_9 (MaxPooling2 (None, 16, 16, 64)        0         \n",
      "_________________________________________________________________\n",
      "flatten_4 (Flatten)          (None, 16384)             0         \n",
      "_________________________________________________________________\n",
      "dropout_4 (Dropout)          (None, 16384)             0         \n",
      "_________________________________________________________________\n",
      "dense_8 (Dense)              (None, 1024)              16778240  \n",
      "_________________________________________________________________\n",
      "dense_9 (Dense)              (None, 6)                 6150      \n",
      "=================================================================\n",
      "Total params: 16,826,182\n",
      "Trainable params: 16,826,182\n",
      "Non-trainable params: 0\n",
      "_________________________________________________________________\n",
      "Found 419 images belonging to 6 classes.\n",
      "Found 50 images belonging to 6 classes.\n",
      "Epoch 1/80\n",
      "14/14 [==============================] - 6s 441ms/step - loss: 3.3778 - acc: 0.2734\n",
      "Epoch 2/80\n",
      "14/14 [==============================] - 5s 339ms/step - loss: 2.6607 - acc: 0.3139\n",
      "Epoch 3/80\n",
      "14/14 [==============================] - 5s 343ms/step - loss: 2.2213 - acc: 0.3273\n",
      "Epoch 4/80\n",
      "14/14 [==============================] - 5s 342ms/step - loss: 1.9804 - acc: 0.3319\n",
      "Epoch 5/80\n",
      "14/14 [==============================] - 5s 338ms/step - loss: 1.8191 - acc: 0.3812\n",
      "Epoch 6/80\n",
      "14/14 [==============================] - 5s 343ms/step - loss: 1.7088 - acc: 0.4058\n",
      "Epoch 7/80\n",
      "14/14 [==============================] - 5s 333ms/step - loss: 1.6286 - acc: 0.4305\n",
      "Epoch 8/80\n",
      "14/14 [==============================] - 5s 342ms/step - loss: 1.5513 - acc: 0.4506\n",
      "Epoch 9/80\n",
      "14/14 [==============================] - 5s 337ms/step - loss: 1.5631 - acc: 0.4663\n",
      "Epoch 10/80\n",
      "14/14 [==============================] - 5s 340ms/step - loss: 1.6010 - acc: 0.4641\n",
      "Epoch 11/80\n",
      "14/14 [==============================] - 5s 339ms/step - loss: 1.6016 - acc: 0.4619\n",
      "Epoch 12/80\n",
      "14/14 [==============================] - 5s 333ms/step - loss: 1.5388 - acc: 0.4709\n",
      "Epoch 13/80\n",
      "14/14 [==============================] - 5s 339ms/step - loss: 1.4848 - acc: 0.4866\n",
      "Epoch 14/80\n",
      "14/14 [==============================] - 5s 340ms/step - loss: 1.3959 - acc: 0.5314\n",
      "Epoch 15/80\n",
      "14/14 [==============================] - 5s 334ms/step - loss: 1.4567 - acc: 0.5089\n",
      "Epoch 16/80\n",
      "14/14 [==============================] - 5s 343ms/step - loss: 1.3970 - acc: 0.5470\n",
      "Epoch 17/80\n",
      "14/14 [==============================] - 5s 342ms/step - loss: 1.3873 - acc: 0.5650\n",
      "Epoch 18/80\n",
      "14/14 [==============================] - 5s 341ms/step - loss: 1.3627 - acc: 0.5605\n",
      "Epoch 19/80\n",
      "14/14 [==============================] - 5s 344ms/step - loss: 1.4184 - acc: 0.5426\n",
      "Epoch 20/80\n",
      "14/14 [==============================] - 5s 339ms/step - loss: 1.4276 - acc: 0.5337\n",
      "Epoch 21/80\n",
      "14/14 [==============================] - 5s 338ms/step - loss: 1.4017 - acc: 0.5896\n",
      "Epoch 22/80\n",
      "14/14 [==============================] - 5s 342ms/step - loss: 1.3263 - acc: 0.5717\n",
      "Epoch 23/80\n",
      "14/14 [==============================] - 5s 340ms/step - loss: 1.4080 - acc: 0.5582\n",
      "Epoch 24/80\n",
      "14/14 [==============================] - 5s 339ms/step - loss: 1.3819 - acc: 0.5651\n",
      "Epoch 25/80\n",
      "14/14 [==============================] - 5s 341ms/step - loss: 1.3812 - acc: 0.5359\n",
      "Epoch 26/80\n",
      "14/14 [==============================] - 5s 345ms/step - loss: 1.3837 - acc: 0.5852\n",
      "Epoch 27/80\n",
      "14/14 [==============================] - 5s 336ms/step - loss: 1.2603 - acc: 0.6099\n",
      "Epoch 28/80\n",
      "14/14 [==============================] - 5s 337ms/step - loss: 1.2528 - acc: 0.6300\n",
      "Epoch 29/80\n",
      "14/14 [==============================] - 5s 343ms/step - loss: 1.3694 - acc: 0.5673\n",
      "Epoch 30/80\n",
      "14/14 [==============================] - 5s 342ms/step - loss: 1.4045 - acc: 0.5539\n",
      "Epoch 31/80\n",
      "14/14 [==============================] - 5s 342ms/step - loss: 1.3124 - acc: 0.6188\n",
      "Epoch 32/80\n",
      "14/14 [==============================] - 5s 353ms/step - loss: 1.2964 - acc: 0.6099\n",
      "Epoch 33/80\n",
      "14/14 [==============================] - 5s 344ms/step - loss: 1.4788 - acc: 0.5426\n",
      "Epoch 34/80\n",
      "14/14 [==============================] - 5s 340ms/step - loss: 1.4398 - acc: 0.6053\n",
      "Epoch 35/80\n",
      "14/14 [==============================] - 5s 337ms/step - loss: 1.3149 - acc: 0.5762\n",
      "Epoch 36/80\n",
      "14/14 [==============================] - 5s 340ms/step - loss: 1.2925 - acc: 0.6077\n",
      "Epoch 37/80\n",
      "14/14 [==============================] - 5s 341ms/step - loss: 1.3488 - acc: 0.5875\n",
      "Epoch 38/80\n",
      "14/14 [==============================] - 5s 336ms/step - loss: 1.3882 - acc: 0.6077\n",
      "Epoch 39/80\n",
      "14/14 [==============================] - 5s 343ms/step - loss: 1.2510 - acc: 0.6525\n",
      "Epoch 40/80\n",
      "14/14 [==============================] - 5s 342ms/step - loss: 1.3262 - acc: 0.6413\n",
      "Epoch 41/80\n",
      "14/14 [==============================] - 5s 339ms/step - loss: 1.2207 - acc: 0.6569\n",
      "Epoch 42/80\n",
      "14/14 [==============================] - 5s 333ms/step - loss: 1.3104 - acc: 0.5808\n",
      "Epoch 43/80\n",
      "14/14 [==============================] - 5s 345ms/step - loss: 1.3546 - acc: 0.5875\n",
      "Epoch 44/80\n",
      "14/14 [==============================] - 5s 334ms/step - loss: 1.2531 - acc: 0.6524\n",
      "Epoch 45/80\n",
      "14/14 [==============================] - 5s 340ms/step - loss: 1.2533 - acc: 0.6525\n",
      "Epoch 46/80\n",
      "14/14 [==============================] - 5s 338ms/step - loss: 1.2449 - acc: 0.6300\n",
      "Epoch 47/80\n",
      "14/14 [==============================] - 5s 341ms/step - loss: 1.3415 - acc: 0.6256\n",
      "Epoch 48/80\n",
      "14/14 [==============================] - 5s 348ms/step - loss: 1.2720 - acc: 0.6659\n",
      "Epoch 49/80\n",
      "14/14 [==============================] - 5s 336ms/step - loss: 1.2856 - acc: 0.6569\n",
      "Epoch 50/80\n",
      "14/14 [==============================] - 5s 344ms/step - loss: 1.2168 - acc: 0.6681\n",
      "Epoch 51/80\n",
      "14/14 [==============================] - 5s 342ms/step - loss: 1.3101 - acc: 0.6144\n",
      "Epoch 52/80\n",
      "14/14 [==============================] - 5s 347ms/step - loss: 1.2139 - acc: 0.6726\n",
      "Epoch 53/80\n",
      "14/14 [==============================] - 6s 398ms/step - loss: 1.1558 - acc: 0.6793\n",
      "Epoch 54/80\n",
      "14/14 [==============================] - 5s 359ms/step - loss: 1.2565 - acc: 0.6368\n",
      "Epoch 55/80\n",
      "14/14 [==============================] - 5s 346ms/step - loss: 1.2763 - acc: 0.6570\n",
      "Epoch 56/80\n",
      "14/14 [==============================] - 5s 348ms/step - loss: 1.3008 - acc: 0.6346\n",
      "Epoch 57/80\n",
      "14/14 [==============================] - 5s 345ms/step - loss: 1.3648 - acc: 0.6256\n",
      "Epoch 58/80\n",
      "14/14 [==============================] - 5s 346ms/step - loss: 1.3512 - acc: 0.6009\n",
      "Epoch 59/80\n",
      "14/14 [==============================] - 5s 347ms/step - loss: 1.3632 - acc: 0.6569\n",
      "Epoch 60/80\n",
      "14/14 [==============================] - 5s 343ms/step - loss: 1.2911 - acc: 0.6569\n",
      "Epoch 61/80\n",
      "14/14 [==============================] - 5s 346ms/step - loss: 1.2636 - acc: 0.6726\n",
      "Epoch 62/80\n",
      "14/14 [==============================] - 5s 343ms/step - loss: 1.2784 - acc: 0.6480\n",
      "Epoch 63/80\n",
      "14/14 [==============================] - 5s 344ms/step - loss: 1.2425 - acc: 0.6928\n",
      "Epoch 64/80\n",
      "14/14 [==============================] - 5s 348ms/step - loss: 1.3342 - acc: 0.6323\n",
      "Epoch 65/80\n",
      "14/14 [==============================] - 5s 344ms/step - loss: 1.2949 - acc: 0.6301\n",
      "Epoch 66/80\n",
      "14/14 [==============================] - 5s 343ms/step - loss: 1.2562 - acc: 0.6591\n",
      "Epoch 67/80\n",
      "14/14 [==============================] - 5s 343ms/step - loss: 1.2248 - acc: 0.6816\n",
      "Epoch 68/80\n",
      "14/14 [==============================] - 5s 346ms/step - loss: 1.2293 - acc: 0.6905\n",
      "Epoch 69/80\n",
      "14/14 [==============================] - 5s 352ms/step - loss: 1.3334 - acc: 0.6771\n",
      "Epoch 70/80\n",
      "14/14 [==============================] - 5s 353ms/step - loss: 1.2621 - acc: 0.7018\n",
      "Epoch 71/80\n",
      "14/14 [==============================] - 5s 357ms/step - loss: 1.3325 - acc: 0.6480\n",
      "Epoch 72/80\n",
      "14/14 [==============================] - 5s 356ms/step - loss: 1.2157 - acc: 0.7219\n",
      "Epoch 73/80\n",
      "14/14 [==============================] - 5s 358ms/step - loss: 1.2383 - acc: 0.7063\n",
      "Epoch 74/80\n",
      "14/14 [==============================] - 5s 351ms/step - loss: 1.2214 - acc: 0.6906\n",
      "Epoch 75/80\n",
      "14/14 [==============================] - 5s 350ms/step - loss: 1.2157 - acc: 0.7219\n",
      "Epoch 76/80\n",
      "14/14 [==============================] - 5s 347ms/step - loss: 1.2916 - acc: 0.6547\n",
      "Epoch 77/80\n",
      "14/14 [==============================] - 5s 338ms/step - loss: 1.2627 - acc: 0.7152\n",
      "Epoch 78/80\n",
      "14/14 [==============================] - 5s 343ms/step - loss: 1.2073 - acc: 0.7130\n",
      "Epoch 79/80\n",
      "14/14 [==============================] - 5s 342ms/step - loss: 1.1661 - acc: 0.7175\n",
      "Epoch 80/80\n",
      "14/14 [==============================] - 5s 346ms/step - loss: 1.1478 - acc: 0.7444\n",
      "{'loss': 1.2503688764572143, 'acc': 0.7000000011920929}\n"
     ]
    }
   ],
   "source": [
    "# Try to make computations deterministic.\n",
    "utils.reset_seeds()\n",
    "\n",
    "# Build and train the model.\n",
    "model_large = build_model(input_shape, dropout_rate=dropout_rate, l2_alpha=l2_alpha)\n",
    "model_large.summary()\n",
    "\n",
    "# Train and evaluate the model.\n",
    "history_large, results_large = train_and_evaluate_large(model_large, epochs=80)\n",
    "\n",
    "# Plot the learning curves.\n",
    "# plot_learning_curves(history_large)\n",
    "print(results_large)"
   ]
  },
  {
   "cell_type": "code",
   "execution_count": 47,
   "metadata": {},
   "outputs": [
    {
     "data": {
      "image/png": "[encoded data removed]",
      "text/plain": [
       "<Figure size 864x288 with 2 Axes>"
      ]
     },
     "metadata": {
      "needs_background": "light"
     },
     "output_type": "display_data"
    }
   ],
   "source": [
    "%matplotlib inline\n",
    "import matplotlib.pyplot as plt\n",
    "\n",
    "fig, (ax1, ax2) = plt.subplots(nrows=1, ncols=2, figsize=(12, 4))\n",
    "\n",
    "# Plot loss values\n",
    "ax1.set_title('loss: {:.4f}'.format(history_large.history['loss'][-1]))\n",
    "ax1.plot(history_large.history['loss'], label='validation')\n",
    "ax1.plot(history_large.history['loss'], label='training')\n",
    "ax1.legend()\n",
    "\n",
    "# plot accuracy values\n",
    "ax2.set_title('accuracy: {:.2f}%'.format(history_large.history['acc'][-1]*100))\n",
    "ax2.plot(history_large.history['acc'], label='validation')\n",
    "ax2.plot(history_large.history['acc'], label='training')\n",
    "ax2.legend()\n",
    "\n",
    "plt.show()"
   ]
  },
  {
   "cell_type": "code",
   "execution_count": 48,
   "metadata": {},
   "outputs": [
    {
     "data": {
      "text/plain": [
       "{'loss': 1.2503688764572143, 'acc': 0.7000000011920929}"
      ]
     },
     "execution_count": 48,
     "metadata": {},
     "output_type": "execute_result"
    }
   ],
   "source": [
    "results_large"
   ]
  },
  {
   "cell_type": "code",
   "execution_count": 49,
   "metadata": {},
   "outputs": [],
   "source": [
    "# Persist the result.\n",
    "accuracy_test = results_large['acc']\n",
    "params = dict(input_shape=input_shape, dropout_rate=dropout_rate, l2_alpha=l2_alpha)\n",
    "desc = ', '.join([f'{key}={params[key]}' for key in ['input_shape', 'dropout_rate', 'l2_alpha']])\n",
    "utils.persist_result('cnn-refit', 'part-08-b', desc, accuracy_test)"
   ]
  },
  {
   "cell_type": "markdown",
   "metadata": {},
   "source": [
    "**Q: What accuracy can you achieve?**\n",
    "\n",
    "A: By refitting the model on the training + validation sets, we achieve 70% accuracy on the test set."
   ]
  },
  {
   "cell_type": "markdown",
   "metadata": {},
   "source": [
    "**Q: Can you get good results? - If not, why?**\n",
    "\n",
    "A: The MobileNet v2 CNN model from TensorFlow Hub was probably trained on millions of images. Here by using the training + validation sets we have only 419 images available. Even with data augmentations, this is most likely not enough."
   ]
  },
  {
   "cell_type": "code",
   "execution_count": null,
   "metadata": {},
   "outputs": [],
   "source": []
  }
 ],
 "metadata": {
  "kernelspec": {
   "display_name": "Python 3",
   "language": "python",
   "name": "python3"
  },
  "language_info": {
   "codemirror_mode": {
    "name": "ipython",
    "version": 3
   },
   "file_extension": ".py",
   "mimetype": "text/x-python",
   "name": "python",
   "nbconvert_exporter": "python",
   "pygments_lexer": "ipython3",
   "version": "3.6.9"
  }
 },
 "nbformat": 4,
 "nbformat_minor": 2
}
