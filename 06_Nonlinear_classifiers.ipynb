{
 "cells": [
  {
   "cell_type": "markdown",
   "metadata": {},
   "source": [
    "# Course 4 - Project - Part 6: Nonlinear classifiers"
   ]
  },
  {
   "cell_type": "markdown",
   "metadata": {},
   "source": [
    "<a name=\"top-6\"></a>\n",
    "This notebook is concerned with *Part 6: Nonlinear classifiers*.\n",
    "\n",
    "**Contents:**\n",
    "* [Step 0: Loading data](#step-6.0)\n",
    "* [Step 1: Try with a random Forests](#step-6.1)\n",
    "* [Step 2: Try with SVMs](#step-6.2)"
   ]
  },
  {
   "cell_type": "markdown",
   "metadata": {},
   "source": [
    "## Step 0: Loading data<a name=\"step-6.0\"></a> ([top](#top-6))\n",
    "---"
   ]
  },
  {
   "cell_type": "markdown",
   "metadata": {},
   "source": [
    "We begin with some imports."
   ]
  },
  {
   "cell_type": "code",
   "execution_count": 1,
   "metadata": {},
   "outputs": [],
   "source": [
    "# Standard library.\n",
    "import pathlib\n",
    "import typing as T\n",
    "\n",
    "# 3rd party.\n",
    "%matplotlib inline\n",
    "import numpy as np\n",
    "import pandas as pd\n",
    "import matplotlib.pyplot as plt\n",
    "\n",
    "# Project.\n",
    "import utils"
   ]
  },
  {
   "cell_type": "markdown",
   "metadata": {},
   "source": [
    "We load the training set with the extracted high-level features."
   ]
  },
  {
   "cell_type": "code",
   "execution_count": 2,
   "metadata": {},
   "outputs": [
    {
     "name": "stdout",
     "output_type": "stream",
     "text": [
      "--------------------------------------------------------------------------------\n",
      "Dataset: train\n",
      "data: shape=(280, 224, 224, 3), dtype=float32\n",
      "label_idxs: shape=(280,), dtype=int64\n",
      "label_strs: shape=(6,), dtype=<U10\n",
      "names: shape=(280,), dtype=<U19\n",
      "features: shape=(280, 1280), dtype=float32\n",
      "--------------------------------------------------------------------------------\n",
      "Dataset: valid\n",
      "data: shape=(139, 224, 224, 3), dtype=float32\n",
      "label_idxs: shape=(139,), dtype=int64\n",
      "label_strs: shape=(6,), dtype=<U10\n",
      "names: shape=(139,), dtype=<U19\n",
      "features: shape=(139, 1280), dtype=float32\n",
      "--------------------------------------------------------------------------------\n",
      "Dataset: test\n",
      "data: shape=(50, 224, 224, 3), dtype=float32\n",
      "label_idxs: shape=(50,), dtype=int64\n",
      "label_strs: shape=(6,), dtype=<U10\n",
      "names: shape=(50,), dtype=<U19\n",
      "features: shape=(50, 1280), dtype=float32\n"
     ]
    }
   ],
   "source": [
    "separator = ''.center(80, '-')\n",
    "\n",
    "path_train = pathlib.Path.cwd() / 'data' / 'swissroads-features-train.npz'\n",
    "data_train = utils.load(path_train)\n",
    "print(separator)\n",
    "print(f'Dataset: train\\n{utils.info(data_train)}')\n",
    "\n",
    "path_valid = pathlib.Path.cwd() / 'data' / 'swissroads-features-valid.npz'\n",
    "data_valid = utils.load(path_valid)\n",
    "print(separator)\n",
    "print(f'Dataset: valid\\n{utils.info(data_valid)}')\n",
    "\n",
    "path_test = pathlib.Path.cwd() / 'data' / 'swissroads-features-test.npz'\n",
    "data_test = utils.load(path_test)\n",
    "print(separator)\n",
    "print(f'Dataset: test\\n{utils.info(data_test)}')"
   ]
  },
  {
   "cell_type": "code",
   "execution_count": 3,
   "metadata": {},
   "outputs": [],
   "source": [
    "label_strs = data_train['label_strs']  # Same for all data sets.\n",
    "assert (\n",
    "    np.all(data_train['label_strs'] == data_valid['label_strs']) and\n",
    "    np.all(data_train['label_strs'] == data_test['label_strs'])\n",
    ")\n",
    "\n",
    "X_train = data_train['data']\n",
    "y_train = data_train['label_idxs']\n",
    "F_train = data_train['features']\n",
    "N_train = data_train['names']\n",
    "\n",
    "X_valid = data_valid['data']\n",
    "y_valid = data_valid['label_idxs']\n",
    "F_valid = data_valid['features']\n",
    "N_valid = data_train['names']\n",
    "\n",
    "X_test = data_test['data']\n",
    "y_test = data_test['label_idxs']\n",
    "F_test = data_test['features']\n",
    "N_test = data_test['names']"
   ]
  },
  {
   "cell_type": "markdown",
   "metadata": {},
   "source": [
    "We will fix the seed for the PRNG in order to make computations deterministic."
   ]
  },
  {
   "cell_type": "code",
   "execution_count": 4,
   "metadata": {},
   "outputs": [],
   "source": [
    "RANDOM_SEED = 0"
   ]
  },
  {
   "cell_type": "markdown",
   "metadata": {},
   "source": [
    "## Step 1: Try with random Forests<a name=\"step-6.1\"></a> ([top](#top-6))\n",
    "---"
   ]
  },
  {
   "cell_type": "code",
   "execution_count": 5,
   "metadata": {},
   "outputs": [],
   "source": [
    "# 3rd party.\n",
    "from sklearn.ensemble import RandomForestClassifier\n",
    "from sklearn.model_selection import GridSearchCV\n",
    "from sklearn.model_selection import StratifiedKFold"
   ]
  },
  {
   "cell_type": "markdown",
   "metadata": {},
   "source": [
    "We want to use a random forest classifier."
   ]
  },
  {
   "cell_type": "markdown",
   "metadata": {},
   "source": [
    "In this part it makes sense to merge the training and the validation sets for cross-validation (since we would not make use of the validation set otherwise)."
   ]
  },
  {
   "cell_type": "code",
   "execution_count": 6,
   "metadata": {},
   "outputs": [],
   "source": [
    "X_train_large = np.concatenate([X_train, X_valid])\n",
    "y_train_large = np.concatenate([y_train, y_valid])\n",
    "F_train_large = np.concatenate([F_train, F_valid])\n",
    "N_train_large = np.concatenate([N_train, N_valid])"
   ]
  },
  {
   "cell_type": "markdown",
   "metadata": {},
   "source": [
    "**Note:** We have imbalanced classes. Some of the models seem to have some parameters to deal with imbalanced classes, so we will also try them."
   ]
  },
  {
   "cell_type": "markdown",
   "metadata": {},
   "source": [
    "We create a random forest classifier."
   ]
  },
  {
   "cell_type": "code",
   "execution_count": 7,
   "metadata": {},
   "outputs": [],
   "source": [
    "# Create the estimator.\n",
    "rf = RandomForestClassifier(random_state=RANDOM_SEED)  # Use defaults."
   ]
  },
  {
   "cell_type": "markdown",
   "metadata": {},
   "source": [
    "We perform a cross-validated grid search."
   ]
  },
  {
   "cell_type": "code",
   "execution_count": 8,
   "metadata": {},
   "outputs": [],
   "source": [
    "# Setup the cross-validated grid search.\n",
    "grid = {\n",
    "    'n_estimators': [1, 5, 10, 100, 200],\n",
    "    'max_depth': list(range(1, 10 + 1)) + [None],  # 1, 2, ..., 10, None\n",
    "    'class_weight': [None, 'balanced']\n",
    "}\n",
    "\n",
    "# With 10 splits the model can be trained on 90% of the data points.\n",
    "cv = StratifiedKFold(n_splits=10, random_state=RANDOM_SEED)\n",
    "rf_gscv = GridSearchCV(rf, grid, n_jobs=-1, iid=False, refit=True, cv=cv, return_train_score=True)"
   ]
  },
  {
   "cell_type": "code",
   "execution_count": 9,
   "metadata": {},
   "outputs": [],
   "source": [
    "# Fit/evaluate the estimator.\n",
    "rf_gscv.fit(F_train_large, y_train_large);"
   ]
  },
  {
   "cell_type": "markdown",
   "metadata": {},
   "source": [
    "We convert the results to a data frame."
   ]
  },
  {
   "cell_type": "code",
   "execution_count": 10,
   "metadata": {},
   "outputs": [],
   "source": [
    "df_results = (pd\n",
    "    .DataFrame(data={\n",
    "        'n_estimators': rf_gscv.cv_results_['param_n_estimators'],\n",
    "        'max_depth': rf_gscv.cv_results_['param_max_depth'],\n",
    "        'class_weight': rf_gscv.cv_results_['param_class_weight'],\n",
    "        'mean_train_score': rf_gscv.cv_results_['mean_train_score'],\n",
    "        'mean_test_score': rf_gscv.cv_results_['mean_test_score'],\n",
    "        'std_test_score': rf_gscv.cv_results_['std_test_score'],\n",
    "        'params': rf_gscv.cv_results_['params']\n",
    "    })\n",
    "    .sort_values(by='mean_test_score', ascending=False)\n",
    ")"
   ]
  },
  {
   "cell_type": "code",
   "execution_count": 11,
   "metadata": {},
   "outputs": [
    {
     "data": {
      "text/html": [
       "<div>\n",
       "<style scoped>\n",
       "    .dataframe tbody tr th:only-of-type {\n",
       "        vertical-align: middle;\n",
       "    }\n",
       "\n",
       "    .dataframe tbody tr th {\n",
       "        vertical-align: top;\n",
       "    }\n",
       "\n",
       "    .dataframe thead th {\n",
       "        text-align: right;\n",
       "    }\n",
       "</style>\n",
       "<table border=\"1\" class=\"dataframe\">\n",
       "  <thead>\n",
       "    <tr style=\"text-align: right;\">\n",
       "      <th></th>\n",
       "      <th>n_estimators</th>\n",
       "      <th>max_depth</th>\n",
       "      <th>class_weight</th>\n",
       "      <th>mean_train_score</th>\n",
       "      <th>mean_test_score</th>\n",
       "      <th>std_test_score</th>\n",
       "    </tr>\n",
       "  </thead>\n",
       "  <tbody>\n",
       "    <tr>\n",
       "      <th>73</th>\n",
       "      <td>100</td>\n",
       "      <td>4</td>\n",
       "      <td>balanced</td>\n",
       "      <td>0.990723</td>\n",
       "      <td>0.912760</td>\n",
       "      <td>0.036302</td>\n",
       "    </tr>\n",
       "    <tr>\n",
       "      <th>79</th>\n",
       "      <td>200</td>\n",
       "      <td>5</td>\n",
       "      <td>balanced</td>\n",
       "      <td>0.996561</td>\n",
       "      <td>0.909762</td>\n",
       "      <td>0.040955</td>\n",
       "    </tr>\n",
       "    <tr>\n",
       "      <th>83</th>\n",
       "      <td>100</td>\n",
       "      <td>6</td>\n",
       "      <td>balanced</td>\n",
       "      <td>0.999473</td>\n",
       "      <td>0.909217</td>\n",
       "      <td>0.037823</td>\n",
       "    </tr>\n",
       "    <tr>\n",
       "      <th>74</th>\n",
       "      <td>200</td>\n",
       "      <td>4</td>\n",
       "      <td>balanced</td>\n",
       "      <td>0.990192</td>\n",
       "      <td>0.907390</td>\n",
       "      <td>0.025099</td>\n",
       "    </tr>\n",
       "    <tr>\n",
       "      <th>84</th>\n",
       "      <td>200</td>\n",
       "      <td>6</td>\n",
       "      <td>balanced</td>\n",
       "      <td>1.000000</td>\n",
       "      <td>0.907183</td>\n",
       "      <td>0.037198</td>\n",
       "    </tr>\n",
       "  </tbody>\n",
       "</table>\n",
       "</div>"
      ],
      "text/plain": [
       "   n_estimators max_depth class_weight  mean_train_score  mean_test_score  \\\n",
       "73          100         4     balanced          0.990723         0.912760   \n",
       "79          200         5     balanced          0.996561         0.909762   \n",
       "83          100         6     balanced          0.999473         0.909217   \n",
       "74          200         4     balanced          0.990192         0.907390   \n",
       "84          200         6     balanced          1.000000         0.907183   \n",
       "\n",
       "    std_test_score  \n",
       "73        0.036302  \n",
       "79        0.040955  \n",
       "83        0.037823  \n",
       "74        0.025099  \n",
       "84        0.037198  "
      ]
     },
     "execution_count": 11,
     "metadata": {},
     "output_type": "execute_result"
    }
   ],
   "source": [
    "df_results.loc[:, 'n_estimators':'std_test_score'].head()"
   ]
  },
  {
   "cell_type": "markdown",
   "metadata": {},
   "source": [
    "We compute the accuracy of the best model on the test set."
   ]
  },
  {
   "cell_type": "code",
   "execution_count": 12,
   "metadata": {},
   "outputs": [
    {
     "name": "stdout",
     "output_type": "stream",
     "text": [
      "test accuracy: 96.0 %\n"
     ]
    }
   ],
   "source": [
    "accuracy_test = rf_gscv.best_estimator_.score(F_test, y_test)\n",
    "print(f'test accuracy: {accuracy_test * 100:.1f} %')"
   ]
  },
  {
   "cell_type": "code",
   "execution_count": 13,
   "metadata": {},
   "outputs": [
    {
     "data": {
      "text/plain": [
       "{'class_weight': 'balanced', 'max_depth': 4, 'n_estimators': 100}"
      ]
     },
     "execution_count": 13,
     "metadata": {},
     "output_type": "execute_result"
    }
   ],
   "source": [
    "rf_gscv.best_params_"
   ]
  },
  {
   "cell_type": "code",
   "execution_count": 14,
   "metadata": {},
   "outputs": [],
   "source": [
    "# Persist the result.\n",
    "desc = ', '.join([f'{key}={rf_gscv.best_params_[key]}' for key in ['n_estimators', 'max_depth', 'class_weight']])\n",
    "utils.persist_result('random forest', 'part-06-a', desc, accuracy_test)"
   ]
  },
  {
   "cell_type": "markdown",
   "metadata": {},
   "source": [
    "**Q: Does increasing the number of trees help?**\n",
    "\n",
    "A: According to the results of the grid search, it did help up to a certain point (where the model probably starts to overfit)."
   ]
  },
  {
   "cell_type": "markdown",
   "metadata": {},
   "source": [
    "## Step 2: Try with SVMs<a name=\"step-6.2\"></a> ([top](#top-6))\n",
    "---"
   ]
  },
  {
   "cell_type": "code",
   "execution_count": 15,
   "metadata": {},
   "outputs": [],
   "source": [
    "from sklearn.model_selection import GridSearchCV\n",
    "from sklearn.model_selection import StratifiedKFold\n",
    "from sklearn.pipeline import Pipeline\n",
    "from sklearn.svm import LinearSVC\n",
    "from sklearn.svm import SVC"
   ]
  },
  {
   "cell_type": "markdown",
   "metadata": {},
   "source": [
    "We want to use an SVC classifier."
   ]
  },
  {
   "cell_type": "code",
   "execution_count": 16,
   "metadata": {},
   "outputs": [],
   "source": [
    "# Create the estimator.\n",
    "svm_pipe = Pipeline([\n",
    "    ('svm', LinearSVC(random_state=RANDOM_SEED)),  # Cannot be 'None' with GridSearchCV.\n",
    "])"
   ]
  },
  {
   "cell_type": "markdown",
   "metadata": {},
   "source": [
    "### Linear kernel"
   ]
  },
  {
   "cell_type": "markdown",
   "metadata": {},
   "source": [
    "We perform a cross-validated grid search."
   ]
  },
  {
   "cell_type": "code",
   "execution_count": 17,
   "metadata": {},
   "outputs": [],
   "source": [
    "Cs = np.logspace(-4, 4, num=2 * 8 + 1)  # C defaults to 1.0.\n",
    "\n",
    "# Setup the cross-validated grid search.\n",
    "grid = [\n",
    "    # LinearSVC (minize: squared hinge loss, strategy: one-vs-rest)\n",
    "    {\n",
    "        'svm': [LinearSVC(random_state=RANDOM_SEED)],\n",
    "        'svm__C': Cs,\n",
    "        'svm__class_weight':[None, 'balanced']\n",
    "    },\n",
    "    # SVC (kernel: linear, minimize: hinge loss, strategy: one-vs-one)\n",
    "    {\n",
    "        'svm': [SVC(random_state=RANDOM_SEED)],\n",
    "        'svm__kernel': ['linear'],\n",
    "        'svm__C': Cs,\n",
    "        'svm__class_weight':[None, 'balanced']\n",
    "    }\n",
    "]\n",
    "\n",
    "# With 10 splits the model can be trained on 90% of the data points.\n",
    "cv = StratifiedKFold(n_splits=10, random_state=RANDOM_SEED)\n",
    "svm_gscv = GridSearchCV(svm_pipe, grid, n_jobs=-1, iid=False, refit=True, cv=cv, return_train_score=True)"
   ]
  },
  {
   "cell_type": "code",
   "execution_count": 18,
   "metadata": {},
   "outputs": [],
   "source": [
    "# Fit/evaluate the estimator.\n",
    "svm_gscv.fit(F_train_large, y_train_large);"
   ]
  },
  {
   "cell_type": "markdown",
   "metadata": {},
   "source": [
    "We convert the results to a data frame."
   ]
  },
  {
   "cell_type": "code",
   "execution_count": 19,
   "metadata": {},
   "outputs": [],
   "source": [
    "df_results = (pd\n",
    "    .DataFrame(data={\n",
    "        'svm_class': np.where(svm_gscv.cv_results_['param_svm__kernel'].mask, 'LinearSVC', 'SVC'),\n",
    "        'kernel': svm_gscv.cv_results_['param_svm__kernel'],\n",
    "        'C': svm_gscv.cv_results_['param_svm__C'],\n",
    "        'class_weight': svm_gscv.cv_results_['param_svm__class_weight'],\n",
    "        'mean_train_score': svm_gscv.cv_results_['mean_train_score'],\n",
    "        'mean_test_score': svm_gscv.cv_results_['mean_test_score'],\n",
    "        'std_test_score': svm_gscv.cv_results_['std_test_score'],\n",
    "        'params': svm_gscv.cv_results_['params']\n",
    "    })\n",
    "    .sort_values(by='mean_test_score', ascending=False)\n",
    ")"
   ]
  },
  {
   "cell_type": "code",
   "execution_count": 20,
   "metadata": {},
   "outputs": [
    {
     "data": {
      "text/html": [
       "<div>\n",
       "<style scoped>\n",
       "    .dataframe tbody tr th:only-of-type {\n",
       "        vertical-align: middle;\n",
       "    }\n",
       "\n",
       "    .dataframe tbody tr th {\n",
       "        vertical-align: top;\n",
       "    }\n",
       "\n",
       "    .dataframe thead th {\n",
       "        text-align: right;\n",
       "    }\n",
       "</style>\n",
       "<table border=\"1\" class=\"dataframe\">\n",
       "  <thead>\n",
       "    <tr style=\"text-align: right;\">\n",
       "      <th></th>\n",
       "      <th>svm_class</th>\n",
       "      <th>kernel</th>\n",
       "      <th>C</th>\n",
       "      <th>class_weight</th>\n",
       "      <th>mean_train_score</th>\n",
       "      <th>mean_test_score</th>\n",
       "      <th>std_test_score</th>\n",
       "    </tr>\n",
       "  </thead>\n",
       "  <tbody>\n",
       "    <tr>\n",
       "      <th>38</th>\n",
       "      <td>SVC</td>\n",
       "      <td>linear</td>\n",
       "      <td>0.001</td>\n",
       "      <td>None</td>\n",
       "      <td>0.956515</td>\n",
       "      <td>0.921220</td>\n",
       "      <td>0.029588</td>\n",
       "    </tr>\n",
       "    <tr>\n",
       "      <th>43</th>\n",
       "      <td>SVC</td>\n",
       "      <td>linear</td>\n",
       "      <td>0.01</td>\n",
       "      <td>balanced</td>\n",
       "      <td>0.998145</td>\n",
       "      <td>0.920914</td>\n",
       "      <td>0.038537</td>\n",
       "    </tr>\n",
       "    <tr>\n",
       "      <th>39</th>\n",
       "      <td>SVC</td>\n",
       "      <td>linear</td>\n",
       "      <td>0.001</td>\n",
       "      <td>balanced</td>\n",
       "      <td>0.971624</td>\n",
       "      <td>0.918787</td>\n",
       "      <td>0.027708</td>\n",
       "    </tr>\n",
       "    <tr>\n",
       "      <th>40</th>\n",
       "      <td>SVC</td>\n",
       "      <td>linear</td>\n",
       "      <td>0.00316228</td>\n",
       "      <td>None</td>\n",
       "      <td>0.986737</td>\n",
       "      <td>0.918720</td>\n",
       "      <td>0.026391</td>\n",
       "    </tr>\n",
       "    <tr>\n",
       "      <th>42</th>\n",
       "      <td>SVC</td>\n",
       "      <td>linear</td>\n",
       "      <td>0.01</td>\n",
       "      <td>None</td>\n",
       "      <td>0.995227</td>\n",
       "      <td>0.918221</td>\n",
       "      <td>0.044201</td>\n",
       "    </tr>\n",
       "  </tbody>\n",
       "</table>\n",
       "</div>"
      ],
      "text/plain": [
       "   svm_class  kernel           C class_weight  mean_train_score  \\\n",
       "38       SVC  linear       0.001         None          0.956515   \n",
       "43       SVC  linear        0.01     balanced          0.998145   \n",
       "39       SVC  linear       0.001     balanced          0.971624   \n",
       "40       SVC  linear  0.00316228         None          0.986737   \n",
       "42       SVC  linear        0.01         None          0.995227   \n",
       "\n",
       "    mean_test_score  std_test_score  \n",
       "38         0.921220        0.029588  \n",
       "43         0.920914        0.038537  \n",
       "39         0.918787        0.027708  \n",
       "40         0.918720        0.026391  \n",
       "42         0.918221        0.044201  "
      ]
     },
     "execution_count": 20,
     "metadata": {},
     "output_type": "execute_result"
    }
   ],
   "source": [
    "df_results.loc[:, 'svm_class':'std_test_score'].head()"
   ]
  },
  {
   "cell_type": "code",
   "execution_count": 21,
   "metadata": {},
   "outputs": [
    {
     "name": "stdout",
     "output_type": "stream",
     "text": [
      "test accuracy: 96.0 %\n"
     ]
    }
   ],
   "source": [
    "accuracy_test = svm_gscv.best_estimator_.score(F_test, y_test)\n",
    "print(f'test accuracy: {accuracy_test * 100:.1f} %')"
   ]
  },
  {
   "cell_type": "code",
   "execution_count": 22,
   "metadata": {},
   "outputs": [],
   "source": [
    "# Persist the result.\n",
    "desc = ', '.join([f'{key}={df_results.iloc[0][key]}' for key in ['svm_class', 'kernel', 'C', 'class_weight']])\n",
    "utils.persist_result('svm linear', 'part-06-b', desc, accuracy_test)"
   ]
  },
  {
   "cell_type": "markdown",
   "metadata": {},
   "source": [
    "### RBF kernel"
   ]
  },
  {
   "cell_type": "markdown",
   "metadata": {},
   "source": [
    "We perform a cross-validated grid search."
   ]
  },
  {
   "cell_type": "code",
   "execution_count": 23,
   "metadata": {},
   "outputs": [],
   "source": [
    "gammas = [0.01, 0.1, 1.0, 10.0, 'scale']\n",
    "\n",
    "# Setup the cross-validated grid search.\n",
    "grid = [\n",
    "    # SVC (kernel: RBF, minimize: hinge loss, strategy: one-vs-one)\n",
    "    {\n",
    "        'svm': [SVC(random_state=RANDOM_SEED)],\n",
    "        'svm__kernel': ['rbf'],\n",
    "        'svm__C': Cs,\n",
    "        'svm__gamma': gammas,\n",
    "        'svm__class_weight':[None, 'balanced']\n",
    "    }\n",
    "]\n",
    "\n",
    "# With 10 splits the model can be trained on 90% of the data points.\n",
    "cv = StratifiedKFold(n_splits=10, random_state=RANDOM_SEED)\n",
    "svm_gscv = GridSearchCV(svm_pipe, grid, n_jobs=-1, iid=False, refit=True, cv=cv, return_train_score=True)"
   ]
  },
  {
   "cell_type": "code",
   "execution_count": 24,
   "metadata": {},
   "outputs": [],
   "source": [
    "# Fit/evaluate the estimator.\n",
    "svm_gscv.fit(F_train_large, y_train_large);"
   ]
  },
  {
   "cell_type": "markdown",
   "metadata": {},
   "source": [
    "We convert the results to a data frame."
   ]
  },
  {
   "cell_type": "code",
   "execution_count": 25,
   "metadata": {},
   "outputs": [],
   "source": [
    "df_results = (pd\n",
    "    .DataFrame(data={\n",
    "        'svm_class': np.where(svm_gscv.cv_results_['param_svm__kernel'].mask, 'LinearSVC', 'SVC'),\n",
    "        'kernel': svm_gscv.cv_results_['param_svm__kernel'],\n",
    "        'C': svm_gscv.cv_results_['param_svm__C'],\n",
    "        'gamma': svm_gscv.cv_results_['param_svm__gamma'],\n",
    "        'class_weight': svm_gscv.cv_results_['param_svm__class_weight'],\n",
    "        'mean_train_score': svm_gscv.cv_results_['mean_train_score'],\n",
    "        'mean_test_score': svm_gscv.cv_results_['mean_test_score'],\n",
    "        'std_test_score': svm_gscv.cv_results_['std_test_score'],\n",
    "        'params': svm_gscv.cv_results_['params']\n",
    "    })\n",
    "    .sort_values(by='mean_test_score', ascending=False)\n",
    ")"
   ]
  },
  {
   "cell_type": "code",
   "execution_count": 26,
   "metadata": {},
   "outputs": [
    {
     "data": {
      "text/html": [
       "<div>\n",
       "<style scoped>\n",
       "    .dataframe tbody tr th:only-of-type {\n",
       "        vertical-align: middle;\n",
       "    }\n",
       "\n",
       "    .dataframe tbody tr th {\n",
       "        vertical-align: top;\n",
       "    }\n",
       "\n",
       "    .dataframe thead th {\n",
       "        text-align: right;\n",
       "    }\n",
       "</style>\n",
       "<table border=\"1\" class=\"dataframe\">\n",
       "  <thead>\n",
       "    <tr style=\"text-align: right;\">\n",
       "      <th></th>\n",
       "      <th>svm_class</th>\n",
       "      <th>kernel</th>\n",
       "      <th>C</th>\n",
       "      <th>gamma</th>\n",
       "      <th>class_weight</th>\n",
       "      <th>mean_train_score</th>\n",
       "      <th>mean_test_score</th>\n",
       "      <th>std_test_score</th>\n",
       "    </tr>\n",
       "  </thead>\n",
       "  <tbody>\n",
       "    <tr>\n",
       "      <th>169</th>\n",
       "      <td>SVC</td>\n",
       "      <td>rbf</td>\n",
       "      <td>10000</td>\n",
       "      <td>scale</td>\n",
       "      <td>balanced</td>\n",
       "      <td>1.0</td>\n",
       "      <td>0.918667</td>\n",
       "      <td>0.036464</td>\n",
       "    </tr>\n",
       "    <tr>\n",
       "      <th>104</th>\n",
       "      <td>SVC</td>\n",
       "      <td>rbf</td>\n",
       "      <td>10</td>\n",
       "      <td>scale</td>\n",
       "      <td>None</td>\n",
       "      <td>1.0</td>\n",
       "      <td>0.918667</td>\n",
       "      <td>0.036464</td>\n",
       "    </tr>\n",
       "    <tr>\n",
       "      <th>129</th>\n",
       "      <td>SVC</td>\n",
       "      <td>rbf</td>\n",
       "      <td>100</td>\n",
       "      <td>scale</td>\n",
       "      <td>balanced</td>\n",
       "      <td>1.0</td>\n",
       "      <td>0.918667</td>\n",
       "      <td>0.036464</td>\n",
       "    </tr>\n",
       "    <tr>\n",
       "      <th>119</th>\n",
       "      <td>SVC</td>\n",
       "      <td>rbf</td>\n",
       "      <td>31.6228</td>\n",
       "      <td>scale</td>\n",
       "      <td>balanced</td>\n",
       "      <td>1.0</td>\n",
       "      <td>0.918667</td>\n",
       "      <td>0.036464</td>\n",
       "    </tr>\n",
       "    <tr>\n",
       "      <th>134</th>\n",
       "      <td>SVC</td>\n",
       "      <td>rbf</td>\n",
       "      <td>316.228</td>\n",
       "      <td>scale</td>\n",
       "      <td>None</td>\n",
       "      <td>1.0</td>\n",
       "      <td>0.918667</td>\n",
       "      <td>0.036464</td>\n",
       "    </tr>\n",
       "  </tbody>\n",
       "</table>\n",
       "</div>"
      ],
      "text/plain": [
       "    svm_class kernel        C  gamma class_weight  mean_train_score  \\\n",
       "169       SVC    rbf    10000  scale     balanced               1.0   \n",
       "104       SVC    rbf       10  scale         None               1.0   \n",
       "129       SVC    rbf      100  scale     balanced               1.0   \n",
       "119       SVC    rbf  31.6228  scale     balanced               1.0   \n",
       "134       SVC    rbf  316.228  scale         None               1.0   \n",
       "\n",
       "     mean_test_score  std_test_score  \n",
       "169         0.918667        0.036464  \n",
       "104         0.918667        0.036464  \n",
       "129         0.918667        0.036464  \n",
       "119         0.918667        0.036464  \n",
       "134         0.918667        0.036464  "
      ]
     },
     "execution_count": 26,
     "metadata": {},
     "output_type": "execute_result"
    }
   ],
   "source": [
    "df_results.loc[:, 'svm_class':'std_test_score'].head()"
   ]
  },
  {
   "cell_type": "code",
   "execution_count": 27,
   "metadata": {},
   "outputs": [
    {
     "name": "stdout",
     "output_type": "stream",
     "text": [
      "test accuracy: 90.0 %\n"
     ]
    }
   ],
   "source": [
    "accuracy_test = svm_gscv.best_estimator_.score(F_test, y_test)\n",
    "print(f'test accuracy: {accuracy_test * 100:.1f} %')"
   ]
  },
  {
   "cell_type": "code",
   "execution_count": 28,
   "metadata": {},
   "outputs": [],
   "source": [
    "# Persist the result.\n",
    "desc = ', '.join([f'{key}={df_results.iloc[0][key]}' for key in ['svm_class', 'kernel', 'C', 'gamma', 'class_weight']])\n",
    "utils.persist_result('svm rbf', 'part-06-c', desc, accuracy_test)"
   ]
  },
  {
   "cell_type": "markdown",
   "metadata": {},
   "source": [
    "**Q: Does the RBF kernel perform better than the linear one?**\n",
    "\n",
    "A: In this case it does not."
   ]
  },
  {
   "cell_type": "code",
   "execution_count": null,
   "metadata": {},
   "outputs": [],
   "source": []
  }
 ],
 "metadata": {
  "kernelspec": {
   "display_name": "Python 3",
   "language": "python",
   "name": "python3"
  },
  "language_info": {
   "codemirror_mode": {
    "name": "ipython",
    "version": 3
   },
   "file_extension": ".py",
   "mimetype": "text/x-python",
   "name": "python",
   "nbconvert_exporter": "python",
   "pygments_lexer": "ipython3",
   "version": "3.6.9"
  }
 },
 "nbformat": 4,
 "nbformat_minor": 2
}
