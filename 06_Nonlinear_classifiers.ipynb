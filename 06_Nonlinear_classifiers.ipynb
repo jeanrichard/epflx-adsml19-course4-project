{
 "cells": [
  {
   "cell_type": "markdown",
   "metadata": {},
   "source": [
    "# Course 4 - Project - Part 6: Nonlinear classifiers"
   ]
  },
  {
   "cell_type": "markdown",
   "metadata": {},
   "source": [
    "<a name=\"top-6\"></a>\n",
    "This notebook is concerned with *Part 6: Nonlinear classifiers*.\n",
    "\n",
    "**Contents:**\n",
    "* [Step 0: Loading data](#step-6.0)\n",
    "* [Step 1: Try with a random Forests](#step-6.1)\n",
    "* [Step 2: Try with SVMs](#step-6.2)"
   ]
  },
  {
   "cell_type": "markdown",
   "metadata": {},
   "source": [
    "## Step 0: Loading data<a name=\"step-6.0\"></a> ([top](#top-6))\n",
    "---"
   ]
  },
  {
   "cell_type": "markdown",
   "metadata": {},
   "source": [
    "We load the training set with the extracted high-level features."
   ]
  },
  {
   "cell_type": "code",
   "execution_count": 1,
   "metadata": {},
   "outputs": [],
   "source": [
    "# Standard library.\n",
    "import os\n",
    "import pathlib\n",
    "import typing as T\n",
    "\n",
    "# 3rd party.\n",
    "import numpy as np\n",
    "\n",
    "# Project.\n",
    "import utils"
   ]
  },
  {
   "cell_type": "code",
   "execution_count": 2,
   "metadata": {},
   "outputs": [
    {
     "name": "stdout",
     "output_type": "stream",
     "text": [
      "--------------------------------------------------------------------------------\n",
      "Dataset: train\n",
      "data: shape=(280, 224, 224, 3), dtype=float32\n",
      "label_idxs: shape=(280,), dtype=int64\n",
      "label_strs: shape=(6,), dtype=<U10\n",
      "names: shape=(280,), dtype=<U19\n",
      "features: shape=(280, 1280), dtype=float32\n",
      "--------------------------------------------------------------------------------\n",
      "Dataset: valid\n",
      "data: shape=(139, 224, 224, 3), dtype=float32\n",
      "label_idxs: shape=(139,), dtype=int64\n",
      "label_strs: shape=(6,), dtype=<U10\n",
      "names: shape=(139,), dtype=<U19\n",
      "features: shape=(139, 1280), dtype=float32\n",
      "--------------------------------------------------------------------------------\n",
      "Dataset: test\n",
      "data: shape=(50, 224, 224, 3), dtype=float32\n",
      "label_idxs: shape=(50,), dtype=int64\n",
      "label_strs: shape=(6,), dtype=<U10\n",
      "names: shape=(50,), dtype=<U19\n",
      "features: shape=(50, 1280), dtype=float32\n"
     ]
    }
   ],
   "source": [
    "separator = ''.center(80, '-')\n",
    "\n",
    "path_train = pathlib.Path.cwd() / 'data' / 'swissroads-features-train.npz'\n",
    "data_train = utils.load(path_train)\n",
    "print(separator)\n",
    "print(f'Dataset: train\\n{utils.info(data_train)}')\n",
    "\n",
    "path_valid = pathlib.Path.cwd() / 'data' / 'swissroads-features-valid.npz'\n",
    "data_valid = utils.load(path_valid)\n",
    "print(separator)\n",
    "print(f'Dataset: valid\\n{utils.info(data_valid)}')\n",
    "\n",
    "path_test = pathlib.Path.cwd() / 'data' / 'swissroads-features-test.npz'\n",
    "data_test = utils.load(path_test)\n",
    "print(separator)\n",
    "print(f'Dataset: test\\n{utils.info(data_test)}')"
   ]
  },
  {
   "cell_type": "code",
   "execution_count": 3,
   "metadata": {},
   "outputs": [],
   "source": [
    "label_strs = data_train['label_strs']  # Same for all data sets.\n",
    "assert (\n",
    "    np.all(data_train['label_strs'] == data_valid['label_strs']) and\n",
    "    np.all(data_train['label_strs'] == data_test['label_strs'])\n",
    ")\n",
    "\n",
    "X_train = data_train['data']\n",
    "y_train = data_train['label_idxs']\n",
    "F_train = data_train['features']\n",
    "N_train = data_train['names']\n",
    "\n",
    "X_valid = data_valid['data']\n",
    "y_valid = data_valid['label_idxs']\n",
    "F_valid = data_valid['features']\n",
    "N_valid = data_train['names']\n",
    "\n",
    "X_test = data_test['data']\n",
    "y_test = data_test['label_idxs']\n",
    "F_test = data_test['features']\n",
    "N_test = data_test['names']"
   ]
  },
  {
   "cell_type": "markdown",
   "metadata": {},
   "source": [
    "## Step 1: Try with random Forests<a name=\"step-6.1\"></a> ([top](#top-6))\n",
    "---"
   ]
  },
  {
   "cell_type": "code",
   "execution_count": 4,
   "metadata": {},
   "outputs": [],
   "source": [
    "# 3rd party.\n",
    "import numpy as np\n",
    "import pandas as pd\n",
    "from sklearn.ensemble import RandomForestClassifier\n",
    "from sklearn.model_selection import GridSearchCV\n",
    "from sklearn.model_selection import StratifiedKFold"
   ]
  },
  {
   "cell_type": "markdown",
   "metadata": {},
   "source": [
    "We want to use a random forest classifier."
   ]
  },
  {
   "cell_type": "markdown",
   "metadata": {},
   "source": [
    "In this part it makes sense to merge the training and the validation sets for cross-validation (since we would not make use of the validation set otherwise)."
   ]
  },
  {
   "cell_type": "code",
   "execution_count": 5,
   "metadata": {},
   "outputs": [],
   "source": [
    "X_train_large = np.concatenate([X_train, X_valid])\n",
    "y_train_large = np.concatenate([y_train, y_valid])\n",
    "F_train_large = np.concatenate([F_train, F_valid])\n",
    "N_train_large = np.concatenate([N_train, N_valid])"
   ]
  },
  {
   "cell_type": "markdown",
   "metadata": {},
   "source": [
    "We just note that that we do not have balanced classes."
   ]
  },
  {
   "cell_type": "code",
   "execution_count": 6,
   "metadata": {},
   "outputs": [
    {
     "data": {
      "text/html": [
       "<style  type=\"text/css\" >\n",
       "</style><table id=\"T_bb4ec6a8_0ee4_11ea_879d_c869cdc070be\" ><thead>    <tr>        <th class=\"blank level0\" ></th>        <th class=\"col_heading level0 col0\" >count</th>        <th class=\"col_heading level0 col1\" >fraction</th>    </tr></thead><tbody>\n",
       "                <tr>\n",
       "                        <th id=\"T_bb4ec6a8_0ee4_11ea_879d_c869cdc070belevel0_row0\" class=\"row_heading level0 row0\" >bike</th>\n",
       "                        <td id=\"T_bb4ec6a8_0ee4_11ea_879d_c869cdc070berow0_col0\" class=\"data row0 col0\" >9900.00%</td>\n",
       "                        <td id=\"T_bb4ec6a8_0ee4_11ea_879d_c869cdc070berow0_col1\" class=\"data row0 col1\" >23.63%</td>\n",
       "            </tr>\n",
       "            <tr>\n",
       "                        <th id=\"T_bb4ec6a8_0ee4_11ea_879d_c869cdc070belevel0_row1\" class=\"row_heading level0 row1\" >car</th>\n",
       "                        <td id=\"T_bb4ec6a8_0ee4_11ea_879d_c869cdc070berow1_col0\" class=\"data row1 col0\" >9600.00%</td>\n",
       "                        <td id=\"T_bb4ec6a8_0ee4_11ea_879d_c869cdc070berow1_col1\" class=\"data row1 col1\" >22.91%</td>\n",
       "            </tr>\n",
       "            <tr>\n",
       "                        <th id=\"T_bb4ec6a8_0ee4_11ea_879d_c869cdc070belevel0_row2\" class=\"row_heading level0 row2\" >motorcycle</th>\n",
       "                        <td id=\"T_bb4ec6a8_0ee4_11ea_879d_c869cdc070berow2_col0\" class=\"data row2 col0\" >7600.00%</td>\n",
       "                        <td id=\"T_bb4ec6a8_0ee4_11ea_879d_c869cdc070berow2_col1\" class=\"data row2 col1\" >18.14%</td>\n",
       "            </tr>\n",
       "            <tr>\n",
       "                        <th id=\"T_bb4ec6a8_0ee4_11ea_879d_c869cdc070belevel0_row3\" class=\"row_heading level0 row3\" >other</th>\n",
       "                        <td id=\"T_bb4ec6a8_0ee4_11ea_879d_c869cdc070berow3_col0\" class=\"data row3 col0\" >6300.00%</td>\n",
       "                        <td id=\"T_bb4ec6a8_0ee4_11ea_879d_c869cdc070berow3_col1\" class=\"data row3 col1\" >15.04%</td>\n",
       "            </tr>\n",
       "            <tr>\n",
       "                        <th id=\"T_bb4ec6a8_0ee4_11ea_879d_c869cdc070belevel0_row4\" class=\"row_heading level0 row4\" >truck</th>\n",
       "                        <td id=\"T_bb4ec6a8_0ee4_11ea_879d_c869cdc070berow4_col0\" class=\"data row4 col0\" >4800.00%</td>\n",
       "                        <td id=\"T_bb4ec6a8_0ee4_11ea_879d_c869cdc070berow4_col1\" class=\"data row4 col1\" >11.46%</td>\n",
       "            </tr>\n",
       "            <tr>\n",
       "                        <th id=\"T_bb4ec6a8_0ee4_11ea_879d_c869cdc070belevel0_row5\" class=\"row_heading level0 row5\" >van</th>\n",
       "                        <td id=\"T_bb4ec6a8_0ee4_11ea_879d_c869cdc070berow5_col0\" class=\"data row5 col0\" >3700.00%</td>\n",
       "                        <td id=\"T_bb4ec6a8_0ee4_11ea_879d_c869cdc070berow5_col1\" class=\"data row5 col1\" >8.83%</td>\n",
       "            </tr>\n",
       "    </tbody></table>"
      ],
      "text/plain": [
       "<pandas.io.formats.style.Styler at 0x10b2d9a20>"
      ]
     },
     "execution_count": 6,
     "metadata": {},
     "output_type": "execute_result"
    }
   ],
   "source": [
    "df_counts = (pd\n",
    " .DataFrame(data=pd.Series(data=y_train_large).value_counts(), columns=['count'])\n",
    " .set_index(label_strs)\n",
    ")\n",
    "df_counts['fraction'] = df_counts['count'] / df_counts['count'].sum()\n",
    "df_counts.style.format('{:.2%}')"
   ]
  },
  {
   "cell_type": "markdown",
   "metadata": {},
   "source": [
    "We create a random forest classifier."
   ]
  },
  {
   "cell_type": "code",
   "execution_count": 7,
   "metadata": {},
   "outputs": [],
   "source": [
    "RANDOM_STATE = 0\n",
    "\n",
    "# Create the estimator.\n",
    "rf = RandomForestClassifier(random_state=RANDOM_STATE)  # Use defaults."
   ]
  },
  {
   "cell_type": "markdown",
   "metadata": {},
   "source": [
    "We perform a cross-validated grid search."
   ]
  },
  {
   "cell_type": "code",
   "execution_count": 8,
   "metadata": {},
   "outputs": [],
   "source": [
    "# Setup the cross-validated grid search.\n",
    "grid = {\n",
    "    'n_estimators': [1, 5, 10, 100, 200],\n",
    "    'max_depth': list(range(1, 10 + 1)) + [None],  # 1, 2, ..., 10, None\n",
    "    'class_weight': [None, 'balanced', 'balanced_subsample']\n",
    "}\n",
    "\n",
    "cv = StratifiedKFold(n_splits=10, random_state=RANDOM_STATE)\n",
    "rf_gscv = GridSearchCV(rf, grid, n_jobs=-1, iid=False, refit=True, cv=cv, return_train_score=True)"
   ]
  },
  {
   "cell_type": "code",
   "execution_count": 9,
   "metadata": {},
   "outputs": [],
   "source": [
    "# Fit/evaluate the estimator.\n",
    "rf_gscv.fit(F_train_large, y_train_large);"
   ]
  },
  {
   "cell_type": "markdown",
   "metadata": {},
   "source": [
    "We convert the results into a data frame."
   ]
  },
  {
   "cell_type": "code",
   "execution_count": 10,
   "metadata": {},
   "outputs": [],
   "source": [
    "# Collect results in a data frame.\n",
    "df_results = (pd\n",
    "    .DataFrame({\n",
    "        'n_estimators': rf_gscv.cv_results_['param_n_estimators'],\n",
    "        'max_depth': rf_gscv.cv_results_['param_max_depth'],\n",
    "        'class_weight': rf_gscv.cv_results_['param_class_weight'],\n",
    "        'mean_train_score': rf_gscv.cv_results_['mean_train_score'],\n",
    "        'mean_test_score': rf_gscv.cv_results_['mean_test_score'],\n",
    "        'std_test_score': rf_gscv.cv_results_['std_test_score'],\n",
    "        'params': rf_gscv.cv_results_['params']\n",
    "    })\n",
    "    .sort_values(by='mean_test_score', ascending=False)\n",
    ")"
   ]
  },
  {
   "cell_type": "code",
   "execution_count": 11,
   "metadata": {},
   "outputs": [
    {
     "data": {
      "text/html": [
       "<div>\n",
       "<style scoped>\n",
       "    .dataframe tbody tr th:only-of-type {\n",
       "        vertical-align: middle;\n",
       "    }\n",
       "\n",
       "    .dataframe tbody tr th {\n",
       "        vertical-align: top;\n",
       "    }\n",
       "\n",
       "    .dataframe thead th {\n",
       "        text-align: right;\n",
       "    }\n",
       "</style>\n",
       "<table border=\"1\" class=\"dataframe\">\n",
       "  <thead>\n",
       "    <tr style=\"text-align: right;\">\n",
       "      <th></th>\n",
       "      <th>n_estimators</th>\n",
       "      <th>max_depth</th>\n",
       "      <th>class_weight</th>\n",
       "      <th>mean_train_score</th>\n",
       "      <th>mean_test_score</th>\n",
       "      <th>std_test_score</th>\n",
       "    </tr>\n",
       "  </thead>\n",
       "  <tbody>\n",
       "    <tr>\n",
       "      <th>73</th>\n",
       "      <td>100</td>\n",
       "      <td>4</td>\n",
       "      <td>balanced</td>\n",
       "      <td>0.990723</td>\n",
       "      <td>0.912760</td>\n",
       "      <td>0.036302</td>\n",
       "    </tr>\n",
       "    <tr>\n",
       "      <th>148</th>\n",
       "      <td>100</td>\n",
       "      <td>8</td>\n",
       "      <td>balanced_subsample</td>\n",
       "      <td>1.000000</td>\n",
       "      <td>0.909814</td>\n",
       "      <td>0.035242</td>\n",
       "    </tr>\n",
       "    <tr>\n",
       "      <th>79</th>\n",
       "      <td>200</td>\n",
       "      <td>5</td>\n",
       "      <td>balanced</td>\n",
       "      <td>0.996561</td>\n",
       "      <td>0.909762</td>\n",
       "      <td>0.040955</td>\n",
       "    </tr>\n",
       "    <tr>\n",
       "      <th>83</th>\n",
       "      <td>100</td>\n",
       "      <td>6</td>\n",
       "      <td>balanced</td>\n",
       "      <td>0.999473</td>\n",
       "      <td>0.909217</td>\n",
       "      <td>0.037823</td>\n",
       "    </tr>\n",
       "    <tr>\n",
       "      <th>74</th>\n",
       "      <td>200</td>\n",
       "      <td>4</td>\n",
       "      <td>balanced</td>\n",
       "      <td>0.990192</td>\n",
       "      <td>0.907390</td>\n",
       "      <td>0.025099</td>\n",
       "    </tr>\n",
       "  </tbody>\n",
       "</table>\n",
       "</div>"
      ],
      "text/plain": [
       "    n_estimators max_depth        class_weight  mean_train_score  \\\n",
       "73           100         4            balanced          0.990723   \n",
       "148          100         8  balanced_subsample          1.000000   \n",
       "79           200         5            balanced          0.996561   \n",
       "83           100         6            balanced          0.999473   \n",
       "74           200         4            balanced          0.990192   \n",
       "\n",
       "     mean_test_score  std_test_score  \n",
       "73          0.912760        0.036302  \n",
       "148         0.909814        0.035242  \n",
       "79          0.909762        0.040955  \n",
       "83          0.909217        0.037823  \n",
       "74          0.907390        0.025099  "
      ]
     },
     "execution_count": 11,
     "metadata": {},
     "output_type": "execute_result"
    }
   ],
   "source": [
    "df_results.loc[:, 'n_estimators':'std_test_score'].head()"
   ]
  },
  {
   "cell_type": "markdown",
   "metadata": {},
   "source": [
    "**Comment:** The best result is 91.3 % accuracy on the test set."
   ]
  },
  {
   "cell_type": "markdown",
   "metadata": {},
   "source": [
    "## Step 2: Try with SVMs<a name=\"step-6.2\"></a> ([top](#top-6))\n",
    "---"
   ]
  },
  {
   "cell_type": "code",
   "execution_count": 12,
   "metadata": {},
   "outputs": [],
   "source": [
    "from sklearn.model_selection import GridSearchCV\n",
    "from sklearn.model_selection import StratifiedKFold\n",
    "from sklearn.pipeline import Pipeline\n",
    "from sklearn.svm import LinearSVC\n",
    "from sklearn.svm import SVC"
   ]
  },
  {
   "cell_type": "markdown",
   "metadata": {},
   "source": [
    "We want to tune the regularization strength of the logistic regression classifier with cross-validated grid search."
   ]
  },
  {
   "cell_type": "markdown",
   "metadata": {},
   "source": [
    "**Note:** We have imbalanced classes (e.g. 22.63% bike vs. 8.83% van)."
   ]
  },
  {
   "cell_type": "code",
   "execution_count": 13,
   "metadata": {},
   "outputs": [
    {
     "data": {
      "text/html": [
       "<style  type=\"text/css\" >\n",
       "</style><table id=\"T_1ed6ac74_0ee5_11ea_9a2f_c869cdc070be\" ><thead>    <tr>        <th class=\"blank level0\" ></th>        <th class=\"col_heading level0 col0\" >count</th>        <th class=\"col_heading level0 col1\" >fraction</th>    </tr></thead><tbody>\n",
       "                <tr>\n",
       "                        <th id=\"T_1ed6ac74_0ee5_11ea_9a2f_c869cdc070belevel0_row0\" class=\"row_heading level0 row0\" >bike</th>\n",
       "                        <td id=\"T_1ed6ac74_0ee5_11ea_9a2f_c869cdc070berow0_col0\" class=\"data row0 col0\" >99</td>\n",
       "                        <td id=\"T_1ed6ac74_0ee5_11ea_9a2f_c869cdc070berow0_col1\" class=\"data row0 col1\" >23.63%</td>\n",
       "            </tr>\n",
       "            <tr>\n",
       "                        <th id=\"T_1ed6ac74_0ee5_11ea_9a2f_c869cdc070belevel0_row1\" class=\"row_heading level0 row1\" >car</th>\n",
       "                        <td id=\"T_1ed6ac74_0ee5_11ea_9a2f_c869cdc070berow1_col0\" class=\"data row1 col0\" >96</td>\n",
       "                        <td id=\"T_1ed6ac74_0ee5_11ea_9a2f_c869cdc070berow1_col1\" class=\"data row1 col1\" >22.91%</td>\n",
       "            </tr>\n",
       "            <tr>\n",
       "                        <th id=\"T_1ed6ac74_0ee5_11ea_9a2f_c869cdc070belevel0_row2\" class=\"row_heading level0 row2\" >motorcycle</th>\n",
       "                        <td id=\"T_1ed6ac74_0ee5_11ea_9a2f_c869cdc070berow2_col0\" class=\"data row2 col0\" >76</td>\n",
       "                        <td id=\"T_1ed6ac74_0ee5_11ea_9a2f_c869cdc070berow2_col1\" class=\"data row2 col1\" >18.14%</td>\n",
       "            </tr>\n",
       "            <tr>\n",
       "                        <th id=\"T_1ed6ac74_0ee5_11ea_9a2f_c869cdc070belevel0_row3\" class=\"row_heading level0 row3\" >other</th>\n",
       "                        <td id=\"T_1ed6ac74_0ee5_11ea_9a2f_c869cdc070berow3_col0\" class=\"data row3 col0\" >63</td>\n",
       "                        <td id=\"T_1ed6ac74_0ee5_11ea_9a2f_c869cdc070berow3_col1\" class=\"data row3 col1\" >15.04%</td>\n",
       "            </tr>\n",
       "            <tr>\n",
       "                        <th id=\"T_1ed6ac74_0ee5_11ea_9a2f_c869cdc070belevel0_row4\" class=\"row_heading level0 row4\" >truck</th>\n",
       "                        <td id=\"T_1ed6ac74_0ee5_11ea_9a2f_c869cdc070berow4_col0\" class=\"data row4 col0\" >48</td>\n",
       "                        <td id=\"T_1ed6ac74_0ee5_11ea_9a2f_c869cdc070berow4_col1\" class=\"data row4 col1\" >11.46%</td>\n",
       "            </tr>\n",
       "            <tr>\n",
       "                        <th id=\"T_1ed6ac74_0ee5_11ea_9a2f_c869cdc070belevel0_row5\" class=\"row_heading level0 row5\" >van</th>\n",
       "                        <td id=\"T_1ed6ac74_0ee5_11ea_9a2f_c869cdc070berow5_col0\" class=\"data row5 col0\" >37</td>\n",
       "                        <td id=\"T_1ed6ac74_0ee5_11ea_9a2f_c869cdc070berow5_col1\" class=\"data row5 col1\" >8.83%</td>\n",
       "            </tr>\n",
       "    </tbody></table>"
      ],
      "text/plain": [
       "<pandas.io.formats.style.Styler at 0x136f99320>"
      ]
     },
     "execution_count": 13,
     "metadata": {},
     "output_type": "execute_result"
    }
   ],
   "source": [
    "df_counts = (pd\n",
    " .DataFrame(data=pd.Series(data=y_train_large).value_counts(), columns=['count'])\n",
    " .set_index(label_strs)\n",
    ")\n",
    "df_counts['fraction'] = df_counts['count'] / df_counts['count'].sum()\n",
    "df_counts.style.format({'fraction': '{:.2%}'})"
   ]
  },
  {
   "cell_type": "code",
   "execution_count": 15,
   "metadata": {},
   "outputs": [],
   "source": [
    "# Create the estimator.\n",
    "svm_pipe = Pipeline([\n",
    "    ('svm', LinearSVC(random_state=RANDOM_STATE)),\n",
    "])"
   ]
  },
  {
   "cell_type": "code",
   "execution_count": 16,
   "metadata": {},
   "outputs": [],
   "source": [
    "Cs = np.logspace(-4, 4, num=2 * 8 + 1)  # C defaults to 1.0.\n",
    "gammas = [0.01, 0.1, 1.0, 10.0, 'scale']\n",
    "\n",
    "# Setup the cross-validated grid search.\n",
    "grid = [\n",
    "    # LinearSVC (minize: squared hinge loss, strategy: one-vs-rest)\n",
    "    {\n",
    "        'svm__C': Cs,\n",
    "        'svm__class_weight':[None, 'balanced']\n",
    "    },\n",
    "    # SVC (kernel: linear, minimize: hinge loss, strategy: one-vs-one)\n",
    "    {\n",
    "        'svm': [SVC(random_state=RANDOM_STATE)],\n",
    "        'svm__kernel': ['linear'],\n",
    "        'svm__C': Cs,\n",
    "        'svm__class_weight':[None, 'balanced']\n",
    "    },\n",
    "    # SVC (kernel: RBF, minimize: hinge loss, strategy: one-vs-one)\n",
    "    {\n",
    "        'svm': [SVC(random_state=RANDOM_STATE)],\n",
    "        'svm__kernel': ['rbf'],\n",
    "        'svm__C': Cs,\n",
    "        'svm__gamma': gammas,\n",
    "        'svm__class_weight':[None, 'balanced']\n",
    "    }\n",
    "]\n",
    "\n",
    "cv = StratifiedKFold(n_splits=10, random_state=RANDOM_STATE)\n",
    "svm_gscv = GridSearchCV(svm_pipe, grid, n_jobs=-1, iid=False, refit=True, cv=cv, return_train_score=True)"
   ]
  },
  {
   "cell_type": "code",
   "execution_count": 17,
   "metadata": {},
   "outputs": [],
   "source": [
    "# Fit/evaluate the estimator.\n",
    "svm_gscv.fit(F_train_large, y_train_large);"
   ]
  },
  {
   "cell_type": "code",
   "execution_count": 18,
   "metadata": {},
   "outputs": [],
   "source": [
    "# Collect results in a data frame.\n",
    "df_results = (pd\n",
    "    .DataFrame({\n",
    "        'svm': svm_gscv.cv_results_['param_svm'],\n",
    "        'kernel': svm_gscv.cv_results_['param_svm__kernel'],\n",
    "        'C': svm_gscv.cv_results_['param_svm__C'],\n",
    "        'gamma': svm_gscv.cv_results_['param_svm__gamma'],\n",
    "        'class_weight': svm_gscv.cv_results_['param_svm__class_weight'],\n",
    "        'mean_train_score': svm_gscv.cv_results_['mean_train_score'],\n",
    "        'mean_test_score': svm_gscv.cv_results_['mean_test_score'],\n",
    "        'std_test_score': svm_gscv.cv_results_['std_test_score'],\n",
    "        'params': svm_gscv.cv_results_['params']\n",
    "    })\n",
    "    .sort_values(by='mean_test_score', ascending=False)\n",
    ")"
   ]
  },
  {
   "cell_type": "code",
   "execution_count": 19,
   "metadata": {},
   "outputs": [
    {
     "data": {
      "text/html": [
       "<div>\n",
       "<style scoped>\n",
       "    .dataframe tbody tr th:only-of-type {\n",
       "        vertical-align: middle;\n",
       "    }\n",
       "\n",
       "    .dataframe tbody tr th {\n",
       "        vertical-align: top;\n",
       "    }\n",
       "\n",
       "    .dataframe thead th {\n",
       "        text-align: right;\n",
       "    }\n",
       "</style>\n",
       "<table border=\"1\" class=\"dataframe\">\n",
       "  <thead>\n",
       "    <tr style=\"text-align: right;\">\n",
       "      <th></th>\n",
       "      <th>svm</th>\n",
       "      <th>kernel</th>\n",
       "      <th>C</th>\n",
       "      <th>gamma</th>\n",
       "      <th>class_weight</th>\n",
       "      <th>mean_train_score</th>\n",
       "      <th>mean_test_score</th>\n",
       "      <th>std_test_score</th>\n",
       "      <th>params</th>\n",
       "    </tr>\n",
       "  </thead>\n",
       "  <tbody>\n",
       "    <tr>\n",
       "      <th>157</th>\n",
       "      <td>SVC(C=1.0, cache_size=200, class_weight='balan...</td>\n",
       "      <td>rbf</td>\n",
       "      <td>1</td>\n",
       "      <td>scale</td>\n",
       "      <td>balanced</td>\n",
       "      <td>0.985679</td>\n",
       "      <td>0.926124</td>\n",
       "      <td>0.018708</td>\n",
       "      <td>{'svm': SVC(C=1.0, cache_size=200, class_weigh...</td>\n",
       "    </tr>\n",
       "    <tr>\n",
       "      <th>167</th>\n",
       "      <td>SVC(C=1.0, cache_size=200, class_weight='balan...</td>\n",
       "      <td>rbf</td>\n",
       "      <td>3.16228</td>\n",
       "      <td>scale</td>\n",
       "      <td>balanced</td>\n",
       "      <td>0.998411</td>\n",
       "      <td>0.923265</td>\n",
       "      <td>0.040387</td>\n",
       "      <td>{'svm': SVC(C=1.0, cache_size=200, class_weigh...</td>\n",
       "    </tr>\n",
       "    <tr>\n",
       "      <th>162</th>\n",
       "      <td>SVC(C=1.0, cache_size=200, class_weight='balan...</td>\n",
       "      <td>rbf</td>\n",
       "      <td>3.16228</td>\n",
       "      <td>scale</td>\n",
       "      <td>None</td>\n",
       "      <td>0.995227</td>\n",
       "      <td>0.923265</td>\n",
       "      <td>0.041646</td>\n",
       "      <td>{'svm': SVC(C=1.0, cache_size=200, class_weigh...</td>\n",
       "    </tr>\n",
       "    <tr>\n",
       "      <th>38</th>\n",
       "      <td>SVC(C=1.0, cache_size=200, class_weight=None, ...</td>\n",
       "      <td>linear</td>\n",
       "      <td>0.001</td>\n",
       "      <td>NaN</td>\n",
       "      <td>None</td>\n",
       "      <td>0.956515</td>\n",
       "      <td>0.921220</td>\n",
       "      <td>0.029588</td>\n",
       "      <td>{'svm': SVC(C=1.0, cache_size=200, class_weigh...</td>\n",
       "    </tr>\n",
       "    <tr>\n",
       "      <th>152</th>\n",
       "      <td>SVC(C=1.0, cache_size=200, class_weight='balan...</td>\n",
       "      <td>rbf</td>\n",
       "      <td>1</td>\n",
       "      <td>scale</td>\n",
       "      <td>None</td>\n",
       "      <td>0.986479</td>\n",
       "      <td>0.920992</td>\n",
       "      <td>0.033499</td>\n",
       "      <td>{'svm': SVC(C=1.0, cache_size=200, class_weigh...</td>\n",
       "    </tr>\n",
       "  </tbody>\n",
       "</table>\n",
       "</div>"
      ],
      "text/plain": [
       "                                                   svm  kernel        C  \\\n",
       "157  SVC(C=1.0, cache_size=200, class_weight='balan...     rbf        1   \n",
       "167  SVC(C=1.0, cache_size=200, class_weight='balan...     rbf  3.16228   \n",
       "162  SVC(C=1.0, cache_size=200, class_weight='balan...     rbf  3.16228   \n",
       "38   SVC(C=1.0, cache_size=200, class_weight=None, ...  linear    0.001   \n",
       "152  SVC(C=1.0, cache_size=200, class_weight='balan...     rbf        1   \n",
       "\n",
       "     gamma class_weight  mean_train_score  mean_test_score  std_test_score  \\\n",
       "157  scale     balanced          0.985679         0.926124        0.018708   \n",
       "167  scale     balanced          0.998411         0.923265        0.040387   \n",
       "162  scale         None          0.995227         0.923265        0.041646   \n",
       "38     NaN         None          0.956515         0.921220        0.029588   \n",
       "152  scale         None          0.986479         0.920992        0.033499   \n",
       "\n",
       "                                                params  \n",
       "157  {'svm': SVC(C=1.0, cache_size=200, class_weigh...  \n",
       "167  {'svm': SVC(C=1.0, cache_size=200, class_weigh...  \n",
       "162  {'svm': SVC(C=1.0, cache_size=200, class_weigh...  \n",
       "38   {'svm': SVC(C=1.0, cache_size=200, class_weigh...  \n",
       "152  {'svm': SVC(C=1.0, cache_size=200, class_weigh...  "
      ]
     },
     "execution_count": 19,
     "metadata": {},
     "output_type": "execute_result"
    }
   ],
   "source": [
    "df_results.head()"
   ]
  },
  {
   "cell_type": "code",
   "execution_count": null,
   "metadata": {},
   "outputs": [],
   "source": []
  }
 ],
 "metadata": {
  "kernelspec": {
   "display_name": "Python 3",
   "language": "python",
   "name": "python3"
  },
  "language_info": {
   "codemirror_mode": {
    "name": "ipython",
    "version": 3
   },
   "file_extension": ".py",
   "mimetype": "text/x-python",
   "name": "python",
   "nbconvert_exporter": "python",
   "pygments_lexer": "ipython3",
   "version": "3.6.7"
  }
 },
 "nbformat": 4,
 "nbformat_minor": 2
}
