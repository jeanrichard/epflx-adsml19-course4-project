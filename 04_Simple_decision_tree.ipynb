{
 "cells": [
  {
   "cell_type": "markdown",
   "metadata": {},
   "source": [
    "# Course 4 - Project - Part 4: Simple decision trees"
   ]
  },
  {
   "cell_type": "markdown",
   "metadata": {},
   "source": [
    "<a name=\"top-4\"></a>\n",
    "This notebook is concerned with *Part 4: Simple decision trees*.\n",
    "\n",
    "**Contents:**\n",
    "* [Step 0: Loading data](#step-4.0)\n",
    "* [Step 1: Fit a decision tree classifier of depth 3](#step-4.1)\n",
    "* [Step 2: Plot the corresponding decision tree](#step-4.2)\n",
    "* [Step 3: Try to reduce the number of dimensions with PCA first](#step-4.3)\n",
    "* [Step 4: Summary](#step-4.4)"
   ]
  },
  {
   "cell_type": "markdown",
   "metadata": {},
   "source": [
    "## Step 0: Loading data<a name=\"step-4.0\"></a> ([top](#top-4))\n",
    "---"
   ]
  },
  {
   "cell_type": "markdown",
   "metadata": {},
   "source": [
    "We load the training set with the extracted high-level features."
   ]
  },
  {
   "cell_type": "code",
   "execution_count": 1,
   "metadata": {},
   "outputs": [],
   "source": [
    "# Standard library.\n",
    "import os\n",
    "import pathlib\n",
    "import typing as T\n",
    "\n",
    "# 3rd party.\n",
    "import numpy as np\n",
    "\n",
    "# Project.\n",
    "import utils"
   ]
  },
  {
   "cell_type": "code",
   "execution_count": 2,
   "metadata": {},
   "outputs": [
    {
     "name": "stdout",
     "output_type": "stream",
     "text": [
      "--------------------------------------------------------------------------------\n",
      "Dataset: train\n",
      "data: shape=(280, 224, 224, 3), dtype=float32\n",
      "labels: shape=(280,), dtype=int64\n",
      "names: shape=(6,), dtype=<U10\n",
      "features: shape=(280, 1280), dtype=float32\n",
      "--------------------------------------------------------------------------------\n",
      "Dataset: valid\n",
      "data: shape=(139, 224, 224, 3), dtype=float32\n",
      "labels: shape=(139,), dtype=int64\n",
      "names: shape=(6,), dtype=<U10\n",
      "features: shape=(139, 1280), dtype=float32\n",
      "--------------------------------------------------------------------------------\n",
      "Dataset: test\n",
      "data: shape=(50, 224, 224, 3), dtype=float32\n",
      "labels: shape=(50,), dtype=int64\n",
      "names: shape=(6,), dtype=<U10\n",
      "features: shape=(50, 1280), dtype=float32\n"
     ]
    }
   ],
   "source": [
    "separator = ''.center(80, '-')\n",
    "\n",
    "path_train = pathlib.Path.cwd() / 'data' / 'swissroads-features-train.npz'\n",
    "data_train = utils.load(path_train)\n",
    "print(separator)\n",
    "print(f'Dataset: train\\n{utils.info(data_train)}')\n",
    "\n",
    "path_valid = pathlib.Path.cwd() / 'data' / 'swissroads-features-valid.npz'\n",
    "data_valid = utils.load(path_valid)\n",
    "print(separator)\n",
    "print(f'Dataset: valid\\n{utils.info(data_valid)}')\n",
    "\n",
    "path_test = pathlib.Path.cwd() / 'data' / 'swissroads-features-test.npz'\n",
    "data_test = utils.load(path_test)\n",
    "print(separator)\n",
    "print(f'Dataset: test\\n{utils.info(data_test)}')"
   ]
  },
  {
   "cell_type": "code",
   "execution_count": 3,
   "metadata": {},
   "outputs": [],
   "source": [
    "names = data_train['names']  # Same for all data sets.\n",
    "assert (\n",
    "    np.all(data_train['names'] == data_valid['names']) and\n",
    "    np.all(data_train['names'] == data_test['names'])\n",
    ")\n",
    "\n",
    "X_train = data_train['data']\n",
    "y_train = data_train['labels']\n",
    "F_train = data_train['features']\n",
    "\n",
    "X_valid = data_valid['data']\n",
    "y_valid = data_valid['labels']\n",
    "F_valid = data_valid['features']\n",
    "\n",
    "X_test = data_test['data']\n",
    "y_test = data_test['labels']\n",
    "F_test = data_test['features']"
   ]
  },
  {
   "cell_type": "markdown",
   "metadata": {},
   "source": [
    "## Step 1: Fit a decision tree classifier of depth 3<a name=\"step-4.1\"></a> ([top](#top-4))\n",
    "---"
   ]
  },
  {
   "cell_type": "code",
   "execution_count": 4,
   "metadata": {},
   "outputs": [],
   "source": [
    "# 3rd party.\n",
    "%matplotlib inline\n",
    "import graphviz\n",
    "import matplotlib.pyplot as plt\n",
    "from sklearn.tree import DecisionTreeClassifier"
   ]
  },
  {
   "cell_type": "markdown",
   "metadata": {},
   "source": [
    "We fit a decision tree classifier of depth 3."
   ]
  },
  {
   "cell_type": "code",
   "execution_count": 5,
   "metadata": {},
   "outputs": [
    {
     "name": "stdout",
     "output_type": "stream",
     "text": [
      "Train accuracy: 75.4 %\n",
      "Test accuracy: 72.0 %\n"
     ]
    }
   ],
   "source": [
    "# Create decision tree.\n",
    "dt = DecisionTreeClassifier(\n",
    "    criterion='gini', max_depth=3,\n",
    "    random_state=0  # Make it deterministic.\n",
    ")\n",
    "\n",
    "# Fit decision tree.\n",
    "dt.fit(F_train, y_train)\n",
    "\n",
    "# Get score on the training set.\n",
    "accuracy_train = dt.score(F_train, y_train)\n",
    "print(f'Train accuracy: {accuracy_train * 100:.1f} %')\n",
    "\n",
    "# Get score on the test set.\n",
    "accuracy_test = dt.score(F_test, y_test)\n",
    "print(f'Test accuracy: {accuracy_test * 100:.1f} %')"
   ]
  },
  {
   "cell_type": "markdown",
   "metadata": {},
   "source": [
    "## Step 2: Plot the corresponding decision tree<a name=\"step-4.2\"></a> ([top](#top-4))\n",
    "---"
   ]
  },
  {
   "cell_type": "code",
   "execution_count": 6,
   "metadata": {},
   "outputs": [],
   "source": [
    "# 3rd party.\n",
    "from sklearn.tree import export_graphviz"
   ]
  },
  {
   "cell_type": "markdown",
   "metadata": {},
   "source": [
    "We plot the coresponding decision tree. In this case, since we are working with high-level features, we do not have better names for the features or the classes."
   ]
  },
  {
   "cell_type": "markdown",
   "metadata": {},
   "source": [
    "**Note:** In Sklearn 0.21+ the function `sklearn.tree.plot_tree` would offer more control to plot the tree."
   ]
  },
  {
   "cell_type": "code",
   "execution_count": 7,
   "metadata": {},
   "outputs": [
    {
     "data": {
      "image/svg+xml": [
       "<?xml version=\"1.0\" encoding=\"UTF-8\" standalone=\"no\"?>\n",
       "<!DOCTYPE svg PUBLIC \"-//W3C//DTD SVG 1.1//EN\"\n",
       " \"http://www.w3.org/Graphics/SVG/1.1/DTD/svg11.dtd\">\n",
       "<!-- Generated by graphviz version 2.40.1 (20161225.0304)\n",
       " -->\n",
       "<!-- Title: Tree Pages: 1 -->\n",
       "<svg width=\"1747pt\" height=\"373pt\"\n",
       " viewBox=\"0.00 0.00 1747.00 373.00\" xmlns=\"http://www.w3.org/2000/svg\" xmlns:xlink=\"http://www.w3.org/1999/xlink\">\n",
       "<g id=\"graph0\" class=\"graph\" transform=\"scale(1 1) rotate(0) translate(4 369)\">\n",
       "<title>Tree</title>\n",
       "<polygon fill=\"#ffffff\" stroke=\"transparent\" points=\"-4,4 -4,-369 1743,-369 1743,4 -4,4\"/>\n",
       "<!-- 0 -->\n",
       "<g id=\"node1\" class=\"node\">\n",
       "<title>0</title>\n",
       "<path fill=\"#e58139\" fill-opacity=\"0.007843\" stroke=\"#000000\" d=\"M1115,-365C1115,-365 824,-365 824,-365 818,-365 812,-359 812,-353 812,-353 812,-309 812,-309 812,-303 818,-297 824,-297 824,-297 1115,-297 1115,-297 1121,-297 1127,-303 1127,-309 1127,-309 1127,-353 1127,-353 1127,-359 1121,-365 1115,-365\"/>\n",
       "<text text-anchor=\"middle\" x=\"969.5\" y=\"-349.8\" font-family=\"Helvetica,sans-Serif\" font-size=\"14.00\" fill=\"#000000\">X[999] &lt;= 0.863</text>\n",
       "<text text-anchor=\"middle\" x=\"969.5\" y=\"-334.8\" font-family=\"Helvetica,sans-Serif\" font-size=\"14.00\" fill=\"#000000\">gini = 0.815</text>\n",
       "<text text-anchor=\"middle\" x=\"969.5\" y=\"-319.8\" font-family=\"Helvetica,sans-Serif\" font-size=\"14.00\" fill=\"#000000\">samples = 100.0%</text>\n",
       "<text text-anchor=\"middle\" x=\"969.5\" y=\"-304.8\" font-family=\"Helvetica,sans-Serif\" font-size=\"14.00\" fill=\"#000000\">value = [0.236, 0.229, 0.182, 0.114, 0.15, 0.089]</text>\n",
       "</g>\n",
       "<!-- 1 -->\n",
       "<g id=\"node2\" class=\"node\">\n",
       "<title>1</title>\n",
       "<path fill=\"#9de539\" fill-opacity=\"0.078431\" stroke=\"#000000\" d=\"M952,-261C952,-261 669,-261 669,-261 663,-261 657,-255 657,-249 657,-249 657,-205 657,-205 657,-199 663,-193 669,-193 669,-193 952,-193 952,-193 958,-193 964,-199 964,-205 964,-205 964,-249 964,-249 964,-255 958,-261 952,-261\"/>\n",
       "<text text-anchor=\"middle\" x=\"810.5\" y=\"-245.8\" font-family=\"Helvetica,sans-Serif\" font-size=\"14.00\" fill=\"#000000\">X[892] &lt;= 0.25</text>\n",
       "<text text-anchor=\"middle\" x=\"810.5\" y=\"-230.8\" font-family=\"Helvetica,sans-Serif\" font-size=\"14.00\" fill=\"#000000\">gini = 0.792</text>\n",
       "<text text-anchor=\"middle\" x=\"810.5\" y=\"-215.8\" font-family=\"Helvetica,sans-Serif\" font-size=\"14.00\" fill=\"#000000\">samples = 77.5%</text>\n",
       "<text text-anchor=\"middle\" x=\"810.5\" y=\"-200.8\" font-family=\"Helvetica,sans-Serif\" font-size=\"14.00\" fill=\"#000000\">value = [0.032, 0.29, 0.23, 0.138, 0.194, 0.115]</text>\n",
       "</g>\n",
       "<!-- 0&#45;&gt;1 -->\n",
       "<g id=\"edge1\" class=\"edge\">\n",
       "<title>0&#45;&gt;1</title>\n",
       "<path fill=\"none\" stroke=\"#000000\" d=\"M917.4375,-296.9465C902.6125,-287.2497 886.3367,-276.6039 871.0529,-266.6069\"/>\n",
       "<polygon fill=\"#000000\" stroke=\"#000000\" points=\"872.9642,-263.6749 862.6795,-261.13 869.1324,-269.533 872.9642,-263.6749\"/>\n",
       "<text text-anchor=\"middle\" x=\"867.7969\" y=\"-281.9006\" font-family=\"Helvetica,sans-Serif\" font-size=\"14.00\" fill=\"#000000\">True</text>\n",
       "</g>\n",
       "<!-- 8 -->\n",
       "<g id=\"node9\" class=\"node\">\n",
       "<title>8</title>\n",
       "<path fill=\"#e58139\" fill-opacity=\"0.933333\" stroke=\"#000000\" d=\"M1262.5,-261C1262.5,-261 994.5,-261 994.5,-261 988.5,-261 982.5,-255 982.5,-249 982.5,-249 982.5,-205 982.5,-205 982.5,-199 988.5,-193 994.5,-193 994.5,-193 1262.5,-193 1262.5,-193 1268.5,-193 1274.5,-199 1274.5,-205 1274.5,-205 1274.5,-249 1274.5,-249 1274.5,-255 1268.5,-261 1262.5,-261\"/>\n",
       "<text text-anchor=\"middle\" x=\"1128.5\" y=\"-245.8\" font-family=\"Helvetica,sans-Serif\" font-size=\"14.00\" fill=\"#000000\">X[28] &lt;= 0.142</text>\n",
       "<text text-anchor=\"middle\" x=\"1128.5\" y=\"-230.8\" font-family=\"Helvetica,sans-Serif\" font-size=\"14.00\" fill=\"#000000\">gini = 0.121</text>\n",
       "<text text-anchor=\"middle\" x=\"1128.5\" y=\"-215.8\" font-family=\"Helvetica,sans-Serif\" font-size=\"14.00\" fill=\"#000000\">samples = 22.5%</text>\n",
       "<text text-anchor=\"middle\" x=\"1128.5\" y=\"-200.8\" font-family=\"Helvetica,sans-Serif\" font-size=\"14.00\" fill=\"#000000\">value = [0.937, 0.016, 0.016, 0.032, 0.0, 0.0]</text>\n",
       "</g>\n",
       "<!-- 0&#45;&gt;8 -->\n",
       "<g id=\"edge8\" class=\"edge\">\n",
       "<title>0&#45;&gt;8</title>\n",
       "<path fill=\"none\" stroke=\"#000000\" d=\"M1021.5625,-296.9465C1036.3875,-287.2497 1052.6633,-276.6039 1067.9471,-266.6069\"/>\n",
       "<polygon fill=\"#000000\" stroke=\"#000000\" points=\"1069.8676,-269.533 1076.3205,-261.13 1066.0358,-263.6749 1069.8676,-269.533\"/>\n",
       "<text text-anchor=\"middle\" x=\"1071.2031\" y=\"-281.9006\" font-family=\"Helvetica,sans-Serif\" font-size=\"14.00\" fill=\"#000000\">False</text>\n",
       "</g>\n",
       "<!-- 2 -->\n",
       "<g id=\"node3\" class=\"node\">\n",
       "<title>2</title>\n",
       "<path fill=\"#39e581\" fill-opacity=\"0.086275\" stroke=\"#000000\" d=\"M631,-157C631,-157 332,-157 332,-157 326,-157 320,-151 320,-145 320,-145 320,-101 320,-101 320,-95 326,-89 332,-89 332,-89 631,-89 631,-89 637,-89 643,-95 643,-101 643,-101 643,-145 643,-145 643,-151 637,-157 631,-157\"/>\n",
       "<text text-anchor=\"middle\" x=\"481.5\" y=\"-141.8\" font-family=\"Helvetica,sans-Serif\" font-size=\"14.00\" fill=\"#000000\">X[783] &lt;= 0.206</text>\n",
       "<text text-anchor=\"middle\" x=\"481.5\" y=\"-126.8\" font-family=\"Helvetica,sans-Serif\" font-size=\"14.00\" fill=\"#000000\">gini = 0.756</text>\n",
       "<text text-anchor=\"middle\" x=\"481.5\" y=\"-111.8\" font-family=\"Helvetica,sans-Serif\" font-size=\"14.00\" fill=\"#000000\">samples = 51.1%</text>\n",
       "<text text-anchor=\"middle\" x=\"481.5\" y=\"-96.8\" font-family=\"Helvetica,sans-Serif\" font-size=\"14.00\" fill=\"#000000\">value = [0.049, 0.014, 0.336, 0.182, 0.273, 0.147]</text>\n",
       "</g>\n",
       "<!-- 1&#45;&gt;2 -->\n",
       "<g id=\"edge2\" class=\"edge\">\n",
       "<title>1&#45;&gt;2</title>\n",
       "<path fill=\"none\" stroke=\"#000000\" d=\"M702.7731,-192.9465C669.598,-182.4596 632.9116,-170.8626 599.1079,-160.177\"/>\n",
       "<polygon fill=\"#000000\" stroke=\"#000000\" points=\"599.7777,-156.718 589.1878,-157.0411 597.6678,-163.3925 599.7777,-156.718\"/>\n",
       "</g>\n",
       "<!-- 5 -->\n",
       "<g id=\"node6\" class=\"node\">\n",
       "<title>5</title>\n",
       "<path fill=\"#9de539\" fill-opacity=\"0.815686\" stroke=\"#000000\" d=\"M956,-157C956,-157 673,-157 673,-157 667,-157 661,-151 661,-145 661,-145 661,-101 661,-101 661,-95 667,-89 673,-89 673,-89 956,-89 956,-89 962,-89 968,-95 968,-101 968,-101 968,-145 968,-145 968,-151 962,-157 956,-157\"/>\n",
       "<text text-anchor=\"middle\" x=\"814.5\" y=\"-141.8\" font-family=\"Helvetica,sans-Serif\" font-size=\"14.00\" fill=\"#000000\">X[483] &lt;= 0.055</text>\n",
       "<text text-anchor=\"middle\" x=\"814.5\" y=\"-126.8\" font-family=\"Helvetica,sans-Serif\" font-size=\"14.00\" fill=\"#000000\">gini = 0.312</text>\n",
       "<text text-anchor=\"middle\" x=\"814.5\" y=\"-111.8\" font-family=\"Helvetica,sans-Serif\" font-size=\"14.00\" fill=\"#000000\">samples = 26.4%</text>\n",
       "<text text-anchor=\"middle\" x=\"814.5\" y=\"-96.8\" font-family=\"Helvetica,sans-Serif\" font-size=\"14.00\" fill=\"#000000\">value = [0.0, 0.824, 0.027, 0.054, 0.041, 0.054]</text>\n",
       "</g>\n",
       "<!-- 1&#45;&gt;5 -->\n",
       "<g id=\"edge5\" class=\"edge\">\n",
       "<title>1&#45;&gt;5</title>\n",
       "<path fill=\"none\" stroke=\"#000000\" d=\"M811.8097,-192.9465C812.124,-184.776 812.4642,-175.9318 812.7935,-167.3697\"/>\n",
       "<polygon fill=\"#000000\" stroke=\"#000000\" points=\"816.3003,-167.2572 813.1873,-157.13 809.3055,-166.9881 816.3003,-167.2572\"/>\n",
       "</g>\n",
       "<!-- 3 -->\n",
       "<g id=\"node4\" class=\"node\">\n",
       "<title>3</title>\n",
       "<path fill=\"#8139e5\" fill-opacity=\"0.231373\" stroke=\"#000000\" d=\"M311,-53C311,-53 12,-53 12,-53 6,-53 0,-47 0,-41 0,-41 0,-12 0,-12 0,-6 6,0 12,0 12,0 311,0 311,0 317,0 323,-6 323,-12 323,-12 323,-41 323,-41 323,-47 317,-53 311,-53\"/>\n",
       "<text text-anchor=\"middle\" x=\"161.5\" y=\"-37.8\" font-family=\"Helvetica,sans-Serif\" font-size=\"14.00\" fill=\"#000000\">gini = 0.709</text>\n",
       "<text text-anchor=\"middle\" x=\"161.5\" y=\"-22.8\" font-family=\"Helvetica,sans-Serif\" font-size=\"14.00\" fill=\"#000000\">samples = 32.5%</text>\n",
       "<text text-anchor=\"middle\" x=\"161.5\" y=\"-7.8\" font-family=\"Helvetica,sans-Serif\" font-size=\"14.00\" fill=\"#000000\">value = [0.066, 0.022, 0.022, 0.242, 0.418, 0.231]</text>\n",
       "</g>\n",
       "<!-- 2&#45;&gt;3 -->\n",
       "<g id=\"edge3\" class=\"edge\">\n",
       "<title>2&#45;&gt;3</title>\n",
       "<path fill=\"none\" stroke=\"#000000\" d=\"M368.68,-88.9777C332.9061,-78.1897 293.6764,-66.3595 259.0686,-55.923\"/>\n",
       "<polygon fill=\"#000000\" stroke=\"#000000\" points=\"260.0213,-52.5547 249.4366,-53.0184 258.0002,-59.2566 260.0213,-52.5547\"/>\n",
       "</g>\n",
       "<!-- 4 -->\n",
       "<g id=\"node5\" class=\"node\">\n",
       "<title>4</title>\n",
       "<path fill=\"#39e581\" fill-opacity=\"0.874510\" stroke=\"#000000\" d=\"M621.5,-53C621.5,-53 353.5,-53 353.5,-53 347.5,-53 341.5,-47 341.5,-41 341.5,-41 341.5,-12 341.5,-12 341.5,-6 347.5,0 353.5,0 353.5,0 621.5,0 621.5,0 627.5,0 633.5,-6 633.5,-12 633.5,-12 633.5,-41 633.5,-41 633.5,-47 627.5,-53 621.5,-53\"/>\n",
       "<text text-anchor=\"middle\" x=\"487.5\" y=\"-37.8\" font-family=\"Helvetica,sans-Serif\" font-size=\"14.00\" fill=\"#000000\">gini = 0.211</text>\n",
       "<text text-anchor=\"middle\" x=\"487.5\" y=\"-22.8\" font-family=\"Helvetica,sans-Serif\" font-size=\"14.00\" fill=\"#000000\">samples = 18.6%</text>\n",
       "<text text-anchor=\"middle\" x=\"487.5\" y=\"-7.8\" font-family=\"Helvetica,sans-Serif\" font-size=\"14.00\" fill=\"#000000\">value = [0.019, 0.0, 0.885, 0.077, 0.019, 0.0]</text>\n",
       "</g>\n",
       "<!-- 2&#45;&gt;4 -->\n",
       "<g id=\"edge4\" class=\"edge\">\n",
       "<title>2&#45;&gt;4</title>\n",
       "<path fill=\"none\" stroke=\"#000000\" d=\"M483.6154,-88.9777C484.1335,-80.6449 484.6902,-71.6903 485.2159,-63.2364\"/>\n",
       "<polygon fill=\"#000000\" stroke=\"#000000\" points=\"488.7095,-63.4464 485.8369,-53.2485 481.723,-63.012 488.7095,-63.4464\"/>\n",
       "</g>\n",
       "<!-- 6 -->\n",
       "<g id=\"node7\" class=\"node\">\n",
       "<title>6</title>\n",
       "<path fill=\"#9de539\" fill-opacity=\"0.921569\" stroke=\"#000000\" d=\"M942.5,-53C942.5,-53 674.5,-53 674.5,-53 668.5,-53 662.5,-47 662.5,-41 662.5,-41 662.5,-12 662.5,-12 662.5,-6 668.5,0 674.5,0 674.5,0 942.5,0 942.5,0 948.5,0 954.5,-6 954.5,-12 954.5,-12 954.5,-41 954.5,-41 954.5,-47 948.5,-53 942.5,-53\"/>\n",
       "<text text-anchor=\"middle\" x=\"808.5\" y=\"-37.8\" font-family=\"Helvetica,sans-Serif\" font-size=\"14.00\" fill=\"#000000\">gini = 0.143</text>\n",
       "<text text-anchor=\"middle\" x=\"808.5\" y=\"-22.8\" font-family=\"Helvetica,sans-Serif\" font-size=\"14.00\" fill=\"#000000\">samples = 23.6%</text>\n",
       "<text text-anchor=\"middle\" x=\"808.5\" y=\"-7.8\" font-family=\"Helvetica,sans-Serif\" font-size=\"14.00\" fill=\"#000000\">value = [0.0, 0.924, 0.015, 0.0, 0.015, 0.045]</text>\n",
       "</g>\n",
       "<!-- 5&#45;&gt;6 -->\n",
       "<g id=\"edge6\" class=\"edge\">\n",
       "<title>5&#45;&gt;6</title>\n",
       "<path fill=\"none\" stroke=\"#000000\" d=\"M812.3846,-88.9777C811.8665,-80.6449 811.3098,-71.6903 810.7841,-63.2364\"/>\n",
       "<polygon fill=\"#000000\" stroke=\"#000000\" points=\"814.277,-63.012 810.1631,-53.2485 807.2905,-63.4464 814.277,-63.012\"/>\n",
       "</g>\n",
       "<!-- 7 -->\n",
       "<g id=\"node8\" class=\"node\">\n",
       "<title>7</title>\n",
       "<path fill=\"#399de5\" fill-opacity=\"0.333333\" stroke=\"#000000\" d=\"M1228.5,-53C1228.5,-53 984.5,-53 984.5,-53 978.5,-53 972.5,-47 972.5,-41 972.5,-41 972.5,-12 972.5,-12 972.5,-6 978.5,0 984.5,0 984.5,0 1228.5,0 1228.5,0 1234.5,0 1240.5,-6 1240.5,-12 1240.5,-12 1240.5,-41 1240.5,-41 1240.5,-47 1234.5,-53 1228.5,-53\"/>\n",
       "<text text-anchor=\"middle\" x=\"1106.5\" y=\"-37.8\" font-family=\"Helvetica,sans-Serif\" font-size=\"14.00\" fill=\"#000000\">gini = 0.656</text>\n",
       "<text text-anchor=\"middle\" x=\"1106.5\" y=\"-22.8\" font-family=\"Helvetica,sans-Serif\" font-size=\"14.00\" fill=\"#000000\">samples = 2.9%</text>\n",
       "<text text-anchor=\"middle\" x=\"1106.5\" y=\"-7.8\" font-family=\"Helvetica,sans-Serif\" font-size=\"14.00\" fill=\"#000000\">value = [0.0, 0.0, 0.125, 0.5, 0.25, 0.125]</text>\n",
       "</g>\n",
       "<!-- 5&#45;&gt;7 -->\n",
       "<g id=\"edge7\" class=\"edge\">\n",
       "<title>5&#45;&gt;7</title>\n",
       "<path fill=\"none\" stroke=\"#000000\" d=\"M917.4483,-88.9777C949.7385,-78.3064 985.1143,-66.6155 1016.4415,-56.2625\"/>\n",
       "<polygon fill=\"#000000\" stroke=\"#000000\" points=\"1017.6293,-59.5562 1026.0259,-53.095 1015.4327,-52.9097 1017.6293,-59.5562\"/>\n",
       "</g>\n",
       "<!-- 9 -->\n",
       "<g id=\"node10\" class=\"node\">\n",
       "<title>9</title>\n",
       "<path fill=\"#e58139\" stroke=\"#000000\" d=\"M1229,-149.5C1229,-149.5 1024,-149.5 1024,-149.5 1018,-149.5 1012,-143.5 1012,-137.5 1012,-137.5 1012,-108.5 1012,-108.5 1012,-102.5 1018,-96.5 1024,-96.5 1024,-96.5 1229,-96.5 1229,-96.5 1235,-96.5 1241,-102.5 1241,-108.5 1241,-108.5 1241,-137.5 1241,-137.5 1241,-143.5 1235,-149.5 1229,-149.5\"/>\n",
       "<text text-anchor=\"middle\" x=\"1126.5\" y=\"-134.3\" font-family=\"Helvetica,sans-Serif\" font-size=\"14.00\" fill=\"#000000\">gini = 0.0</text>\n",
       "<text text-anchor=\"middle\" x=\"1126.5\" y=\"-119.3\" font-family=\"Helvetica,sans-Serif\" font-size=\"14.00\" fill=\"#000000\">samples = 21.1%</text>\n",
       "<text text-anchor=\"middle\" x=\"1126.5\" y=\"-104.3\" font-family=\"Helvetica,sans-Serif\" font-size=\"14.00\" fill=\"#000000\">value = [1.0, 0.0, 0.0, 0.0, 0.0, 0.0]</text>\n",
       "</g>\n",
       "<!-- 8&#45;&gt;9 -->\n",
       "<g id=\"edge9\" class=\"edge\">\n",
       "<title>8&#45;&gt;9</title>\n",
       "<path fill=\"none\" stroke=\"#000000\" d=\"M1127.8451,-192.9465C1127.6397,-182.2621 1127.412,-170.4254 1127.2034,-159.5742\"/>\n",
       "<polygon fill=\"#000000\" stroke=\"#000000\" points=\"1130.7021,-159.473 1127.0104,-149.5422 1123.7034,-159.6076 1130.7021,-159.473\"/>\n",
       "</g>\n",
       "<!-- 10 -->\n",
       "<g id=\"node11\" class=\"node\">\n",
       "<title>10</title>\n",
       "<path fill=\"#399de5\" fill-opacity=\"0.333333\" stroke=\"#000000\" d=\"M1492,-157C1492,-157 1271,-157 1271,-157 1265,-157 1259,-151 1259,-145 1259,-145 1259,-101 1259,-101 1259,-95 1265,-89 1271,-89 1271,-89 1492,-89 1492,-89 1498,-89 1504,-95 1504,-101 1504,-101 1504,-145 1504,-145 1504,-151 1498,-157 1492,-157\"/>\n",
       "<text text-anchor=\"middle\" x=\"1381.5\" y=\"-141.8\" font-family=\"Helvetica,sans-Serif\" font-size=\"14.00\" fill=\"#000000\">X[823] &lt;= 0.273</text>\n",
       "<text text-anchor=\"middle\" x=\"1381.5\" y=\"-126.8\" font-family=\"Helvetica,sans-Serif\" font-size=\"14.00\" fill=\"#000000\">gini = 0.625</text>\n",
       "<text text-anchor=\"middle\" x=\"1381.5\" y=\"-111.8\" font-family=\"Helvetica,sans-Serif\" font-size=\"14.00\" fill=\"#000000\">samples = 1.4%</text>\n",
       "<text text-anchor=\"middle\" x=\"1381.5\" y=\"-96.8\" font-family=\"Helvetica,sans-Serif\" font-size=\"14.00\" fill=\"#000000\">value = [0.0, 0.25, 0.25, 0.5, 0.0, 0.0]</text>\n",
       "</g>\n",
       "<!-- 8&#45;&gt;10 -->\n",
       "<g id=\"edge10\" class=\"edge\">\n",
       "<title>8&#45;&gt;10</title>\n",
       "<path fill=\"none\" stroke=\"#000000\" d=\"M1211.3417,-192.9465C1236.2416,-182.711 1263.7137,-171.4181 1289.1865,-160.9471\"/>\n",
       "<polygon fill=\"#000000\" stroke=\"#000000\" points=\"1290.5539,-164.1692 1298.4722,-157.13 1287.8924,-157.6949 1290.5539,-164.1692\"/>\n",
       "</g>\n",
       "<!-- 11 -->\n",
       "<g id=\"node12\" class=\"node\">\n",
       "<title>11</title>\n",
       "<path fill=\"transparent\" stroke=\"#000000\" d=\"M1480,-53C1480,-53 1275,-53 1275,-53 1269,-53 1263,-47 1263,-41 1263,-41 1263,-12 1263,-12 1263,-6 1269,0 1275,0 1275,0 1480,0 1480,0 1486,0 1492,-6 1492,-12 1492,-12 1492,-41 1492,-41 1492,-47 1486,-53 1480,-53\"/>\n",
       "<text text-anchor=\"middle\" x=\"1377.5\" y=\"-37.8\" font-family=\"Helvetica,sans-Serif\" font-size=\"14.00\" fill=\"#000000\">gini = 0.5</text>\n",
       "<text text-anchor=\"middle\" x=\"1377.5\" y=\"-22.8\" font-family=\"Helvetica,sans-Serif\" font-size=\"14.00\" fill=\"#000000\">samples = 0.7%</text>\n",
       "<text text-anchor=\"middle\" x=\"1377.5\" y=\"-7.8\" font-family=\"Helvetica,sans-Serif\" font-size=\"14.00\" fill=\"#000000\">value = [0.0, 0.5, 0.5, 0.0, 0.0, 0.0]</text>\n",
       "</g>\n",
       "<!-- 10&#45;&gt;11 -->\n",
       "<g id=\"edge11\" class=\"edge\">\n",
       "<title>10&#45;&gt;11</title>\n",
       "<path fill=\"none\" stroke=\"#000000\" d=\"M1380.0897,-88.9777C1379.7481,-80.7364 1379.3813,-71.887 1379.0343,-63.5153\"/>\n",
       "<polygon fill=\"#000000\" stroke=\"#000000\" points=\"1382.52,-63.0949 1378.6087,-53.2485 1375.526,-63.3849 1382.52,-63.0949\"/>\n",
       "</g>\n",
       "<!-- 12 -->\n",
       "<g id=\"node13\" class=\"node\">\n",
       "<title>12</title>\n",
       "<path fill=\"#399de5\" stroke=\"#000000\" d=\"M1727,-53C1727,-53 1522,-53 1522,-53 1516,-53 1510,-47 1510,-41 1510,-41 1510,-12 1510,-12 1510,-6 1516,0 1522,0 1522,0 1727,0 1727,0 1733,0 1739,-6 1739,-12 1739,-12 1739,-41 1739,-41 1739,-47 1733,-53 1727,-53\"/>\n",
       "<text text-anchor=\"middle\" x=\"1624.5\" y=\"-37.8\" font-family=\"Helvetica,sans-Serif\" font-size=\"14.00\" fill=\"#000000\">gini = 0.0</text>\n",
       "<text text-anchor=\"middle\" x=\"1624.5\" y=\"-22.8\" font-family=\"Helvetica,sans-Serif\" font-size=\"14.00\" fill=\"#000000\">samples = 0.7%</text>\n",
       "<text text-anchor=\"middle\" x=\"1624.5\" y=\"-7.8\" font-family=\"Helvetica,sans-Serif\" font-size=\"14.00\" fill=\"#000000\">value = [0.0, 0.0, 0.0, 1.0, 0.0, 0.0]</text>\n",
       "</g>\n",
       "<!-- 10&#45;&gt;12 -->\n",
       "<g id=\"edge12\" class=\"edge\">\n",
       "<title>10&#45;&gt;12</title>\n",
       "<path fill=\"none\" stroke=\"#000000\" d=\"M1467.1727,-88.9777C1493.5811,-78.4904 1522.4694,-67.0183 1548.2027,-56.7992\"/>\n",
       "<polygon fill=\"#000000\" stroke=\"#000000\" points=\"1549.528,-60.0388 1557.5301,-53.095 1546.9444,-53.533 1549.528,-60.0388\"/>\n",
       "</g>\n",
       "</g>\n",
       "</svg>\n"
      ],
      "text/plain": [
       "<graphviz.files.Source at 0x1138f9470>"
      ]
     },
     "execution_count": 7,
     "metadata": {},
     "output_type": "execute_result"
    }
   ],
   "source": [
    "# Export the decision tree in dot format.\n",
    "dot_data = export_graphviz(\n",
    "    dt, out_file=None, filled=True, rounded=True, proportion=True   \n",
    ")\n",
    "\n",
    "# Render it.\n",
    "graphviz.Source(dot_data)"
   ]
  },
  {
   "cell_type": "markdown",
   "metadata": {},
   "source": [
    "## Step 3: Try to reduce the number of dimensions with PCA first<a name=\"step-4.3\"></a> ([top](#top-4))\n",
    "---"
   ]
  },
  {
   "cell_type": "code",
   "execution_count": 8,
   "metadata": {},
   "outputs": [],
   "source": [
    "# 3rd party.\n",
    "import pandas as pd\n",
    "from matplotlib import ticker\n",
    "from sklearn.decomposition import PCA\n",
    "from sklearn.model_selection import ParameterGrid\n",
    "from sklearn.pipeline import Pipeline\n",
    "from sklearn.preprocessing import StandardScaler"
   ]
  },
  {
   "cell_type": "markdown",
   "metadata": {},
   "source": [
    "We create a pipeline comprised of an optional scaler and a decision tree classifier."
   ]
  },
  {
   "cell_type": "code",
   "execution_count": 9,
   "metadata": {},
   "outputs": [],
   "source": [
    "scaler = StandardScaler()\n",
    "\n",
    "pca = PCA(\n",
    "    random_state=0  # Make it deterministic.\n",
    ")\n",
    "\n",
    "dt = DecisionTreeClassifier(\n",
    "    criterion='gini',\n",
    "    random_state=0  # Make it deterministic.\n",
    ")\n",
    "\n",
    "# Create the pipeline.\n",
    "dt_pipe = Pipeline([\n",
    "    ('scaler', scaler),\n",
    "    ('pca', pca),\n",
    "    ('dt', dt)\n",
    "])"
   ]
  },
  {
   "cell_type": "markdown",
   "metadata": {},
   "source": [
    "We perform a grid search."
   ]
  },
  {
   "cell_type": "code",
   "execution_count": 10,
   "metadata": {},
   "outputs": [],
   "source": [
    "max_depths = list(range(1, 10 + 1))  # 1, 2, ..., 10\n",
    "n_components_s = [2, 3, 7, 14, 25, 41, 63, 96, 150, 280]  # See Part 2.\n",
    "\n",
    "# Define the grid of values to search.\n",
    "grid = ParameterGrid({\n",
    "    'pca__n_components': n_components_s,\n",
    "    'dt__max_depth': max_depths\n",
    "})"
   ]
  },
  {
   "cell_type": "code",
   "execution_count": 11,
   "metadata": {},
   "outputs": [],
   "source": [
    "gs_results = []\n",
    "\n",
    "for params_dict in grid:\n",
    "    # Set the parameters.\n",
    "    dt_pipe.set_params(**params_dict)\n",
    "    \n",
    "    # Fit the clasifier to the data.\n",
    "    dt_pipe.fit(F_train, y_train)\n",
    "    \n",
    "    # Store the scores.\n",
    "    gs_result = params_dict\n",
    "    gs_result['train_accuracy'] = dt_pipe.score(F_train, y_train)\n",
    "    gs_result['valid_accuracy'] = dt_pipe.score(F_valid, y_valid)\n",
    "    \n",
    "    # Save result.\n",
    "    gs_results.append(gs_result)"
   ]
  },
  {
   "cell_type": "markdown",
   "metadata": {},
   "source": [
    "We convert the results to a data frame."
   ]
  },
  {
   "cell_type": "code",
   "execution_count": 12,
   "metadata": {},
   "outputs": [
    {
     "data": {
      "text/html": [
       "<div>\n",
       "<style scoped>\n",
       "    .dataframe tbody tr th:only-of-type {\n",
       "        vertical-align: middle;\n",
       "    }\n",
       "\n",
       "    .dataframe tbody tr th {\n",
       "        vertical-align: top;\n",
       "    }\n",
       "\n",
       "    .dataframe thead th {\n",
       "        text-align: right;\n",
       "    }\n",
       "</style>\n",
       "<table border=\"1\" class=\"dataframe\">\n",
       "  <thead>\n",
       "    <tr style=\"text-align: right;\">\n",
       "      <th></th>\n",
       "      <th>dt__max_depth</th>\n",
       "      <th>pca__n_components</th>\n",
       "      <th>train_accuracy</th>\n",
       "      <th>valid_accuracy</th>\n",
       "    </tr>\n",
       "  </thead>\n",
       "  <tbody>\n",
       "    <tr>\n",
       "      <th>44</th>\n",
       "      <td>5</td>\n",
       "      <td>25</td>\n",
       "      <td>0.964286</td>\n",
       "      <td>0.892086</td>\n",
       "    </tr>\n",
       "    <tr>\n",
       "      <th>82</th>\n",
       "      <td>9</td>\n",
       "      <td>7</td>\n",
       "      <td>1.000000</td>\n",
       "      <td>0.884892</td>\n",
       "    </tr>\n",
       "    <tr>\n",
       "      <th>92</th>\n",
       "      <td>10</td>\n",
       "      <td>7</td>\n",
       "      <td>1.000000</td>\n",
       "      <td>0.884892</td>\n",
       "    </tr>\n",
       "    <tr>\n",
       "      <th>64</th>\n",
       "      <td>7</td>\n",
       "      <td>25</td>\n",
       "      <td>0.996429</td>\n",
       "      <td>0.884892</td>\n",
       "    </tr>\n",
       "    <tr>\n",
       "      <th>62</th>\n",
       "      <td>7</td>\n",
       "      <td>7</td>\n",
       "      <td>0.985714</td>\n",
       "      <td>0.884892</td>\n",
       "    </tr>\n",
       "  </tbody>\n",
       "</table>\n",
       "</div>"
      ],
      "text/plain": [
       "    dt__max_depth  pca__n_components  train_accuracy  valid_accuracy\n",
       "44              5                 25        0.964286        0.892086\n",
       "82              9                  7        1.000000        0.884892\n",
       "92             10                  7        1.000000        0.884892\n",
       "64              7                 25        0.996429        0.884892\n",
       "62              7                  7        0.985714        0.884892"
      ]
     },
     "execution_count": 12,
     "metadata": {},
     "output_type": "execute_result"
    }
   ],
   "source": [
    "# Convert results to a data frame.\n",
    "df_results = (pd\n",
    "              .DataFrame(gs_results)\n",
    "              .sort_values(by='valid_accuracy', ascending=False)\n",
    "             )\n",
    "df_results.head()"
   ]
  },
  {
   "cell_type": "markdown",
   "metadata": {},
   "source": [
    "We define a helper function to plot the validation curves."
   ]
  },
  {
   "cell_type": "code",
   "execution_count": 13,
   "metadata": {},
   "outputs": [],
   "source": [
    "def plot_validation_curves(df_results: pd.DataFrame, x_key: str, x_label: str) -> None:\n",
    "    \"\"\"\\\n",
    "    Plots the validation curves.\n",
    "    \n",
    "    Args:\n",
    "        df_results: A data frame with the results of the grid search to display.\n",
    "        x_key: The column that contains the values to use for the x-axis. Assumed to have an integer type.\n",
    "        x_label: The label to use for the x-axis.\n",
    "    \"\"\"\n",
    "    # Make sure the records are sorted by k in ascending order.\n",
    "    df_results = df_results.sort_values(by=x_key)\n",
    "    \n",
    "    # Create a figure.\n",
    "    fig, ax = plt.subplots()\n",
    "    \n",
    "    # Plot validation curves.\n",
    "    ax.plot(df_results[x_key], df_results['train_accuracy'], label='training curve')\n",
    "    ax.plot(df_results[x_key], df_results['valid_accuracy'], label='validation curve')\n",
    "    \n",
    "    # Add labels.\n",
    "    ax.set_xlabel(x_label)\n",
    "    ax.set_ylabel('accuracy')\n",
    "    \n",
    "    # Change the x-axis tick locator.\n",
    "    ax.get_xaxis().set_major_locator(ticker.MaxNLocator(integer=True))\n",
    "\n",
    "    # Add a marker for the best score.\n",
    "    idx_best = df_results['valid_accuracy'].idxmax()\n",
    "    x_best, valid_accuracy = df_results.loc[idx_best, [x_key, 'valid_accuracy']]\n",
    "    # The series that represents the row may have a wider type.\n",
    "    x_best = int(x_best)\n",
    "    ax.scatter(x_best, valid_accuracy, marker='x', c='red', zorder=10)\n",
    "\n",
    "    # Add a legend and a title.\n",
    "    ax.legend()\n",
    "    ax.set_title(f'Best value: {x_best} with {valid_accuracy * 100:.1f} % valid accuracy')\n",
    "\n",
    "    plt.show()"
   ]
  },
  {
   "cell_type": "markdown",
   "metadata": {},
   "source": [
    "### Best model of depth 3"
   ]
  },
  {
   "cell_type": "markdown",
   "metadata": {},
   "source": [
    "We extract the results for a maximum depth of 3."
   ]
  },
  {
   "cell_type": "code",
   "execution_count": 15,
   "metadata": {},
   "outputs": [],
   "source": [
    "df_results_md3 = df_results[df_results['dt__max_depth'] == 3]\n",
    "\n",
    "# We get the best result.\n",
    "idx_best_md3 = df_results_md3['valid_accuracy'].idxmax()\n",
    "\n",
    "# We gather the best parameters.\n",
    "keys = ['pca__n_components', 'dt__max_depth']\n",
    "params_best_md3 = {\n",
    "    key: df_results_md3.loc[idx_best_md3, key] for key in keys\n",
    "}"
   ]
  },
  {
   "cell_type": "markdown",
   "metadata": {},
   "source": [
    "We plot the validation curves."
   ]
  },
  {
   "cell_type": "code",
   "execution_count": 17,
   "metadata": {},
   "outputs": [
    {
     "data": {
      "image/png": "[encoded data removed]",
      "text/plain": [
       "<Figure size 432x288 with 1 Axes>"
      ]
     },
     "metadata": {
      "needs_background": "light"
     },
     "output_type": "display_data"
    }
   ],
   "source": [
    "plot_validation_curves(df_results_md3, 'pca__n_components', '# principal components')"
   ]
  },
  {
   "cell_type": "markdown",
   "metadata": {},
   "source": [
    "We evaluate the accuracy of the best model on the test set."
   ]
  },
  {
   "cell_type": "code",
   "execution_count": 18,
   "metadata": {},
   "outputs": [
    {
     "name": "stdout",
     "output_type": "stream",
     "text": [
      "Best max-depth: 3 with 78.0 % test accuracy\n"
     ]
    }
   ],
   "source": [
    "# Initialize and fit.\n",
    "dt_pipe.set_params(**params_best_md3)\n",
    "dt_pipe.fit(F_train, y_train)\n",
    "\n",
    "# Evaluate on the test set.\n",
    "test_accuracy = dt_pipe.score(F_test, y_test)\n",
    "max_depth_best = params_best_md3['dt__max_depth']\n",
    "print(f'Best max-depth: {max_depth_best} with {test_accuracy * 100:.1f} % test accuracy')"
   ]
  },
  {
   "cell_type": "markdown",
   "metadata": {},
   "source": [
    "**Comment:** With a maximum depth of 3, it seems that we cannot do better than 82.7 % of accuracy on the validation set and 78.0 % on the test set."
   ]
  },
  {
   "cell_type": "markdown",
   "metadata": {},
   "source": [
    "### Best model of any depth"
   ]
  },
  {
   "cell_type": "markdown",
   "metadata": {},
   "source": [
    "We find the number of principal components that leads to the best accuracy on the validation set."
   ]
  },
  {
   "cell_type": "code",
   "execution_count": 19,
   "metadata": {},
   "outputs": [],
   "source": [
    "# We get the best result.\n",
    "idx_best = df_results['valid_accuracy'].idxmax()\n",
    "\n",
    "# We extract the results for the given number of principal components.\n",
    "df_results_best = utils.filter_like(\n",
    "    df_results, idx_best, ['pca__n_components'])\n",
    "\n",
    "# We gather the best parameters.\n",
    "keys = ['pca__n_components', 'dt__max_depth']\n",
    "params_best = {\n",
    "    key: df_results.loc[idx_best, key] for key in keys\n",
    "}"
   ]
  },
  {
   "cell_type": "markdown",
   "metadata": {},
   "source": [
    "We print the best parameters as well as the validation curves."
   ]
  },
  {
   "cell_type": "code",
   "execution_count": 20,
   "metadata": {},
   "outputs": [
    {
     "name": "stdout",
     "output_type": "stream",
     "text": [
      "Best params:\n"
     ]
    },
    {
     "data": {
      "text/plain": [
       "{'pca__n_components': 25, 'dt__max_depth': 5}"
      ]
     },
     "metadata": {},
     "output_type": "display_data"
    },
    {
     "data": {
      "image/png": "[encoded data removed]",
      "text/plain": [
       "<Figure size 432x288 with 1 Axes>"
      ]
     },
     "metadata": {
      "needs_background": "light"
     },
     "output_type": "display_data"
    }
   ],
   "source": [
    "print(f'Best params:')\n",
    "display(params_best)\n",
    "\n",
    "# Plot the validation curves.\n",
    "plot_validation_curves(df_results_best, 'dt__max_depth', 'max-depth')"
   ]
  },
  {
   "cell_type": "markdown",
   "metadata": {},
   "source": [
    "We evaluate the accuracy of the best model on the test set."
   ]
  },
  {
   "cell_type": "code",
   "execution_count": 21,
   "metadata": {},
   "outputs": [
    {
     "name": "stdout",
     "output_type": "stream",
     "text": [
      "Best max-depth: 5 with 80.0 % test accuracy\n"
     ]
    }
   ],
   "source": [
    "# Initialize and fit.\n",
    "dt_pipe.set_params(**params_best)\n",
    "dt_pipe.fit(F_train, y_train)\n",
    "\n",
    "# Evaluate on the test set.\n",
    "test_accuracy = dt_pipe.score(F_test, y_test)\n",
    "max_depth_best = params_best['dt__max_depth']\n",
    "print(f'Best max-depth: {max_depth_best} with {test_accuracy * 100:.1f} % test accuracy')"
   ]
  },
  {
   "cell_type": "markdown",
   "metadata": {},
   "source": [
    "## Step 4: Summary<a name=\"step-4.4\"></a> ([top](#top-4))\n",
    "---"
   ]
  },
  {
   "cell_type": "markdown",
   "metadata": {},
   "source": [
    "Here is a manual summary of the results:\n",
    "\n",
    "| Model | Valid accuracy % | Test accuracy % |\n",
    "|-------|------------------|-----------------|\n",
    "| Decision tree | 75.4 | 72.0 |\n",
    "| PCA (nc=3) + Decision tree (md=3) | 82.7 | 78.0 |\n",
    "| PCA (nc=25) + Decision tree (md=5) | 89.2 | 80.0 |\n",
    "\n",
    "Where:\n",
    "* PCA: _nc_ = number of principal components\n",
    "* Decision tree: _md_ = maximum depth"
   ]
  },
  {
   "cell_type": "markdown",
   "metadata": {},
   "source": [
    "**Comment:** We do get better results if we reduce the number of dimensions with PCA first."
   ]
  },
  {
   "cell_type": "code",
   "execution_count": null,
   "metadata": {},
   "outputs": [],
   "source": []
  }
 ],
 "metadata": {
  "kernelspec": {
   "display_name": "Python 3",
   "language": "python",
   "name": "python3"
  },
  "language_info": {
   "codemirror_mode": {
    "name": "ipython",
    "version": 3
   },
   "file_extension": ".py",
   "mimetype": "text/x-python",
   "name": "python",
   "nbconvert_exporter": "python",
   "pygments_lexer": "ipython3",
   "version": "3.6.7"
  }
 },
 "nbformat": 4,
 "nbformat_minor": 2
}
