{
 "cells": [
  {
   "cell_type": "markdown",
   "metadata": {},
   "source": [
    "# Course 4 - Project - Part 7: Dense network"
   ]
  },
  {
   "cell_type": "markdown",
   "metadata": {},
   "source": [
    "<a name=\"top-7\"></a>\n",
    "This notebook is concerned with *Part 7: Dense network*.\n",
    "\n",
    "**Contents:**\n",
    "* [Step 0: Loading data](#step-7.0)\n",
    "* [Step 1: 1-layer dense network](#step-7.1)\n",
    "* [Step 2: 2-layer dense network](#step-7.2)"
   ]
  },
  {
   "cell_type": "markdown",
   "metadata": {},
   "source": [
    "## Step 0: Loading data<a name=\"step-7.0\"></a> ([top](#top-7))\n",
    "---"
   ]
  },
  {
   "cell_type": "markdown",
   "metadata": {},
   "source": [
    "We load the training set with the extracted high-level features."
   ]
  },
  {
   "cell_type": "code",
   "execution_count": 1,
   "metadata": {},
   "outputs": [],
   "source": [
    "# Standard library.\n",
    "import os\n",
    "import pathlib\n",
    "import typing as T\n",
    "\n",
    "# 3rd party.\n",
    "import numpy as np\n",
    "\n",
    "# Project.\n",
    "import utils"
   ]
  },
  {
   "cell_type": "code",
   "execution_count": 2,
   "metadata": {},
   "outputs": [
    {
     "name": "stdout",
     "output_type": "stream",
     "text": [
      "--------------------------------------------------------------------------------\n",
      "Dataset: train\n",
      "data: shape=(280, 224, 224, 3), dtype=float32\n",
      "label_idxs: shape=(280,), dtype=int64\n",
      "label_strs: shape=(6,), dtype=<U10\n",
      "names: shape=(280,), dtype=<U19\n",
      "features: shape=(280, 1280), dtype=float32\n",
      "--------------------------------------------------------------------------------\n",
      "Dataset: valid\n",
      "data: shape=(139, 224, 224, 3), dtype=float32\n",
      "label_idxs: shape=(139,), dtype=int64\n",
      "label_strs: shape=(6,), dtype=<U10\n",
      "names: shape=(139,), dtype=<U19\n",
      "features: shape=(139, 1280), dtype=float32\n",
      "--------------------------------------------------------------------------------\n",
      "Dataset: test\n",
      "data: shape=(50, 224, 224, 3), dtype=float32\n",
      "label_idxs: shape=(50,), dtype=int64\n",
      "label_strs: shape=(6,), dtype=<U10\n",
      "names: shape=(50,), dtype=<U19\n",
      "features: shape=(50, 1280), dtype=float32\n"
     ]
    }
   ],
   "source": [
    "separator = ''.center(80, '-')\n",
    "\n",
    "path_train = pathlib.Path.cwd() / 'data' / 'swissroads-features-train.npz'\n",
    "data_train = utils.load(path_train)\n",
    "print(separator)\n",
    "print(f'Dataset: train\\n{utils.info(data_train)}')\n",
    "\n",
    "path_valid = pathlib.Path.cwd() / 'data' / 'swissroads-features-valid.npz'\n",
    "data_valid = utils.load(path_valid)\n",
    "print(separator)\n",
    "print(f'Dataset: valid\\n{utils.info(data_valid)}')\n",
    "\n",
    "path_test = pathlib.Path.cwd() / 'data' / 'swissroads-features-test.npz'\n",
    "data_test = utils.load(path_test)\n",
    "print(separator)\n",
    "print(f'Dataset: test\\n{utils.info(data_test)}')"
   ]
  },
  {
   "cell_type": "code",
   "execution_count": 3,
   "metadata": {},
   "outputs": [],
   "source": [
    "label_strs = data_train['label_strs']  # Same for all data sets.\n",
    "assert (\n",
    "    np.all(data_train['label_strs'] == data_valid['label_strs']) and\n",
    "    np.all(data_train['label_strs'] == data_test['label_strs'])\n",
    ")\n",
    "\n",
    "X_train = data_train['data']\n",
    "y_train = data_train['label_idxs']\n",
    "F_train = data_train['features']\n",
    "N_train = data_train['names']\n",
    "\n",
    "X_valid = data_valid['data']\n",
    "y_valid = data_valid['label_idxs']\n",
    "F_valid = data_valid['features']\n",
    "N_valid = data_train['names']\n",
    "\n",
    "X_test = data_test['data']\n",
    "y_test = data_test['label_idxs']\n",
    "F_test = data_test['features']\n",
    "N_test = data_test['names']"
   ]
  },
  {
   "cell_type": "markdown",
   "metadata": {},
   "source": [
    "## Step 1: 1-layer dense network<a name=\"step-7.1\"></a> ([top](#top-7))\n",
    "---"
   ]
  },
  {
   "cell_type": "raw",
   "metadata": {},
   "source": [
    "Finally, try with neural networks\n",
    "\n",
    "1-layer dense network i.e. no hidden layer, just the input and output ones\n",
    "2-layer dense network i.e. one hidden layer"
   ]
  },
  {
   "cell_type": "markdown",
   "metadata": {},
   "source": [
    "**TODO:**\n",
    "* Grid-search. Paramters: Drop-out rate, learning rate."
   ]
  },
  {
   "cell_type": "code",
   "execution_count": 96,
   "metadata": {},
   "outputs": [
    {
     "name": "stdout",
     "output_type": "stream",
     "text": [
      "_________________________________________________________________\n",
      "Layer (type)                 Output Shape              Param #   \n",
      "=================================================================\n",
      "dropout_14 (Dropout)         (None, 1280)              0         \n",
      "_________________________________________________________________\n",
      "dense_16 (Dense)             (None, 6)                 7686      \n",
      "=================================================================\n",
      "Total params: 7,686\n",
      "Trainable params: 7,686\n",
      "Non-trainable params: 0\n",
      "_________________________________________________________________\n"
     ]
    }
   ],
   "source": [
    "import tensorflow as tf\n",
    "import tensorflow.keras as keras\n",
    "from tensorflow.keras import activations\n",
    "from tensorflow.keras import initializers\n",
    "\n",
    "RANDOM_SEED = 0\n",
    "\n",
    "n_classes = len(label_strs)\n",
    "\n",
    "# Create model\n",
    "model = keras.Sequential()\n",
    "\n",
    "# Add drop-out layer.\n",
    "model.add(keras.layers.Dropout(0.2, input_shape=(1280,), seed=RANDOM_SEED))\n",
    "\n",
    "# Add output layer.\n",
    "model.add(keras.layers.Dense(\n",
    "    units=n_classes, activation=activations.softmax,\n",
    "    kernel_initializer=initializers.VarianceScaling(scale=1.0, seed=RANDOM_SEED),\n",
    "    kernel_regularizer=keras.regularizers.l2(l=0.01)\n",
    "))\n",
    "\n",
    "# Print network summary\n",
    "model.summary()"
   ]
  },
  {
   "cell_type": "code",
   "execution_count": 97,
   "metadata": {},
   "outputs": [],
   "source": [
    "from tensorflow.keras import losses\n",
    "from tensorflow.keras import metrics\n",
    "from tensorflow.keras import optimizers\n",
    "\n",
    "# TODO: 1-hot encode labels.\n",
    "\n",
    "# Compile the model.\n",
    "model.compile(\n",
    "    optimizer=optimizers.Adam(lr=0.001),\n",
    "    loss=losses.sparse_categorical_crossentropy,\n",
    "    metrics=[metrics.sparse_categorical_accuracy]\n",
    ")\n",
    "\n"
   ]
  },
  {
   "cell_type": "code",
   "execution_count": 98,
   "metadata": {},
   "outputs": [],
   "source": [
    "# End training when accuracy stops improving (optional).\n",
    "early_stopping = keras.callbacks.EarlyStopping(monitor='val_loss', patience=10, verbose=1)\n"
   ]
  },
  {
   "cell_type": "code",
   "execution_count": 99,
   "metadata": {},
   "outputs": [
    {
     "name": "stdout",
     "output_type": "stream",
     "text": [
      "Train on 280 samples, validate on 139 samples\n",
      "Epoch 1/100\n",
      "280/280 [==============================] - 1s 5ms/step - loss: 1.4904 - sparse_categorical_accuracy: 0.4536 - val_loss: 0.9723 - val_sparse_categorical_accuracy: 0.7770\n",
      "Epoch 2/100\n",
      "280/280 [==============================] - 0s 294us/step - loss: 0.7699 - sparse_categorical_accuracy: 0.8286 - val_loss: 0.5823 - val_sparse_categorical_accuracy: 0.8561\n",
      "Epoch 3/100\n",
      "280/280 [==============================] - 0s 296us/step - loss: 0.4581 - sparse_categorical_accuracy: 0.8857 - val_loss: 0.4595 - val_sparse_categorical_accuracy: 0.8633\n",
      "Epoch 4/100\n",
      "280/280 [==============================] - 0s 229us/step - loss: 0.3568 - sparse_categorical_accuracy: 0.9321 - val_loss: 0.4101 - val_sparse_categorical_accuracy: 0.8921\n",
      "Epoch 5/100\n",
      "280/280 [==============================] - 0s 217us/step - loss: 0.2962 - sparse_categorical_accuracy: 0.9464 - val_loss: 0.3776 - val_sparse_categorical_accuracy: 0.8777\n",
      "Epoch 6/100\n",
      "280/280 [==============================] - 0s 233us/step - loss: 0.2580 - sparse_categorical_accuracy: 0.9500 - val_loss: 0.3682 - val_sparse_categorical_accuracy: 0.8921\n",
      "Epoch 7/100\n",
      "280/280 [==============================] - 0s 222us/step - loss: 0.2375 - sparse_categorical_accuracy: 0.9643 - val_loss: 0.3576 - val_sparse_categorical_accuracy: 0.8777\n",
      "Epoch 8/100\n",
      "280/280 [==============================] - 0s 224us/step - loss: 0.2162 - sparse_categorical_accuracy: 0.9714 - val_loss: 0.3535 - val_sparse_categorical_accuracy: 0.8777\n",
      "Epoch 9/100\n",
      "280/280 [==============================] - 0s 203us/step - loss: 0.1986 - sparse_categorical_accuracy: 0.9857 - val_loss: 0.3492 - val_sparse_categorical_accuracy: 0.8849\n",
      "Epoch 10/100\n",
      "280/280 [==============================] - 0s 218us/step - loss: 0.1872 - sparse_categorical_accuracy: 0.9893 - val_loss: 0.3490 - val_sparse_categorical_accuracy: 0.8993\n",
      "Epoch 11/100\n",
      "280/280 [==============================] - 0s 206us/step - loss: 0.1787 - sparse_categorical_accuracy: 0.9893 - val_loss: 0.3457 - val_sparse_categorical_accuracy: 0.8921\n",
      "Epoch 12/100\n",
      "280/280 [==============================] - 0s 239us/step - loss: 0.1707 - sparse_categorical_accuracy: 0.9857 - val_loss: 0.3424 - val_sparse_categorical_accuracy: 0.8777\n",
      "Epoch 13/100\n",
      "280/280 [==============================] - 0s 284us/step - loss: 0.1659 - sparse_categorical_accuracy: 0.9929 - val_loss: 0.3418 - val_sparse_categorical_accuracy: 0.8849\n",
      "Epoch 14/100\n",
      "280/280 [==============================] - 0s 290us/step - loss: 0.1647 - sparse_categorical_accuracy: 0.9893 - val_loss: 0.3449 - val_sparse_categorical_accuracy: 0.8993\n",
      "Epoch 15/100\n",
      "280/280 [==============================] - 0s 278us/step - loss: 0.1500 - sparse_categorical_accuracy: 0.9929 - val_loss: 0.3386 - val_sparse_categorical_accuracy: 0.8921\n",
      "Epoch 16/100\n",
      "280/280 [==============================] - 0s 276us/step - loss: 0.1469 - sparse_categorical_accuracy: 0.9964 - val_loss: 0.3379 - val_sparse_categorical_accuracy: 0.8921\n",
      "Epoch 17/100\n",
      "280/280 [==============================] - 0s 287us/step - loss: 0.1427 - sparse_categorical_accuracy: 0.9964 - val_loss: 0.3350 - val_sparse_categorical_accuracy: 0.8777\n",
      "Epoch 18/100\n",
      "280/280 [==============================] - 0s 249us/step - loss: 0.1401 - sparse_categorical_accuracy: 0.9964 - val_loss: 0.3376 - val_sparse_categorical_accuracy: 0.8921\n",
      "Epoch 19/100\n",
      "280/280 [==============================] - 0s 271us/step - loss: 0.1349 - sparse_categorical_accuracy: 1.0000 - val_loss: 0.3348 - val_sparse_categorical_accuracy: 0.8921\n",
      "Epoch 20/100\n",
      "280/280 [==============================] - 0s 273us/step - loss: 0.1333 - sparse_categorical_accuracy: 1.0000 - val_loss: 0.3339 - val_sparse_categorical_accuracy: 0.8993\n",
      "Epoch 21/100\n",
      "280/280 [==============================] - 0s 254us/step - loss: 0.1263 - sparse_categorical_accuracy: 0.9964 - val_loss: 0.3324 - val_sparse_categorical_accuracy: 0.8921\n",
      "Epoch 22/100\n",
      "280/280 [==============================] - 0s 283us/step - loss: 0.1295 - sparse_categorical_accuracy: 0.9964 - val_loss: 0.3318 - val_sparse_categorical_accuracy: 0.8921\n",
      "Epoch 23/100\n",
      "280/280 [==============================] - 0s 244us/step - loss: 0.1233 - sparse_categorical_accuracy: 1.0000 - val_loss: 0.3318 - val_sparse_categorical_accuracy: 0.8921\n",
      "Epoch 24/100\n",
      "280/280 [==============================] - 0s 282us/step - loss: 0.1199 - sparse_categorical_accuracy: 1.0000 - val_loss: 0.3318 - val_sparse_categorical_accuracy: 0.8993\n",
      "Epoch 25/100\n",
      "280/280 [==============================] - 0s 286us/step - loss: 0.1207 - sparse_categorical_accuracy: 1.0000 - val_loss: 0.3308 - val_sparse_categorical_accuracy: 0.8849\n",
      "Epoch 26/100\n",
      "280/280 [==============================] - 0s 306us/step - loss: 0.1183 - sparse_categorical_accuracy: 1.0000 - val_loss: 0.3299 - val_sparse_categorical_accuracy: 0.8993\n",
      "Epoch 27/100\n",
      "280/280 [==============================] - 0s 274us/step - loss: 0.1147 - sparse_categorical_accuracy: 1.0000 - val_loss: 0.3283 - val_sparse_categorical_accuracy: 0.8993\n",
      "Epoch 28/100\n",
      "280/280 [==============================] - 0s 272us/step - loss: 0.1150 - sparse_categorical_accuracy: 1.0000 - val_loss: 0.3269 - val_sparse_categorical_accuracy: 0.8849\n",
      "Epoch 29/100\n",
      "280/280 [==============================] - 0s 238us/step - loss: 0.1127 - sparse_categorical_accuracy: 1.0000 - val_loss: 0.3261 - val_sparse_categorical_accuracy: 0.8849\n",
      "Epoch 30/100\n",
      "280/280 [==============================] - 0s 242us/step - loss: 0.1082 - sparse_categorical_accuracy: 1.0000 - val_loss: 0.3247 - val_sparse_categorical_accuracy: 0.8921\n",
      "Epoch 31/100\n",
      "280/280 [==============================] - 0s 244us/step - loss: 0.1082 - sparse_categorical_accuracy: 1.0000 - val_loss: 0.3246 - val_sparse_categorical_accuracy: 0.8921\n",
      "Epoch 32/100\n",
      "280/280 [==============================] - 0s 248us/step - loss: 0.1095 - sparse_categorical_accuracy: 0.9964 - val_loss: 0.3232 - val_sparse_categorical_accuracy: 0.8921\n",
      "Epoch 33/100\n",
      "280/280 [==============================] - 0s 276us/step - loss: 0.1052 - sparse_categorical_accuracy: 1.0000 - val_loss: 0.3239 - val_sparse_categorical_accuracy: 0.8993\n",
      "Epoch 34/100\n",
      "280/280 [==============================] - 0s 287us/step - loss: 0.1053 - sparse_categorical_accuracy: 1.0000 - val_loss: 0.3236 - val_sparse_categorical_accuracy: 0.8993\n",
      "Epoch 35/100\n",
      "280/280 [==============================] - 0s 271us/step - loss: 0.1021 - sparse_categorical_accuracy: 1.0000 - val_loss: 0.3246 - val_sparse_categorical_accuracy: 0.8921\n",
      "Epoch 36/100\n",
      "280/280 [==============================] - 0s 281us/step - loss: 0.1015 - sparse_categorical_accuracy: 1.0000 - val_loss: 0.3240 - val_sparse_categorical_accuracy: 0.9065\n",
      "Epoch 37/100\n",
      "280/280 [==============================] - 0s 274us/step - loss: 0.0978 - sparse_categorical_accuracy: 1.0000 - val_loss: 0.3226 - val_sparse_categorical_accuracy: 0.9137\n",
      "Epoch 38/100\n",
      "280/280 [==============================] - 0s 282us/step - loss: 0.0987 - sparse_categorical_accuracy: 1.0000 - val_loss: 0.3204 - val_sparse_categorical_accuracy: 0.9065\n",
      "Epoch 39/100\n",
      "280/280 [==============================] - 0s 266us/step - loss: 0.0962 - sparse_categorical_accuracy: 1.0000 - val_loss: 0.3200 - val_sparse_categorical_accuracy: 0.8993\n",
      "Epoch 40/100\n",
      "280/280 [==============================] - 0s 254us/step - loss: 0.0950 - sparse_categorical_accuracy: 1.0000 - val_loss: 0.3201 - val_sparse_categorical_accuracy: 0.8993\n",
      "Epoch 41/100\n",
      "280/280 [==============================] - 0s 268us/step - loss: 0.0976 - sparse_categorical_accuracy: 1.0000 - val_loss: 0.3196 - val_sparse_categorical_accuracy: 0.9137\n",
      "Epoch 42/100\n",
      "280/280 [==============================] - 0s 295us/step - loss: 0.0958 - sparse_categorical_accuracy: 1.0000 - val_loss: 0.3209 - val_sparse_categorical_accuracy: 0.8993\n",
      "Epoch 43/100\n",
      "280/280 [==============================] - 0s 284us/step - loss: 0.0939 - sparse_categorical_accuracy: 1.0000 - val_loss: 0.3209 - val_sparse_categorical_accuracy: 0.9065\n",
      "Epoch 44/100\n",
      "280/280 [==============================] - 0s 260us/step - loss: 0.0941 - sparse_categorical_accuracy: 1.0000 - val_loss: 0.3184 - val_sparse_categorical_accuracy: 0.8993\n",
      "Epoch 45/100\n",
      "280/280 [==============================] - 0s 276us/step - loss: 0.0937 - sparse_categorical_accuracy: 1.0000 - val_loss: 0.3180 - val_sparse_categorical_accuracy: 0.8921\n",
      "Epoch 46/100\n",
      "280/280 [==============================] - 0s 291us/step - loss: 0.0907 - sparse_categorical_accuracy: 1.0000 - val_loss: 0.3186 - val_sparse_categorical_accuracy: 0.8993\n",
      "Epoch 47/100\n",
      "280/280 [==============================] - 0s 298us/step - loss: 0.0908 - sparse_categorical_accuracy: 1.0000 - val_loss: 0.3194 - val_sparse_categorical_accuracy: 0.8993\n",
      "Epoch 48/100\n",
      "280/280 [==============================] - 0s 303us/step - loss: 0.0899 - sparse_categorical_accuracy: 1.0000 - val_loss: 0.3195 - val_sparse_categorical_accuracy: 0.8993\n",
      "Epoch 49/100\n",
      "280/280 [==============================] - 0s 284us/step - loss: 0.0920 - sparse_categorical_accuracy: 1.0000 - val_loss: 0.3185 - val_sparse_categorical_accuracy: 0.8993\n",
      "Epoch 50/100\n",
      "280/280 [==============================] - 0s 259us/step - loss: 0.0885 - sparse_categorical_accuracy: 1.0000 - val_loss: 0.3189 - val_sparse_categorical_accuracy: 0.8993\n",
      "Epoch 51/100\n",
      "280/280 [==============================] - 0s 229us/step - loss: 0.0891 - sparse_categorical_accuracy: 1.0000 - val_loss: 0.3186 - val_sparse_categorical_accuracy: 0.8993\n",
      "Epoch 52/100\n",
      "280/280 [==============================] - 0s 238us/step - loss: 0.0842 - sparse_categorical_accuracy: 1.0000 - val_loss: 0.3180 - val_sparse_categorical_accuracy: 0.9065\n",
      "Epoch 53/100\n",
      "280/280 [==============================] - 0s 229us/step - loss: 0.0877 - sparse_categorical_accuracy: 1.0000 - val_loss: 0.3164 - val_sparse_categorical_accuracy: 0.9065\n",
      "Epoch 54/100\n",
      "280/280 [==============================] - 0s 240us/step - loss: 0.0892 - sparse_categorical_accuracy: 1.0000 - val_loss: 0.3144 - val_sparse_categorical_accuracy: 0.8993\n",
      "Epoch 55/100\n",
      "280/280 [==============================] - 0s 225us/step - loss: 0.0868 - sparse_categorical_accuracy: 1.0000 - val_loss: 0.3133 - val_sparse_categorical_accuracy: 0.9065\n",
      "Epoch 56/100\n",
      "280/280 [==============================] - 0s 271us/step - loss: 0.0883 - sparse_categorical_accuracy: 1.0000 - val_loss: 0.3143 - val_sparse_categorical_accuracy: 0.9065\n",
      "Epoch 57/100\n",
      "280/280 [==============================] - 0s 242us/step - loss: 0.0852 - sparse_categorical_accuracy: 1.0000 - val_loss: 0.3151 - val_sparse_categorical_accuracy: 0.8993\n",
      "Epoch 58/100\n",
      "280/280 [==============================] - 0s 239us/step - loss: 0.0830 - sparse_categorical_accuracy: 1.0000 - val_loss: 0.3156 - val_sparse_categorical_accuracy: 0.9065\n",
      "Epoch 59/100\n",
      "280/280 [==============================] - 0s 290us/step - loss: 0.0829 - sparse_categorical_accuracy: 1.0000 - val_loss: 0.3142 - val_sparse_categorical_accuracy: 0.9065\n",
      "Epoch 60/100\n",
      "280/280 [==============================] - 0s 290us/step - loss: 0.0842 - sparse_categorical_accuracy: 1.0000 - val_loss: 0.3133 - val_sparse_categorical_accuracy: 0.8993\n",
      "Epoch 61/100\n",
      "280/280 [==============================] - 0s 246us/step - loss: 0.0828 - sparse_categorical_accuracy: 1.0000 - val_loss: 0.3129 - val_sparse_categorical_accuracy: 0.8993\n",
      "Epoch 62/100\n",
      "280/280 [==============================] - 0s 242us/step - loss: 0.0815 - sparse_categorical_accuracy: 1.0000 - val_loss: 0.3136 - val_sparse_categorical_accuracy: 0.8993\n",
      "Epoch 63/100\n",
      "280/280 [==============================] - 0s 266us/step - loss: 0.0835 - sparse_categorical_accuracy: 1.0000 - val_loss: 0.3123 - val_sparse_categorical_accuracy: 0.9065\n",
      "Epoch 64/100\n",
      "280/280 [==============================] - 0s 264us/step - loss: 0.0811 - sparse_categorical_accuracy: 1.0000 - val_loss: 0.3114 - val_sparse_categorical_accuracy: 0.9065\n",
      "Epoch 65/100\n",
      "280/280 [==============================] - 0s 276us/step - loss: 0.0827 - sparse_categorical_accuracy: 1.0000 - val_loss: 0.3102 - val_sparse_categorical_accuracy: 0.9065\n",
      "Epoch 66/100\n",
      "280/280 [==============================] - 0s 274us/step - loss: 0.0824 - sparse_categorical_accuracy: 1.0000 - val_loss: 0.3105 - val_sparse_categorical_accuracy: 0.9065\n",
      "Epoch 67/100\n",
      "280/280 [==============================] - 0s 263us/step - loss: 0.0821 - sparse_categorical_accuracy: 1.0000 - val_loss: 0.3111 - val_sparse_categorical_accuracy: 0.9065\n",
      "Epoch 68/100\n",
      "280/280 [==============================] - 0s 232us/step - loss: 0.0797 - sparse_categorical_accuracy: 1.0000 - val_loss: 0.3099 - val_sparse_categorical_accuracy: 0.8993\n",
      "Epoch 69/100\n",
      "280/280 [==============================] - 0s 241us/step - loss: 0.0829 - sparse_categorical_accuracy: 1.0000 - val_loss: 0.3097 - val_sparse_categorical_accuracy: 0.8993\n",
      "Epoch 70/100\n",
      "280/280 [==============================] - 0s 232us/step - loss: 0.0790 - sparse_categorical_accuracy: 1.0000 - val_loss: 0.3103 - val_sparse_categorical_accuracy: 0.9065\n",
      "Epoch 71/100\n",
      "280/280 [==============================] - 0s 295us/step - loss: 0.0797 - sparse_categorical_accuracy: 1.0000 - val_loss: 0.3108 - val_sparse_categorical_accuracy: 0.9137\n",
      "Epoch 72/100\n",
      "280/280 [==============================] - 0s 303us/step - loss: 0.0775 - sparse_categorical_accuracy: 1.0000 - val_loss: 0.3114 - val_sparse_categorical_accuracy: 0.9137\n",
      "Epoch 73/100\n",
      "280/280 [==============================] - 0s 253us/step - loss: 0.0792 - sparse_categorical_accuracy: 1.0000 - val_loss: 0.3096 - val_sparse_categorical_accuracy: 0.8993\n",
      "Epoch 74/100\n",
      "280/280 [==============================] - 0s 236us/step - loss: 0.0803 - sparse_categorical_accuracy: 1.0000 - val_loss: 0.3097 - val_sparse_categorical_accuracy: 0.9065\n",
      "Epoch 75/100\n",
      "280/280 [==============================] - 0s 234us/step - loss: 0.0798 - sparse_categorical_accuracy: 1.0000 - val_loss: 0.3108 - val_sparse_categorical_accuracy: 0.9065\n",
      "Epoch 76/100\n",
      "280/280 [==============================] - 0s 235us/step - loss: 0.0776 - sparse_categorical_accuracy: 1.0000 - val_loss: 0.3117 - val_sparse_categorical_accuracy: 0.9137\n",
      "Epoch 77/100\n",
      "280/280 [==============================] - 0s 259us/step - loss: 0.0805 - sparse_categorical_accuracy: 1.0000 - val_loss: 0.3105 - val_sparse_categorical_accuracy: 0.9137\n",
      "Epoch 78/100\n",
      "280/280 [==============================] - 0s 271us/step - loss: 0.0798 - sparse_categorical_accuracy: 1.0000 - val_loss: 0.3102 - val_sparse_categorical_accuracy: 0.9137\n",
      "Epoch 79/100\n",
      "280/280 [==============================] - 0s 303us/step - loss: 0.0779 - sparse_categorical_accuracy: 1.0000 - val_loss: 0.3107 - val_sparse_categorical_accuracy: 0.9065\n",
      "Epoch 80/100\n",
      "280/280 [==============================] - 0s 274us/step - loss: 0.0772 - sparse_categorical_accuracy: 1.0000 - val_loss: 0.3096 - val_sparse_categorical_accuracy: 0.9065\n",
      "Epoch 81/100\n",
      "280/280 [==============================] - 0s 282us/step - loss: 0.0808 - sparse_categorical_accuracy: 1.0000 - val_loss: 0.3121 - val_sparse_categorical_accuracy: 0.9137\n",
      "Epoch 82/100\n",
      "280/280 [==============================] - 0s 254us/step - loss: 0.0786 - sparse_categorical_accuracy: 1.0000 - val_loss: 0.3105 - val_sparse_categorical_accuracy: 0.9065\n",
      "Epoch 83/100\n",
      "280/280 [==============================] - 0s 286us/step - loss: 0.0744 - sparse_categorical_accuracy: 1.0000 - val_loss: 0.3104 - val_sparse_categorical_accuracy: 0.9209\n",
      "Epoch 00083: early stopping\n"
     ]
    }
   ],
   "source": [
    "# Fit model\n",
    "history = model.fit(\n",
    "    x=F_train, y=y_train,\n",
    "    validation_data=(F_valid, y_valid), batch_size=32, epochs=100,\n",
    "    shuffle=True,\n",
    "    callbacks=[early_stopping]\n",
    ")"
   ]
  },
  {
   "cell_type": "markdown",
   "metadata": {},
   "source": [
    "**Comment:** The best result is 91.3 % accuracy on the test set."
   ]
  },
  {
   "cell_type": "markdown",
   "metadata": {},
   "source": [
    "We want to use a random forest classifier."
   ]
  },
  {
   "cell_type": "markdown",
   "metadata": {},
   "source": [
    "In this part it makes sense to merge the training and the validation sets for cross-validation (since we would not make use of the validation set otherwise)."
   ]
  },
  {
   "cell_type": "markdown",
   "metadata": {},
   "source": [
    "## Step 2: Try with SVMs<a name=\"step-6.2\"></a> ([top](#top-6))\n",
    "---"
   ]
  },
  {
   "cell_type": "code",
   "execution_count": null,
   "metadata": {},
   "outputs": [],
   "source": [
    "from sklearn.model_selection import GridSearchCV\n",
    "from sklearn.model_selection import StratifiedKFold\n",
    "from sklearn.pipeline import Pipeline\n",
    "from sklearn.svm import LinearSVC\n",
    "from sklearn.svm import SVC"
   ]
  },
  {
   "cell_type": "markdown",
   "metadata": {},
   "source": [
    "We want to tune the regularization strength of the logistic regression classifier with cross-validated grid search."
   ]
  },
  {
   "cell_type": "markdown",
   "metadata": {},
   "source": [
    "**Note:** We have imbalanced classes (e.g. 22.63% bike vs. 8.83% van)."
   ]
  },
  {
   "cell_type": "code",
   "execution_count": null,
   "metadata": {},
   "outputs": [],
   "source": [
    "df_counts = (pd\n",
    " .DataFrame(data=pd.Series(data=y_train_large).value_counts(), columns=['count'])\n",
    " .set_index(label_strs)\n",
    ")\n",
    "df_counts['fraction'] = df_counts['count'] / df_counts['count'].sum()\n",
    "df_counts.style.format({'fraction': '{:.2%}'})"
   ]
  },
  {
   "cell_type": "code",
   "execution_count": null,
   "metadata": {},
   "outputs": [],
   "source": [
    "# Create the estimator.\n",
    "svm_pipe = Pipeline([\n",
    "    ('svm', LinearSVC(random_state=RANDOM_STATE)),\n",
    "])"
   ]
  },
  {
   "cell_type": "code",
   "execution_count": null,
   "metadata": {},
   "outputs": [],
   "source": [
    "Cs = np.logspace(-4, 4, num=2 * 8 + 1)  # C defaults to 1.0.\n",
    "gammas = [0.01, 0.1, 1.0, 10.0, 'scale']\n",
    "\n",
    "# Setup the cross-validated grid search.\n",
    "grid = [\n",
    "    # LinearSVC (minize: squared hinge loss, strategy: one-vs-rest)\n",
    "    {\n",
    "        'svm__C': Cs,\n",
    "        'svm__class_weight':[None, 'balanced']\n",
    "    },\n",
    "    # SVC (kernel: linear, minimize: hinge loss, strategy: one-vs-one)\n",
    "    {\n",
    "        'svm': [SVC(random_state=RANDOM_STATE)],\n",
    "        'svm__kernel': ['linear'],\n",
    "        'svm__C': Cs,\n",
    "        'svm__class_weight':[None, 'balanced']\n",
    "    },\n",
    "    # SVC (kernel: RBF, minimize: hinge loss, strategy: one-vs-one)\n",
    "    {\n",
    "        'svm': [SVC(random_state=RANDOM_STATE)],\n",
    "        'svm__kernel': ['rbf'],\n",
    "        'svm__C': Cs,\n",
    "        'svm__gamma': gammas,\n",
    "        'svm__class_weight':[None, 'balanced']\n",
    "    }\n",
    "]\n",
    "\n",
    "cv = StratifiedKFold(n_splits=10, random_state=RANDOM_STATE)\n",
    "svm_gscv = GridSearchCV(svm_pipe, grid, n_jobs=-1, iid=False, refit=True, cv=cv, return_train_score=True)"
   ]
  },
  {
   "cell_type": "code",
   "execution_count": null,
   "metadata": {},
   "outputs": [],
   "source": [
    "# Fit/evaluate the estimator.\n",
    "svm_gscv.fit(F_train_large, y_train_large);"
   ]
  },
  {
   "cell_type": "code",
   "execution_count": null,
   "metadata": {},
   "outputs": [],
   "source": [
    "# Collect results in a data frame.\n",
    "df_results = (pd\n",
    "    .DataFrame({\n",
    "        'svm': svm_gscv.cv_results_['param_svm'],\n",
    "        'kernel': svm_gscv.cv_results_['param_svm__kernel'],\n",
    "        'C': svm_gscv.cv_results_['param_svm__C'],\n",
    "        'gamma': svm_gscv.cv_results_['param_svm__gamma'],\n",
    "        'class_weight': svm_gscv.cv_results_['param_svm__class_weight'],\n",
    "        'mean_train_score': svm_gscv.cv_results_['mean_train_score'],\n",
    "        'mean_test_score': svm_gscv.cv_results_['mean_test_score'],\n",
    "        'std_test_score': svm_gscv.cv_results_['std_test_score'],\n",
    "        'params': svm_gscv.cv_results_['params']\n",
    "    })\n",
    "    .sort_values(by='mean_test_score', ascending=False)\n",
    ")"
   ]
  },
  {
   "cell_type": "code",
   "execution_count": null,
   "metadata": {},
   "outputs": [],
   "source": [
    "df_results.head()"
   ]
  },
  {
   "cell_type": "code",
   "execution_count": null,
   "metadata": {},
   "outputs": [],
   "source": []
  }
 ],
 "metadata": {
  "kernelspec": {
   "display_name": "Python 3",
   "language": "python",
   "name": "python3"
  },
  "language_info": {
   "codemirror_mode": {
    "name": "ipython",
    "version": 3
   },
   "file_extension": ".py",
   "mimetype": "text/x-python",
   "name": "python",
   "nbconvert_exporter": "python",
   "pygments_lexer": "ipython3",
   "version": "3.6.7"
  }
 },
 "nbformat": 4,
 "nbformat_minor": 2
}
