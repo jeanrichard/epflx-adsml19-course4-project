{
 "cells": [
  {
   "cell_type": "markdown",
   "metadata": {},
   "source": [
    "# Course 4 - Project - Part 9: Results"
   ]
  },
  {
   "cell_type": "markdown",
   "metadata": {},
   "source": [
    "<a name=\"top-9\"></a>\n",
    "This notebook is concerned with *Part 9: Results*.\n",
    "\n",
    "**Contents:**\n",
    "* [Step 1: Results](#step-9.1)"
   ]
  },
  {
   "cell_type": "markdown",
   "metadata": {},
   "source": [
    "## Step 1: Results<a name=\"step-9.1\"></a> ([top](#top-9))\n",
    "---"
   ]
  },
  {
   "cell_type": "markdown",
   "metadata": {},
   "source": [
    "We begin with some imports."
   ]
  },
  {
   "cell_type": "code",
   "execution_count": 1,
   "metadata": {},
   "outputs": [],
   "source": [
    "# Standard library.\n",
    "import pathlib\n",
    "import typing as T\n",
    "\n",
    "# 3rd party.\n",
    "%matplotlib inline\n",
    "import numpy as np\n",
    "import pandas as pd\n",
    "import matplotlib.pyplot as plt\n",
    "\n",
    "# Project.\n",
    "import utils"
   ]
  },
  {
   "cell_type": "markdown",
   "metadata": {},
   "source": [
    "We read the data-frame with all the results."
   ]
  },
  {
   "cell_type": "code",
   "execution_count": 2,
   "metadata": {},
   "outputs": [
    {
     "data": {
      "text/html": [
       "<style  type=\"text/css\" >\n",
       "    #T_fdaa2fa4_2126_11ea_a933_acde48001122row6_col3 {\n",
       "            background-color:  yellow;\n",
       "        }    #T_fdaa2fa4_2126_11ea_a933_acde48001122row7_col3 {\n",
       "            background-color:  yellow;\n",
       "        }</style><table id=\"T_fdaa2fa4_2126_11ea_a933_acde48001122\" ><thead>    <tr>        <th class=\"blank level0\" ></th>        <th class=\"col_heading level0 col0\" >name</th>        <th class=\"col_heading level0 col1\" >part</th>        <th class=\"col_heading level0 col2\" >desc</th>        <th class=\"col_heading level0 col3\" >test_acc</th>    </tr></thead><tbody>\n",
       "                <tr>\n",
       "                        <th id=\"T_fdaa2fa4_2126_11ea_a933_acde48001122level0_row0\" class=\"row_heading level0 row0\" >0</th>\n",
       "                        <td id=\"T_fdaa2fa4_2126_11ea_a933_acde48001122row0_col0\" class=\"data row0 col0\" >k-NN</td>\n",
       "                        <td id=\"T_fdaa2fa4_2126_11ea_a933_acde48001122row0_col1\" class=\"data row0 col1\" >part-03</td>\n",
       "                        <td id=\"T_fdaa2fa4_2126_11ea_a933_acde48001122row0_col2\" class=\"data row0 col2\" >scaler=None, knn__n_neighbors=7, knn__metric=minkowski, knn__p=1</td>\n",
       "                        <td id=\"T_fdaa2fa4_2126_11ea_a933_acde48001122row0_col3\" class=\"data row0 col3\" >0.92</td>\n",
       "            </tr>\n",
       "            <tr>\n",
       "                        <th id=\"T_fdaa2fa4_2126_11ea_a933_acde48001122level0_row1\" class=\"row_heading level0 row1\" >1</th>\n",
       "                        <td id=\"T_fdaa2fa4_2126_11ea_a933_acde48001122row1_col0\" class=\"data row1 col0\" >decision tree (md=3)</td>\n",
       "                        <td id=\"T_fdaa2fa4_2126_11ea_a933_acde48001122row1_col1\" class=\"data row1 col1\" >part-04-a</td>\n",
       "                        <td id=\"T_fdaa2fa4_2126_11ea_a933_acde48001122row1_col2\" class=\"data row1 col2\" >max_depth=3</td>\n",
       "                        <td id=\"T_fdaa2fa4_2126_11ea_a933_acde48001122row1_col3\" class=\"data row1 col3\" >0.72</td>\n",
       "            </tr>\n",
       "            <tr>\n",
       "                        <th id=\"T_fdaa2fa4_2126_11ea_a933_acde48001122level0_row2\" class=\"row_heading level0 row2\" >2</th>\n",
       "                        <td id=\"T_fdaa2fa4_2126_11ea_a933_acde48001122row2_col0\" class=\"data row2 col0\" >pca + decision tree (md=3)</td>\n",
       "                        <td id=\"T_fdaa2fa4_2126_11ea_a933_acde48001122row2_col1\" class=\"data row2 col1\" >part-04-b</td>\n",
       "                        <td id=\"T_fdaa2fa4_2126_11ea_a933_acde48001122row2_col2\" class=\"data row2 col2\" >pca__n_components=14, dt__max_depth=3</td>\n",
       "                        <td id=\"T_fdaa2fa4_2126_11ea_a933_acde48001122row2_col3\" class=\"data row2 col3\" >0.78</td>\n",
       "            </tr>\n",
       "            <tr>\n",
       "                        <th id=\"T_fdaa2fa4_2126_11ea_a933_acde48001122level0_row3\" class=\"row_heading level0 row3\" >3</th>\n",
       "                        <td id=\"T_fdaa2fa4_2126_11ea_a933_acde48001122row3_col0\" class=\"data row3 col0\" >pca + decision tree (md=*)</td>\n",
       "                        <td id=\"T_fdaa2fa4_2126_11ea_a933_acde48001122row3_col1\" class=\"data row3 col1\" >part-04-c</td>\n",
       "                        <td id=\"T_fdaa2fa4_2126_11ea_a933_acde48001122row3_col2\" class=\"data row3 col2\" >pca__n_components=25, dt__max_depth=5</td>\n",
       "                        <td id=\"T_fdaa2fa4_2126_11ea_a933_acde48001122row3_col3\" class=\"data row3 col3\" >0.8</td>\n",
       "            </tr>\n",
       "            <tr>\n",
       "                        <th id=\"T_fdaa2fa4_2126_11ea_a933_acde48001122level0_row4\" class=\"row_heading level0 row4\" >4</th>\n",
       "                        <td id=\"T_fdaa2fa4_2126_11ea_a933_acde48001122row4_col0\" class=\"data row4 col0\" >logistic ovo/ovr/softmax</td>\n",
       "                        <td id=\"T_fdaa2fa4_2126_11ea_a933_acde48001122row4_col1\" class=\"data row4 col1\" >part-05-a</td>\n",
       "                        <td id=\"T_fdaa2fa4_2126_11ea_a933_acde48001122row4_col2\" class=\"data row4 col2\" >strategy=ovo, C=0.01</td>\n",
       "                        <td id=\"T_fdaa2fa4_2126_11ea_a933_acde48001122row4_col3\" class=\"data row4 col3\" >0.92</td>\n",
       "            </tr>\n",
       "            <tr>\n",
       "                        <th id=\"T_fdaa2fa4_2126_11ea_a933_acde48001122level0_row5\" class=\"row_heading level0 row5\" >5</th>\n",
       "                        <td id=\"T_fdaa2fa4_2126_11ea_a933_acde48001122row5_col0\" class=\"data row5 col0\" >logistic ovr/softmax</td>\n",
       "                        <td id=\"T_fdaa2fa4_2126_11ea_a933_acde48001122row5_col1\" class=\"data row5 col1\" >part-05-b</td>\n",
       "                        <td id=\"T_fdaa2fa4_2126_11ea_a933_acde48001122row5_col2\" class=\"data row5 col2\" >strategy=multinomial, C=0.46415888336127775</td>\n",
       "                        <td id=\"T_fdaa2fa4_2126_11ea_a933_acde48001122row5_col3\" class=\"data row5 col3\" >0.94</td>\n",
       "            </tr>\n",
       "            <tr>\n",
       "                        <th id=\"T_fdaa2fa4_2126_11ea_a933_acde48001122level0_row6\" class=\"row_heading level0 row6\" >6</th>\n",
       "                        <td id=\"T_fdaa2fa4_2126_11ea_a933_acde48001122row6_col0\" class=\"data row6 col0\" >random forest</td>\n",
       "                        <td id=\"T_fdaa2fa4_2126_11ea_a933_acde48001122row6_col1\" class=\"data row6 col1\" >part-06-a</td>\n",
       "                        <td id=\"T_fdaa2fa4_2126_11ea_a933_acde48001122row6_col2\" class=\"data row6 col2\" >n_estimators=100, max_depth=4, class_weight=balanced</td>\n",
       "                        <td id=\"T_fdaa2fa4_2126_11ea_a933_acde48001122row6_col3\" class=\"data row6 col3\" >0.96</td>\n",
       "            </tr>\n",
       "            <tr>\n",
       "                        <th id=\"T_fdaa2fa4_2126_11ea_a933_acde48001122level0_row7\" class=\"row_heading level0 row7\" >7</th>\n",
       "                        <td id=\"T_fdaa2fa4_2126_11ea_a933_acde48001122row7_col0\" class=\"data row7 col0\" >svm linear</td>\n",
       "                        <td id=\"T_fdaa2fa4_2126_11ea_a933_acde48001122row7_col1\" class=\"data row7 col1\" >part-06-b</td>\n",
       "                        <td id=\"T_fdaa2fa4_2126_11ea_a933_acde48001122row7_col2\" class=\"data row7 col2\" >svm_class=SVC, kernel=linear, C=0.001, class_weight=None</td>\n",
       "                        <td id=\"T_fdaa2fa4_2126_11ea_a933_acde48001122row7_col3\" class=\"data row7 col3\" >0.96</td>\n",
       "            </tr>\n",
       "            <tr>\n",
       "                        <th id=\"T_fdaa2fa4_2126_11ea_a933_acde48001122level0_row8\" class=\"row_heading level0 row8\" >8</th>\n",
       "                        <td id=\"T_fdaa2fa4_2126_11ea_a933_acde48001122row8_col0\" class=\"data row8 col0\" >svm rbf</td>\n",
       "                        <td id=\"T_fdaa2fa4_2126_11ea_a933_acde48001122row8_col1\" class=\"data row8 col1\" >part-06-c</td>\n",
       "                        <td id=\"T_fdaa2fa4_2126_11ea_a933_acde48001122row8_col2\" class=\"data row8 col2\" >svm_class=SVC, kernel=rbf, C=10000.0, gamma=scale, class_weight=balanced</td>\n",
       "                        <td id=\"T_fdaa2fa4_2126_11ea_a933_acde48001122row8_col3\" class=\"data row8 col3\" >0.9</td>\n",
       "            </tr>\n",
       "            <tr>\n",
       "                        <th id=\"T_fdaa2fa4_2126_11ea_a933_acde48001122level0_row9\" class=\"row_heading level0 row9\" >9</th>\n",
       "                        <td id=\"T_fdaa2fa4_2126_11ea_a933_acde48001122row9_col0\" class=\"data row9 col0\" >1-layer nn</td>\n",
       "                        <td id=\"T_fdaa2fa4_2126_11ea_a933_acde48001122row9_col1\" class=\"data row9 col1\" >part-07-a</td>\n",
       "                        <td id=\"T_fdaa2fa4_2126_11ea_a933_acde48001122row9_col2\" class=\"data row9 col2\" >dropout_rate=0.3333333333333333, l2_alpha=0.01</td>\n",
       "                        <td id=\"T_fdaa2fa4_2126_11ea_a933_acde48001122row9_col3\" class=\"data row9 col3\" >0.9</td>\n",
       "            </tr>\n",
       "            <tr>\n",
       "                        <th id=\"T_fdaa2fa4_2126_11ea_a933_acde48001122level0_row10\" class=\"row_heading level0 row10\" >10</th>\n",
       "                        <td id=\"T_fdaa2fa4_2126_11ea_a933_acde48001122row10_col0\" class=\"data row10 col0\" >2-layer nn</td>\n",
       "                        <td id=\"T_fdaa2fa4_2126_11ea_a933_acde48001122row10_col1\" class=\"data row10 col1\" >part-07-b</td>\n",
       "                        <td id=\"T_fdaa2fa4_2126_11ea_a933_acde48001122row10_col2\" class=\"data row10 col2\" >dropout_rate=(0.0, 0.1), hidden_n_neurons=500, l2_alpha=0.0</td>\n",
       "                        <td id=\"T_fdaa2fa4_2126_11ea_a933_acde48001122row10_col3\" class=\"data row10 col3\" >0.94</td>\n",
       "            </tr>\n",
       "            <tr>\n",
       "                        <th id=\"T_fdaa2fa4_2126_11ea_a933_acde48001122level0_row11\" class=\"row_heading level0 row11\" >11</th>\n",
       "                        <td id=\"T_fdaa2fa4_2126_11ea_a933_acde48001122row11_col0\" class=\"data row11 col0\" >cnn</td>\n",
       "                        <td id=\"T_fdaa2fa4_2126_11ea_a933_acde48001122row11_col1\" class=\"data row11 col1\" >part-08-a</td>\n",
       "                        <td id=\"T_fdaa2fa4_2126_11ea_a933_acde48001122row11_col2\" class=\"data row11 col2\" >input_shape=(128, 128, 3), dropout_rate=0.5, l2_alpha=0.001</td>\n",
       "                        <td id=\"T_fdaa2fa4_2126_11ea_a933_acde48001122row11_col3\" class=\"data row11 col3\" >0.64</td>\n",
       "            </tr>\n",
       "            <tr>\n",
       "                        <th id=\"T_fdaa2fa4_2126_11ea_a933_acde48001122level0_row12\" class=\"row_heading level0 row12\" >12</th>\n",
       "                        <td id=\"T_fdaa2fa4_2126_11ea_a933_acde48001122row12_col0\" class=\"data row12 col0\" >cnn-refit</td>\n",
       "                        <td id=\"T_fdaa2fa4_2126_11ea_a933_acde48001122row12_col1\" class=\"data row12 col1\" >part-08-b</td>\n",
       "                        <td id=\"T_fdaa2fa4_2126_11ea_a933_acde48001122row12_col2\" class=\"data row12 col2\" >input_shape=(128, 128, 3), dropout_rate=0.5, l2_alpha=0.001</td>\n",
       "                        <td id=\"T_fdaa2fa4_2126_11ea_a933_acde48001122row12_col3\" class=\"data row12 col3\" >0.7</td>\n",
       "            </tr>\n",
       "    </tbody></table>"
      ],
      "text/plain": [
       "<pandas.io.formats.style.Styler at 0x111beda58>"
      ]
     },
     "execution_count": 2,
     "metadata": {},
     "output_type": "execute_result"
    }
   ],
   "source": [
    "df_results = utils.get_or_create_results().reset_index().sort_values(by='part')\n",
    "df_results.style.highlight_max()"
   ]
  },
  {
   "cell_type": "markdown",
   "metadata": {},
   "source": [
    "We present a final visualization which summarizes the test accuracy of all of the models."
   ]
  },
  {
   "cell_type": "code",
   "execution_count": 3,
   "metadata": {},
   "outputs": [
    {
     "data": {
      "image/png": "[encoded data removed]",
      "text/plain": [
       "<Figure size 432x288 with 1 Axes>"
      ]
     },
     "metadata": {
      "needs_background": "light"
     },
     "output_type": "display_data"
    }
   ],
   "source": [
    "labels = df_results['name']\n",
    "acc_values = df_results['test_acc']\n",
    "\n",
    "fig, ax = plt.subplots()\n",
    "xcor = np.arange(len(acc_values))\n",
    "ax.bar(xcor, acc_values)\n",
    "ax.set_xticks(xcor)\n",
    "ax.set_xticklabels(labels, rotation=45, ha='right')\n",
    "ax.set_ylabel('Accuracy')\n",
    "\n",
    "for i, acc in enumerate(acc_values):\n",
    "    plt.annotate(f'{acc:,.2f}', xy=(i, acc), rotation=90, color=\"white\", ha='center', va='top')\n",
    "\n",
    "ax.set_title(f'Accuracy of the models')\n",
    "plt.show()"
   ]
  },
  {
   "cell_type": "code",
   "execution_count": null,
   "metadata": {},
   "outputs": [],
   "source": []
  }
 ],
 "metadata": {
  "kernelspec": {
   "display_name": "Python 3",
   "language": "python",
   "name": "python3"
  },
  "language_info": {
   "codemirror_mode": {
    "name": "ipython",
    "version": 3
   },
   "file_extension": ".py",
   "mimetype": "text/x-python",
   "name": "python",
   "nbconvert_exporter": "python",
   "pygments_lexer": "ipython3",
   "version": "3.6.9"
  }
 },
 "nbformat": 4,
 "nbformat_minor": 2
}
